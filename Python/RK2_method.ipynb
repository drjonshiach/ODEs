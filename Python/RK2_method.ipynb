{
 "cells": [
  {
   "cell_type": "markdown",
   "metadata": {},
   "source": [
    "# Computational Methods in Ordinary Differential Equations\n",
    "\n",
    "*Dr Jon Shiach, Department of Computing and Mathematics, Manchester Metropolitan University*"
   ]
  },
  {
   "cell_type": "markdown",
   "metadata": {},
   "source": [
    "---\n",
    "# Second-Order Explicit Runge-Kutta Method\n",
    "\n",
    "The second-order explicit [**Runge-Kutta**](https://en.wikipedia.org/wiki/Runge%E2%80%93Kutta_methods) method (RK2) can be written as\n",
    "\n",
    "\\begin{align*}\n",
    "    y_{n+1} &= y_n + \\frac{h}{2}(k_1 + k_2), \\\\\n",
    "    k_1 &= f(t_n, y_n), \\\\\n",
    "    k_2 &= f(t_n + h, y_n + hk_1),\n",
    "\\end{align*}\n",
    "\n",
    "or alternatively using by the Butcher tableau\n",
    "\n",
    "$$\\begin{array}{c|cc} 0 & 0 \\cr 1 & 1 \\cr \\hline & \\frac{1}{2} & \\frac{1}{2} \\end{array}$$\n",
    "\n",
    "The code below defines a function `rk2` that solves an IVP using the second-order explicit Runge-Kutta method where `tspan` is a two element array containing the lower and upper bounds of the $t$ domain, `y0` is the value of $y$ at the lower bound and `h` is the step length."
   ]
  },
  {
   "cell_type": "code",
   "execution_count": 1,
   "metadata": {},
   "outputs": [],
   "source": [
    "import numpy as np\n",
    "\n",
    "\n",
    "def rk2(f, tspan, y0, h):\n",
    "    \"\"\"\n",
    "    This function calculates the solution to an IVP using the second-order \n",
    "    explicit Runge-Kutta method\n",
    "    \"\"\"\n",
    "    nsteps = int((tspan[1] - tspan[0]) / h)\n",
    "    t = np.zeros(nsteps + 1)\n",
    "    y = np.zeros(nsteps + 1)\n",
    "    t[0] = tspan[0]\n",
    "    y[0] = y0\n",
    "    \n",
    "    for n in range(nsteps):\n",
    "        k1 = f(t[n], y[n])\n",
    "        k2 = f(t[n] + h, y[n] + h * k1)\n",
    "        y[n+1] = y[n] + 0.5 * h * (k1 + k2)\n",
    "        t[n+1] = t[n] + h\n",
    "    \n",
    "    return t, y"
   ]
  },
  {
   "cell_type": "markdown",
   "metadata": {},
   "source": [
    "#### Example 1\n",
    "The code below uses the Euler method to calculate the solution to the IVP\n",
    "\n",
    "$$ y' = y \\sin^2(t), \\qquad t \\in [0, 5], \\qquad y_0 = 1,$$\n",
    "\n",
    "using a step length $h=0.5$."
   ]
  },
  {
   "cell_type": "code",
   "execution_count": 4,
   "metadata": {},
   "outputs": [
    {
     "name": "stdout",
     "output_type": "stream",
     "text": [
      "-----------------\n",
      "  t  |     y\n",
      "-----------------\n",
      " 0.0 |  1.000000\n",
      " 0.5 |  1.057462\n",
      " 1.0 |  1.326929\n",
      " 1.5 |  2.008750\n",
      " 2.0 |  3.130216\n",
      " 2.5 |  4.173408\n",
      " 3.0 |  4.571604\n",
      " 3.5 |  4.736398\n",
      " 4.0 |  5.602018\n",
      " 4.5 |  8.125678\n",
      " 5.0 | 12.827275\n",
      "-----------------\n"
     ]
    },
    {
     "data": {
      "image/png": "[encoded data removed]",
      "text/plain": [
       "<Figure size 432x288 with 1 Axes>"
      ]
     },
     "metadata": {
      "needs_background": "light"
     },
     "output_type": "display_data"
    }
   ],
   "source": [
    "# Define ODE function\n",
    "def f(t, y):\n",
    "    return y * np.sin(t)**2\n",
    "\n",
    "# Define IVP parameters\n",
    "tspan = [0, 5]\n",
    "y0 = 1\n",
    "h = 0.5\n",
    "\n",
    "# Invoke the RK2 method to solve IVP\n",
    "t, y = rk2(f, tspan, y0, h)\n",
    "\n",
    "# Output solution table\n",
    "hline = '-' * 17\n",
    "print(hline + '\\n  t  |     y\\n' + hline)\n",
    "for i in range(len(t)):\n",
    "    print(\" {:0.1f} | {:9.6f}\".format(t[i], y[i]))\n",
    "print(hline)  \n",
    "\n",
    "# Plot numerical and exact solutions\n",
    "import matplotlib.pyplot as plt\n",
    "\n",
    "texact = np.linspace(tspan[0], tspan[1], 100)\n",
    "yexact = np.exp(0.5 * (texact - np.sin(texact) * np.cos(texact)))\n",
    "\n",
    "fig, ax = plt.subplots()\n",
    "ax.plot(texact, yexact, 'k-', label='exact')\n",
    "ax.plot(t, y, 'bo-', label='RK2')\n",
    "ax.set_xlabel('t')\n",
    "ax.set_ylabel('y(t)')\n",
    "ax.legend()\n",
    "\n",
    "plt.show()"
   ]
  },
  {
   "cell_type": "markdown",
   "metadata": {},
   "source": [
    "We can see that the RK2 method gives a reasonable approximation of the exact solution. To compare the RK2 method to the Euler method the solution using the Euler method for the same step length to the axes in the code cell below."
   ]
  },
  {
   "cell_type": "code",
   "execution_count": 5,
   "metadata": {},
   "outputs": [
    {
     "data": {
      "image/png": "[encoded data removed]",
      "text/plain": [
       "<Figure size 432x288 with 1 Axes>"
      ]
     },
     "metadata": {
      "needs_background": "light"
     },
     "output_type": "display_data"
    }
   ],
   "source": [
    "def euler(f, tspan, y0, h):\n",
    "    \"\"\"\n",
    "    This function calculates the solution to the following IVP using the Euler method\n",
    "    \n",
    "            y'(t) = f(t, y(t)), tspan = [tmin, tmax], y(tmin) = y0\n",
    "    \"\"\"  \n",
    "    nsteps = int((tspan[1] - tspan[0]) / h)\n",
    "    t = np.zeros(nsteps + 1)\n",
    "    y = np.zeros(nsteps + 1)\n",
    "    t[0] = tspan[0]\n",
    "    y[0] = y0\n",
    "    \n",
    "    for n in range(nsteps):\n",
    "        y[n+1] = y[n] + h * f(t[n], y[n])\n",
    "        t[n+1] = t[n] + h\n",
    "    \n",
    "    return t, y\n",
    "\n",
    "\n",
    "# Invoke the Euler method to solve IVP\n",
    "teuler, yeuler = euler(f, tspan, y0, h)\n",
    "\n",
    "# Plot numerical and exact solutions\n",
    "fig, ax = plt.subplots()\n",
    "ax.plot(texact, yexact, 'k-', label='exact')\n",
    "ax.plot(t, y, 'bo-', label='RK2')\n",
    "ax.plot(teuler, yeuler, 'ro-', label='Euler')\n",
    "ax.set_xlabel('t')\n",
    "ax.set_ylabel('y(t)')\n",
    "ax.legend()\n",
    "plt.show()"
   ]
  }
 ],
 "metadata": {
  "kernelspec": {
   "display_name": "Python 3",
   "language": "python",
   "name": "python3"
  },
  "language_info": {
   "codemirror_mode": {
    "name": "ipython",
    "version": 3
   },
   "file_extension": ".py",
   "mimetype": "text/x-python",
   "name": "python",
   "nbconvert_exporter": "python",
   "pygments_lexer": "ipython3",
   "version": "3.7.4"
  }
 },
 "nbformat": 4,
 "nbformat_minor": 2
}
