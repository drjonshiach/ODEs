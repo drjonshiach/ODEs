{
 "cells": [
  {
   "cell_type": "markdown",
   "metadata": {},
   "source": [
    "# Computational Methods in Ordinary Differential Equations\n",
    "\n",
    "*Dr Jon Shiach, Department of Computing and Mathematics, Manchester Metropolitan University*"
   ]
  },
  {
   "cell_type": "markdown",
   "metadata": {},
   "source": [
    "---\n",
    "## Stability\n",
    "The derivation of a numerical method to solve an ODE involves omitting the higher-order terms from the Taylor series known as **truncating** the [Taylor series](https://en.wikipedia.org/wiki/Taylor_series). In doing this we introduce an errors which at each step of the method and it is important to be able to analyse the extent to which these errors affect the numerical solutions. In the majority of cases the exact solution of an ODE is unknown (if it was known we would not need to use a numerical method to solve it) so we cannot determine the values of the errors but we can examine their behaviour through each step of the method.\n",
    "\n",
    "To do this it is necessary to introduce terminology used to describe the [truncation errors](https://en.wikipedia.org/wiki/Truncation_error_(numerical_integration)).\n",
    "\n",
    "> **Definition:** Let $y_n$ be a numerical approximation of the exact solution $\\bar{y}_n$ for some step $n$ of a method then the **local truncation error** is \n",
    "<br><br>\n",
    "$$\\tau_n = |y_n - \\bar{y}_n|,$$\n",
    "\n",
    "> **Definition:** The **global truncation error** is the accumulation of the local truncation errors upto the current step\n",
    "<br><br>\n",
    "$$e_n = \\sum_{i=0}^n \\tau_i.$$\n",
    "\n",
    "If $|\\tau_{i+1} - \\tau_{i}|>1$ (i.e., the local truncation errors grow from one step to the next) then $e_n \\to \\infty$ and the method is said to be **unstable** and unusable. So for a method to be considered **stable** we need the the growth in the local truncation errors to remain bounded which leads to the definition of numerical stability.\n",
    "\n",
    "> **Definition**: If $\\tau_n$ is the local truncation error of a numerical method for solving a differential equation then the method is considered **stable** if \n",
    "<br><br>\n",
    "$$|\\tau_{n+1} - \\tau_{n}|\\leq 1,$$\n",
    "<br>\n",
    "for all steps of the method."
   ]
  },
  {
   "cell_type": "markdown",
   "metadata": {},
   "source": [
    "#### Example\n",
    "Consider the [Euler method](https://en.wikipedia.org/wiki/Euler_method) when applied to solve the ODE $y' = -2.3y$ over the domain $t \\in [0, 5]$ with an intial condition $y(0) = 1$. This ODE has the exact solution $y=\\exp(-2.3t)$. The code below compares the Euler method solutions using two steps lengths of $h=0.7$ and $h=1$ to the exact solution."
   ]
  },
  {
   "cell_type": "code",
   "execution_count": 1,
   "metadata": {},
   "outputs": [
    {
     "data": {
      "text/plain": [
       "<Figure size 640x480 with 1 Axes>"
      ]
     },
     "metadata": {},
     "output_type": "display_data"
    }
   ],
   "source": [
    "import numpy as np\n",
    "import matplotlib.pyplot as plt\n",
    "from matplotlib import rc\n",
    "rc('text', usetex=True)\n",
    "\n",
    "def euler(tspan, y0, h):\n",
    "    \n",
    "    nsteps = int((tspan[1] - tspan[0]) / h)\n",
    "    t = np.zeros(nsteps + 1)\n",
    "    y = np.zeros(nsteps + 1)\n",
    "    t[0] = tspan[0]\n",
    "    y[0] = y0\n",
    "    \n",
    "    for n in range(nsteps):\n",
    "        y[n+1] = y[n] + h * f(t[n], y[n])\n",
    "        t[n+1] = t[n] + h\n",
    "    \n",
    "    return t, y\n",
    "\n",
    "\n",
    "def f(t, y):\n",
    "    return -2.3 * y\n",
    "\n",
    "\n",
    "def exact_sol(t):\n",
    "    return np.exp(-2.3 * t)\n",
    "\n",
    "\n",
    "# Define IVP parameters\n",
    "tspan = [ 0, 5 ]\n",
    "y0 = 1\n",
    "\n",
    "# Solve IVP using the Euler method \n",
    "t1, y1 = euler(tspan, y0, 0.7) # h = 0.7\n",
    "t2, y2 = euler(tspan, y0, 1.0) # h = 1.0\n",
    "\n",
    "# Calculate exact solution\n",
    "t3 = np.linspace(tspan[0], tspan[1], 100)\n",
    "y3 = exact_sol(t3)\n",
    "\n",
    "# Plot numerical and exact solutions\n",
    "fig, ax = plt.subplots()\n",
    "\n",
    "ax.plot(t3, y3, 'k-', label='Exact')\n",
    "ax.plot(t1, y1, 'bo-', label='Euler ($h=0.7$)')\n",
    "ax.plot(t2, y2, 'ro-', label='Euler ($h=1.0$)')\n",
    "ax.set_xlabel('$t$', fontsize=12)\n",
    "ax.set_ylabel('$y(t)$', fontsize=12)\n",
    "ax.set_title(\"Euler method solutions for $y'=-2.3y$\", fontsize=12)\n",
    "ax.legend()\n",
    "\n",
    "plt.show()"
   ]
  },
  {
   "cell_type": "markdown",
   "metadata": {},
   "source": [
    "Here we can see that the solution using $h=0.7$ remains stable whereas the solution using $h=1.0$ is diverging and unstable."
   ]
  },
  {
   "cell_type": "markdown",
   "metadata": {},
   "source": [
    "### Stability functions\n",
    "\n",
    "To examine the behaviour of the local trunction errors as we step through a method we use the test ODE $y' = \\lambda y$. As the values of $y_{n+1}$ are updated using the values of $y_n$ so are the values of $\\tau_{n+1}$ using $\\tau_n$ by the same method. This allows us to define a **stability function** for a method.\n",
    "\n",
    "> **Definition:** The **stability function** of a method, $R(z)$ is the rate of growth over a single step of the method when applied to calculate the solution of an ODE of the form $y'=\\lambda y$ where $z = h\\lambda$ and $h$ is the step size, i.e.,\n",
    "<br><br>\n",
    "$$y_{n+1} = R(z)y_n.$$\n",
    "\n",
    "#### Example\n",
    "if the Euler method is used to solve and ODE of the form $y'=f(t, y)$ then the solution will be updated over one step using\n",
    "\n",
    "$$y_{n+1} = y_n + hf(t_n, y_n),$$\n",
    "\n",
    "then the local truncation errors will also update the same step by\n",
    "\n",
    "$$\\tau_{n+1} = \\tau_n + hf(t_n, \\tau_n).$$\n",
    "\n",
    "Applying the Euler method to the test ODE this we have\n",
    "\n",
    "$$y_{n+1} = y_n + h\\lambda y_n.$$\n",
    "\n",
    "Let $z = h\\lambda$ then\n",
    "\n",
    "\\begin{align*}\n",
    "    y_{n+1} &= y_n + zy_n \\\\\n",
    "    &= (1 + z) y_n.\n",
    "\\end{align*}\n",
    "\n",
    "So the stability function of the Euler method is $R(z) = 1 + z$."
   ]
  },
  {
   "cell_type": "markdown",
   "metadata": {},
   "source": [
    "### Absolute stability\n",
    "We have seen that a necessary condition for stability of a method is that the local truncation errors must not grow from one step to the next. A method satisfying this basic condition is considered to be **absolutely stable**. Since the stability function $R(z)$ is expressed using $z=h\\lambda$ then a method may be stable for some value of $z$ and unstable for others. This provides the definition for absolute stability. \n",
    "\n",
    "> **Definition:** A method is considered to be **absolutely stable** if $|R(z)\\leq 1|$ for all $z\\in \\mathbb{C}$.\n",
    "\n",
    "Of course we require our methods to be stable so it is useful to know for what values of $z$ we have a stable method. This gives the definition of the **region of absolute stability**.\n",
    "\n",
    "> **Definition:** The **region of absolute stability** is the set of all $z\\in \\mathbb{C}$ for which a method is absolutely stable.\n",
    "<br><br>\n",
    "$$\\text{region of absolute stability} = \\{ z : z \\in \\mathbb{C}, |R(z)| \\leq 1 \\}.$$\n",
    "\n",
    "#### Example\n",
    "The stability function for the Euler method is $R(z) = 1 + z$. The code below generates a set of points in the complex plane $z = x + yi$ and plots the contour where $|R(z)|=1$ which represents the boundary of the stability region of the Euler method. "
   ]
  },
  {
   "cell_type": "code",
   "execution_count": 2,
   "metadata": {},
   "outputs": [
    {
     "data": {
      "image/png": "[encoded data removed]",
      "text/plain": [
       "<Figure size 432x288 with 1 Axes>"
      ]
     },
     "metadata": {
      "needs_background": "light"
     },
     "output_type": "display_data"
    }
   ],
   "source": [
    "import numpy as np\n",
    "import matplotlib.pyplot as plt\n",
    "from matplotlib import rc\n",
    "rc('text', usetex=True)\n",
    "\n",
    "# Generate z values\n",
    "x = np.linspace(-5, 5, 100)\n",
    "y = np.linspace(-5, 5, 100)\n",
    "[X, Y] = np.meshgrid(x, y)\n",
    "Z = X + Y * 1j\n",
    "\n",
    "# Define the stability function for the Euler method\n",
    "Rz = 1 + Z\n",
    " \n",
    "# Plot the region of absolute stability\n",
    "fig, ax = plt.subplots()\n",
    "\n",
    "ax.contourf(X, Y, abs(Rz), levels=[0, 1], colors='lightskyblue')\n",
    "ax.contour(X, Y, abs(Rz), levels=[1])\n",
    "ax.plot([-10, 10], [0, 0], 'k', linewidth=1)\n",
    "ax.plot([0, 0], [-10, 10], 'k', linewidth=1)\n",
    "\n",
    "ax.set_title('The region of absolute stability of the Euler method')\n",
    "ax.set_xlabel('$\\mathrm{Re}(z)$')\n",
    "ax.set_ylabel('$\\mathrm{Im}(z)$')\n",
    "ax.set_xlim(-3, 1)\n",
    "ax.set_ylim(-1.5, 1.5)\n",
    "\n",
    "plt.show()"
   ]
  },
  {
   "cell_type": "markdown",
   "metadata": {},
   "source": [
    "The Euler method for solving $y'=\\lambda y$ will be stable for point $z$ that lies within the shaded region."
   ]
  },
  {
   "cell_type": "markdown",
   "metadata": {},
   "source": [
    "### Interval of absolute stability\n",
    "The choice of step length used in a method will depend on accuracy requirements, computational resources available and of course stability. It is often necessary to use as large a value of the step length as possible permitted by the stability requirements to minimise the computational effort required to solve an ODE. The range values of the step length that can be chosen is governed by the stability region and provides use with the following definition.\n",
    "\n",
    "> **Definition:** The range of real values that the step length $h$ of a method can take that ensures a method remains absolutely stable is known as the **interval of absolute stability**\n",
    "\n",
    "The region of absolute stability for the Euler method plotted above shows that the interval of absolute stability is\n",
    "\n",
    "$$z \\in [-2, 0],$$\n",
    "\n",
    "i.e., the real part of the region of absolute stability.\n",
    "\n",
    "Since $z=h\\lambda$ then\n",
    "\\begin{align*}\n",
    "    h \\in \\left[ -\\frac{2}{\\lambda}, 0\\right]\n",
    "\\end{align*}\n",
    "so we have the condition $h \\leq -\\dfrac{2}{\\lambda}$.\n",
    "\n",
    "#### Example\n",
    "The step length for the Euler method when used to solve the ODE $y'=-2.3y$ must satisfy\n",
    "$$h \\leq \\frac{2}{2.3} \\approx 0.8696.$$\n",
    "\n",
    "This is why in the first example the solution using $h=0.7$ was stable since $0.7 < 0.8696$ and the solution using $h=1.0$ was unstable since $1 > 0.8696$."
   ]
  },
  {
   "cell_type": "markdown",
   "metadata": {},
   "source": [
    "## Stability function of a Runge-Kutta Method\n",
    "\n",
    "The general form of a Runge-Kutta method is\n",
    "\n",
    "\\begin{align*}\n",
    "    y_{n+1} &= y_n + h\\sum_{i=1}^s b_i k_i, \\\\\n",
    "    k_i &= f\\left(t_n + c_ih, y_n + h\\sum_{j=1}^s a_{ij}k_j\\right).\n",
    "\\end{align*}\n",
    "\n",
    "Let $Y_i = y_n + h\\displaystyle\\sum_{j=1}^s a_{ij}k_j$ and applying the method to the test ODE $y'=\\lambda y$ the method becomes\n",
    "\n",
    "\\begin{align*}\n",
    "    y_{n+1} &= y_n + h\\lambda \\sum_{i=1}^s b_i Y_i, \\\\\n",
    "    Y_i &= y_n + h\\lambda \\displaystyle\\sum_{j=1}^s a_{ij} Y_j.\n",
    "\\end{align*}\n",
    "\n",
    "Let $z=h\\lambda$ and expanding out the summations in the stage values gives\n",
    "\n",
    "\\begin{align*}\n",
    "    Y_1 &= y_n + z (a_{11}Y_1 + a_{21}Y_2 + \\cdots + a_{1s}Y_s), \\\\\n",
    "    Y_2 &= y_n + z (a_{21}Y_1 + a_{22}Y_2 + \\cdots + a_{2s}Y_s), \\\\\n",
    "    & \\vdots \\\\\n",
    "    Y_s &= y_n + z (a_{s1}Y_1 + a_{s2}Y_2 + \\cdots + a_{ss}Y_s).\n",
    "\\end{align*}\n",
    "\n",
    "Let $Y = (Y_1, Y_2, \\ldots, Y_s)^T$ and $\\mathbf{e} = (1, 1, \\ldots, 1)^T$ then we can write the stage values in vector form as\n",
    "\n",
    "\\begin{align*}\n",
    "    Y &= \\mathbf{e} y_n + z A \\cdot Y.\n",
    "\\end{align*}\n",
    "\n",
    "Substituting $\\displaystyle\\sum_{i=1}^s b_iY_i = \\mathbf{b}^T \\cdot Y$ (the vector $\\mathbf{b}$ is a column vector) into the expression for $y_{n+1}$ gives the vector form of a Runge-Kutta method to solve the test equation\n",
    "\n",
    "\\begin{align*}\n",
    "    y_{n+1} &= y_n + z \\mathbf{b}^T \\cdot Y.\n",
    "\\end{align*}"
   ]
  },
  {
   "cell_type": "markdown",
   "metadata": {},
   "source": [
    "### Stability function of explicit Runge-Kutta methods\n",
    "\n",
    "Rerranging the vector equation for $Y$ seen above we have.\n",
    "\n",
    "\\begin{align*}\n",
    "    Y &= (I - zA)^{-1} \\cdot \\mathbf{e} y_n\n",
    "\\end{align*}\n",
    "\n",
    "Substituting into the vector form of the Runge-Kutta method gives\n",
    "\n",
    "\\begin{align*}\n",
    "    y_{n+1} &= y_n + z\\mathbf{b}^T \\cdot (I - zA)^{-1} \\cdot \\mathbf{e} y_n\\\\\n",
    "    &= (1 + z\\mathbf{b}^T \\cdot (I - zA)^{-1} \\cdot \\mathbf{e})y_n\n",
    "\\end{align*}\n",
    "\n",
    "so the stability function is\n",
    "\n",
    "$$R(z) = 1 + z\\mathbf{b}^T \\cdot (I - zA)^{-1} \\cdot \\mathbf{e}.$$ \n",
    "\n",
    "Using the geometric series of matrices $\\sum_{k=0}^\\infty (zA)^k = (I - zA)^{-1}$, the stabilty function can be written as the infinite series\n",
    "\n",
    "\\begin{align*}\n",
    "    R(z) &= 1 + \\sum_{k=0}^s \\mathbf{b}^T \\cdot A^k \\cdot \\mathbf{e} \\, z^k\n",
    "\\end{align*}\n",
    "\n",
    "Since the solution to the test ODE is $y=\\exp(t)$, over one step of an Explicit Runge-Kutta (ERK) method we would expect the local truncation errors to change at a rate of $\\exp(z)$, \n",
    "\n",
    "$$\\exp(z) = \\sum_{k=0}^\\infty \\frac{1}{k!}z^k = 1 + z + \\frac{1}{2}z^2 + \\frac{1}{6}z^3 + \\frac{1}{24}z^4 + \\cdots$$\n",
    "\n",
    "Comparing the coefficients of $z^k$ in $R(z)$ and $e^z$ we have\n",
    "\n",
    "$$\\frac{1}{k!} = \\mathbf{b}^T\\cdot A^{k-1} \\cdot \\mathbf{e},$$\n",
    "\n",
    "which must be satisfied up to the $k$th term in order for a $k$th-order ERK method to be stable."
   ]
  },
  {
   "cell_type": "markdown",
   "metadata": {},
   "source": [
    "#### Example\n",
    "Determine the stability function for the following Runge-Kutta method and hences find its order.\n",
    "\n",
    "$$\\begin{array}{c|cccc}\n",
    "    0 & \\cr\n",
    "    \\frac{1}{2} & \\frac{1}{2} \\cr\n",
    "    \\frac{3}{4} & 0 & \\frac{3}{4} \\cr\n",
    "    1 & \\frac{2}{9} & \\frac{1}{3} & \\frac{4}{9} \\cr \\hline\n",
    "    & \\frac{7}{24} & \\frac{1}{4} & \\frac{1}{3} & \\frac{1}{8}\n",
    "    \\end{array}$$\n",
    "    \n",
    "The code below calculates the coefficients and outputs the stability function $R(z)$ for this ERK method."
   ]
  },
  {
   "cell_type": "code",
   "execution_count": 3,
   "metadata": {},
   "outputs": [
    {
     "name": "stdout",
     "output_type": "stream",
     "text": [
      "R(z) = 1 + [1]*z**1 + [1/2]*z**2 + [3/16]*z**3 + [1/48]*z**4"
     ]
    }
   ],
   "source": [
    "import numpy as np\n",
    "from sympy import Rational\n",
    "\n",
    "# Define ERK method\n",
    "A = np.array([[0, 0, 0, 0],\n",
    "             [Rational('1/2'), 0, 0, 0],\n",
    "             [0, Rational('3/4'), 0, 0],\n",
    "             [Rational('2/9'), Rational('1/3'), Rational('4/9'), 0]])\n",
    "b = np.array([Rational('7/24'), Rational('1/4'), Rational('1/3'), Rational('1/8')])\n",
    "e = np.array([[1], [1], [1], [1]])\n",
    "s = 4\n",
    "\n",
    "# Determine stability function\n",
    "print(\"R(z) = 1\", end=\"\")\n",
    "for k in range(s):\n",
    "    coeff = np.matmul(b, np.matmul(np.linalg.matrix_power(A, k), e))\n",
    "    print(\" + {}*z**{}\".format(coeff, k+1), end=\"\")"
   ]
  },
  {
   "cell_type": "markdown",
   "metadata": {},
   "source": [
    "So the stability function is \n",
    "\n",
    "$$R(z) = 1 + z + \\frac{1}{2}z^2 + \\frac{3}{16}z^3 + \\frac{1}{48}z^4$$\n",
    "\n",
    "which agrees to the series expansion of $\\exp(z)$ upto and including the $z^2$ term. Therefore this is a second-order ERK method.\n"
   ]
  },
  {
   "cell_type": "markdown",
   "metadata": {},
   "source": [
    "#### Example\n",
    "The code below calculates the stability functions of the first, second, third and fourth-order ERK methods and plots their regions of absolute stability."
   ]
  },
  {
   "cell_type": "code",
   "execution_count": 21,
   "metadata": {},
   "outputs": [
    {
     "data": {
      "image/png": "[encoded data removed]",
      "text/plain": [
       "<Figure size 432x288 with 1 Axes>"
      ]
     },
     "metadata": {
      "needs_background": "light"
     },
     "output_type": "display_data"
    }
   ],
   "source": [
    "import numpy as np\n",
    "import matplotlib.pyplot as plt\n",
    "from matplotlib import rc\n",
    "from matplotlib.lines import Line2D\n",
    "rc('text', usetex=True)\n",
    "\n",
    "# Generate z values\n",
    "x = np.linspace(-5, 5, 100)\n",
    "y = np.linspace(-5, 5, 100)\n",
    "[X, Y] = np.meshgrid(x, y)\n",
    "Z = X + Y * 1j\n",
    "\n",
    "# Define ERK stability functions\n",
    "Rz = np.zeros((100, 100, 4)) * 1j\n",
    "Rz1 = 1 + Z\n",
    "Rz2 = Rz1 + Z**2 / 2\n",
    "Rz3 = Rz2 + Z**3 / 6\n",
    "Rz4 = Rz3 + Z**4 / 24\n",
    "\n",
    "# Plot regions of absolute stability\n",
    "fig, ax = plt.subplots()\n",
    "fillcolours = ['lightskyblue', 'lightcoral', 'lightgreen', 'violet']\n",
    "\n",
    "ax.contourf(X, Y, abs(Rz4), levels=[0,1], colors='violet')\n",
    "ax.contour(X, Y, abs(Rz4), levels=[1], colors='k')\n",
    "ax.contourf(X, Y, abs(Rz3), levels=[0,1], colors='lightgreen')\n",
    "ax.contour(X, Y, abs(Rz3), levels=[1], colors='k')\n",
    "ax.contourf(X, Y, abs(Rz2), levels=[0,1], colors='lightcoral')\n",
    "ax.contour(X, Y, abs(Rz2), levels=[1], colors='k')\n",
    "ax.contourf(X, Y, abs(Rz1), levels=[0,1], colors='lightskyblue')\n",
    "ax.contour(X, Y, abs(Rz1), levels=[1], colors='k')\n",
    "ax.plot([-10, 10], [0, 0], 'k', linewidth=1)\n",
    "ax.plot([0, 0], [-10, 10], 'k', linewidth=1)\n",
    "\n",
    "ax.set_title('Regions of absolute stability of explicit Runge-Kutta methods')\n",
    "ax.set_xlabel('$\\mathrm{Re}(z)$')\n",
    "ax.set_ylabel('$\\mathrm{Im}(z)$')\n",
    "ax.set_xlim(-4, 2)\n",
    "ax.set_ylim(-4, 4)\n",
    "\n",
    "labels = [Line2D([0], [0], color='lightskyblue', linewidth=5),\n",
    "          Line2D([0], [0], color='lightcoral', linewidth=5),\n",
    "          Line2D([0], [0], color='lightgreen', linewidth=5),\n",
    "          Line2D([0], [0], color='violet', linewidth=5)]\n",
    "ax.legend(labels, ['Euler', 'RK2', 'RK3', 'RK4'])\n",
    "\n",
    "plt.show()\n"
   ]
  },
  {
   "cell_type": "markdown",
   "metadata": {},
   "source": [
    "### Stability functions for an implicit method\n",
    "The simplest implicit method for solving ODEs is the [Backwards Euler](https://en.wikipedia.org/wiki/Backward_Euler_method) method (also known as the implicit Euler method) which is\n",
    "\n",
    "$$y_{n+1} = y_n + h(t_n + h, y_{n+1}).$$\n",
    "\n",
    "Applying this to solve the test ODE $y'=\\lambda y$ and rerranging gives\n",
    "\n",
    "\\begin{align*}\n",
    "    y_{n+1} &= y_n + h\\lambda y_{n+1} \\\\\n",
    "    (1 - h\\lambda)y_{n+1} &= y_n \\\\\n",
    "    y_{n+1} &= \\frac{1}{1-h\\lambda} y_n,\n",
    "\\end{align*}\n",
    "\n",
    "therefore the stability function for the backwards Euler method is $R(z)=\\dfrac{1}{1-z}$. Stability functions for implicit methods take the form of a rational fraction\n",
    "\n",
    "$$R(z) = \\dfrac{P(z)}{Q(z)}.$$\n",
    "\n",
    "#### Example\n",
    "The code below plots the region of absolute stability of the backwards Euler method."
   ]
  },
  {
   "cell_type": "code",
   "execution_count": 5,
   "metadata": {},
   "outputs": [
    {
     "data": {
      "image/png": "[encoded data removed]",
      "text/plain": [
       "<Figure size 432x288 with 1 Axes>"
      ]
     },
     "metadata": {
      "needs_background": "light"
     },
     "output_type": "display_data"
    }
   ],
   "source": [
    "import numpy as np\n",
    "import matplotlib.pyplot as plt\n",
    "from matplotlib import rc\n",
    "from matplotlib.lines import Line2D\n",
    "rc('text', usetex=True)\n",
    "\n",
    "# Generate z values\n",
    "x = np.linspace(-5, 5, 100)\n",
    "y = np.linspace(-5, 5, 100)\n",
    "[X, Y] = np.meshgrid(x, y)\n",
    "Z = X + Y * 1j\n",
    "\n",
    "# Define stability function for the backwards Euler method\n",
    "Rz = 1 / (1 - Z)\n",
    "\n",
    "# Plot the region of absolute stability\n",
    "fig, ax = plt.subplots()\n",
    "\n",
    "ax.contourf(X, Y, abs(Rz), levels=[0, 1], colors='lightskyblue')\n",
    "ax.contour(X, Y, abs(Rz), levels=[1])\n",
    "ax.plot([-10, 10], [0, 0], 'k', linewidth=1)\n",
    "ax.plot([0, 0], [-10, 10], 'k', linewidth=1)\n",
    "\n",
    "ax.set_title('The region of absolute stability of the backwards Euler method')\n",
    "ax.set_xlabel('$\\mathrm{Re}(z)$')\n",
    "ax.set_ylabel('$\\mathrm{Im}(z)$')\n",
    "ax.set_xlim(-1, 3)\n",
    "ax.set_ylim(-1.5, 1.5)\n",
    "\n",
    "plt.show()"
   ]
  },
  {
   "cell_type": "markdown",
   "metadata": {},
   "source": [
    "Here the region of absolute stability includes all of the complex plane with the exception of the unshaded region shown here."
   ]
  },
  {
   "cell_type": "markdown",
   "metadata": {},
   "source": [
    "### Stability functions for implicit Runge-Kutta methods\n",
    "\n",
    "To determine the stability function for an Implicit Runge-Kutta (IRK) method we rerrange the matrix form of the method the test ODE $y'=\\lambda y$\n",
    "\n",
    "\\begin{align*}\n",
    "    y_{n+1} &= y_n + z \\mathbf{b}^T \\cdot Y, \\\\\n",
    "    Y &= \\mathbf{e} y_n + z A \\cdot Y.\n",
    "\\end{align*}\n",
    "\n",
    "Transposing these equations so that the terms not involving $y_n$ to the left-hand side gives\n",
    "\n",
    "\\begin{align*}\n",
    "    y_{n+1} - z \\mathbf{b}^T \\cdot Y &= y_n, \\\\\n",
    "    (I - zA) \\cdot Y & = \\mathbf{e}y_n.\n",
    "\\end{align*}\n",
    "\n",
    "which can be written as the matrix equation\n",
    "\n",
    "$$\n",
    "\\pmatrix{ 1 & -zb_1 & -zb_2 & \\cdots & -zb_s \\\\\n",
    "    0 & 1 - za_{11} & -za_{12} & \\cdots & -za_{1s} \\\\\n",
    "    0 & -za_{21} & 1 - za_{22} & \\cdots & -za_{2s} \\\\\n",
    "    0 & \\vdots & \\vdots & \\ddots & \\vdots  \\\\\n",
    "    0 & -za_{s1} & -za_{s2} & \\cdots & -za_{ss}\n",
    "    }\n",
    "\\pmatrix{ y_{n+1} \\\\ Y_1 \\\\ Y_2 \\\\ \\vdots \\\\ Y_s } = \n",
    "\\pmatrix{ y_n \\\\ y_n \\\\ \\vdots \\\\ y_n \\\\ y_n}\n",
    "$$\n",
    "\n",
    "Using [Cramer's rule](https://en.wikipedia.org/wiki/Cramer%27s_rule) to solve this system for $y_{n+1}$ we have\n",
    "\n",
    "\\begin{align*}\n",
    "y_{n+1} &= \\frac{\\det\n",
    "\\pmatrix{ y_n & -zb_1 & -zb_2 & \\cdots & -zb_s \\\\\n",
    "    y_n & 1 - za_{11} & -za_{12} & \\cdots & -za_{1s} \\\\\n",
    "    y_n & -za_{21} & 1 - za_{22} & \\cdots & -za_{2s} \\\\\n",
    "    y_n & \\vdots & \\vdots & \\ddots & \\vdots  \\\\\n",
    "    y_m & -za_{s1} & -za_{s2} & \\cdots & -za_{ss}\n",
    "    }}{\\det(I - zA)}.\n",
    "\\end{align*}\n",
    "\n",
    "Performing a row operation of subtracting the first row of matrix in the numerator from the other rows gives\n",
    "\n",
    "\\begin{align*}\n",
    "y_{n+1} &= \\frac{\\det\n",
    "\\pmatrix{ y_n & -zb_1 & -zb_2 & \\cdots & -zb_s \\\\\n",
    "    0 & 1 - za_{11} + zb_1 & -za_{12} + zb_2 & \\cdots & -za_{1s} + zb_s \\\\\n",
    "    0 & -za_{21} + zb_1 & 1 - za_{22} + zb_2 & \\cdots & -za_{2s} + zb_s \\\\\n",
    "    0 & \\vdots & \\vdots & \\ddots & \\vdots  \\\\\n",
    "    0 & -za_{s1} + zb_1 & -za_{s2} + zb_2 & \\cdots & -za_{ss} + zb_s\n",
    "    }}{\\det(I - zA)} \\\\\n",
    "    &= \\frac{\\det(I - z(A - \\mathbf{e}\\cdot \\mathbf{b}^T)}{\\det(I - zA)}y_n,\n",
    "\\end{align*}\n",
    "\n",
    "where $\\mathbf{e}\\cdot \\mathbf{b}^T$ is a diagonal matrix with the elements of $\\mathbf{b}$ on the main diagonal. Therefore the stability function of an Implicit Runge-Kutta (IRK) method can be written as\n",
    "\n",
    "$$R(z) = \\frac{\\det(I - z(A - \\mathbf{e}\\cdot \\mathbf{b}^T))}{\\det(I - zA)}.$$"
   ]
  },
  {
   "cell_type": "markdown",
   "metadata": {},
   "source": [
    "### A-stability\n",
    "As we saw in the plot of the region of absolute stability of the backwards Euler method, implicit methods have a much greater region than explicit methods and are very useful for solving stiff ODEs where the stabilty constraints placed on an explcit method means the step length $h$ is too small to be of practical use. A desirable property of some implicit methods is that there is no limit placed on the value of $h$ for which will result in an unstable method, this is known as **A-stability**.\n",
    "\n",
    "> **Definition:** A method is said to be **A-stable** if its region of absolute stabilty satisfies\n",
    "<br><br>\n",
    "$$\\{ z : z \\in \\mathbb{C}^-, |R(z)| \\leq 1\\}$$\n",
    "<br>\n",
    "i.e., the method is stable for all points in the left-hand side of the complex plane.\n",
    "\n",
    "> **Theorem.** Given an implicit Runge-Kutta method with a stability function of the form\n",
    "<br><br>\n",
    "$$R(z) = \\frac{P(z)}{Q(z)},$$\n",
    "<br>\n",
    "and define a polynomial function \n",
    "<br><br>\n",
    "$$E(y) = Q(iy)Q(-iy) - P(iy)P(-iy),$$\n",
    "<br>\n",
    "then the method is A-stable if and only if the following are satisfied\n",
    "<br>\n",
    "1. All roots of $Q(z)$ have positive real parts;\n",
    "2. $E(y)\\geq 0$ for all $y\\in \\mathbb{R}$.\n",
    "\n",
    "\n",
    "#### Example\n",
    "Determine the stability function of the following IRK and determine whether it is A-stable or not.\n",
    "\n",
    "$$\\begin{array}{c|cc} \n",
    "    \\frac{1}{2} - \\frac{\\sqrt{3}}{6} & \\frac{1}{4} & \\frac{1}{4} - \\frac{\\sqrt{3}}{6} \\\\\n",
    "    \\frac{1}{2} + \\frac{\\sqrt{3}}{6} & \\frac{1}{4} + \\frac{\\sqrt{3}}{6} & \\frac{1}{4} \\\\ \\hline\n",
    "    & \\frac{1}{2} & \\frac{1}{2}\n",
    "\\end{array}$$"
   ]
  },
  {
   "cell_type": "code",
   "execution_count": 6,
   "metadata": {},
   "outputs": [
    {
     "name": "stdout",
     "output_type": "stream",
     "text": [
      "P(z) = z**2/12 + z/2 + 1\n",
      "Q(z) = z**2/12 - z/2 + 1\n",
      "Q(z) has roots at 3 - sqrt(3)*I and 3 + sqrt(3)*I\n",
      "E(y) = 0\n"
     ]
    }
   ],
   "source": [
    "from sympy import *\n",
    "\n",
    "# Define IRK method\n",
    "A = Matrix([[ Rational('1/4'), Rational('1/4') - sqrt(3) * Rational('1/6') ],\n",
    "           [ Rational('1/4') + sqrt(3) * Rational('1/6'), Rational('1/4') ]])\n",
    "b = Matrix([[ Rational('1/2'), 0 ],\n",
    "            [ 0, Rational('1/2') ]])\n",
    "I = eye(2)\n",
    "\n",
    "# Calculate P(z) and Q(z) polynomials\n",
    "z = symbols('z')\n",
    "P = expand(det(I - z * (A - b )))\n",
    "Q = expand(det(I - z * A))\n",
    "\n",
    "# Find roots of Q(z)\n",
    "roots = solve(Q)\n",
    "\n",
    "# Calculate E(y)\n",
    "y = symbols('y')\n",
    "Pp = expand(det(I + 1j * y * (A - b)))\n",
    "Pm = expand(det(I - 1j * y * (A - b)))\n",
    "Qp = expand(det(I - 1j * y * A))\n",
    "Qm = expand(det(I + 1j * y * A))\n",
    "E = expand(Qp * Qm - Pp * Pm)\n",
    "\n",
    "# Output polynomials\n",
    "print(\"P(z) = {}\".format(P))\n",
    "print(\"Q(z) = {}\".format(Q))\n",
    "print(\"Q(z) has roots at {} and {}\".format(roots[0], roots[1]))\n",
    "print(\"E(y) = {}\".format(E))"
   ]
  },
  {
   "cell_type": "markdown",
   "metadata": {},
   "source": [
    "So the stability function for this IRK method is $R(z) = \\dfrac{1 + \\frac{1}{2}z + \\frac{1}{12}z^2}{1 - \\frac{1}{2}z + \\frac{1}{12}z^2}$. Since the real parts of both roots of $Q(z)$ is $3$ which is positive and $E(y)=0$ we can say that this is an A-stable method."
   ]
  },
  {
   "cell_type": "code",
   "execution_count": 22,
   "metadata": {},
   "outputs": [
    {
     "data": {
      "image/png": "[encoded data removed]",
      "text/plain": [
       "<Figure size 432x288 with 1 Axes>"
      ]
     },
     "metadata": {
      "needs_background": "light"
     },
     "output_type": "display_data"
    }
   ],
   "source": [
    "import numpy as np\n",
    "import matplotlib.pyplot as plt\n",
    "from matplotlib import rc\n",
    "from matplotlib.lines import Line2D\n",
    "rc('text', usetex=True)\n",
    "\n",
    "# Generate z values\n",
    "x = np.linspace(-10, 10, 100)\n",
    "y = np.linspace(-10, 10, 100)\n",
    "[X, Y] = np.meshgrid(x, y)\n",
    "Z = X + Y * 1j\n",
    "\n",
    "# Define stability function for the IRK method\n",
    "Rz = (1 + 1/2 * Z + 1/12 * Z**2) / (1 - 1/2 * Z + 1/12 * Z**2)\n",
    "\n",
    "# Plot the region of absolute stability\n",
    "fig, ax = plt.subplots()\n",
    "\n",
    "ax.contourf(X, Y, abs(Rz), levels=[0, 1], colors='lightskyblue')\n",
    "ax.contour(X, Y, abs(Rz), levels=[1])\n",
    "ax.plot([-10, 10], [0, 0], 'k', linewidth=1)\n",
    "ax.plot([0, 0], [-10, 10], 'k', linewidth=1)\n",
    "\n",
    "ax.set_title('The region of absolute stability of an A-stable IRK method')\n",
    "ax.set_xlabel('$\\mathrm{Re}(z)$')\n",
    "ax.set_ylabel('$\\mathrm{Im}(z)$')\n",
    "ax.set_xlim(-10, 10)\n",
    "ax.set_ylim(-10, 10)\n",
    "\n",
    "plt.show()"
   ]
  }
 ],
 "metadata": {
  "kernelspec": {
   "display_name": "Python 3",
   "language": "python",
   "name": "python3"
  },
  "language_info": {
   "codemirror_mode": {
    "name": "ipython",
    "version": 3
   },
   "file_extension": ".py",
   "mimetype": "text/x-python",
   "name": "python",
   "nbconvert_exporter": "python",
   "pygments_lexer": "ipython3",
   "version": "3.7.4"
  }
 },
 "nbformat": 4,
 "nbformat_minor": 2
}
