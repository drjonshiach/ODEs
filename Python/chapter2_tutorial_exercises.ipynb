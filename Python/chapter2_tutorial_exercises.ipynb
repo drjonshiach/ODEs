{
 "cells": [
  {
   "cell_type": "markdown",
   "metadata": {},
   "source": [
    "# Computational Methods in Ordinary Differential Equations\n",
    "\n",
    "---\n",
    "## Chapter 2 Tutorial Exercises"
   ]
  },
  {
   "cell_type": "markdown",
   "metadata": {},
   "source": [
    "1. Write the Butcher tableau for the following Runge-Kutta Method\n",
    "\n",
    "\\begin{align*}\n",
    "    y_{n+1} &= y_n + \\frac{h}{6}(k_1 + 4k_3 + k_4), \\\\\n",
    "    k_1 &= f(t_n, y_n), \\\\\n",
    "    k_2 &= f\\left(t_n + \\frac{1}{4}h, y_n + \\frac{1}{4}k_1\\right), \\\\\n",
    "    k_3 &= f\\left(t_n + \\frac{1}{2}h, y_n + \\frac{1}{2}k_2\\right), \\\\\n",
    "    k_4 &= f(t_n + h, y_n + k_1 - 2k_2 + 2k_3)\n",
    "\\end{align*}"
   ]
  },
  {
   "cell_type": "markdown",
   "metadata": {},
   "source": [
    "2. Write out the equations for the following Runge-Kutta method\n",
    "\n",
    "$$\\begin{array}{c|ccc} 0 & 0 \\cr \\frac{1}{4} & \\frac{1}{4} \\cr \\frac{1}{2} & -\\frac{1}{2} & 1 \\cr 1 & \\frac{1}{4} & 0 & \\frac{3}{4} \\cr \\hline & 0 & \\frac{4}{9} & \\frac{1}{3} & \\frac{2}{9} \\end{array}$$"
   ]
  },
  {
   "cell_type": "markdown",
   "metadata": {},
   "source": [
    "3. Derive an explicit third-order Runge-Kutta method such that $c_2=\\frac{1}{3}$ and $c_3 = 1$. Write your answer in the form of a Butcher tableau."
   ]
  },
  {
   "cell_type": "markdown",
   "metadata": {},
   "source": [
    "**Solution**\n",
    "The order conditions for a third-order Runge-Kutta method are\n",
    "\n",
    "\\begin{align*}\n",
    "    b_1 + b_2 + b_3 &= 1, \\\\\n",
    "    b_2c_2 + b_3c_3 &= \\frac{1}{2}, \\\\\n",
    "    b_2c_2^2 + b_3c_3^2 &= \\frac{1}{3}, \\\\\n",
    "    b_3a_{32}c_2 &= \\frac{1}{6}.\n",
    "\\end{align*}\n",
    "With the row sum condition giving\n",
    "\\begin{align*}\n",
    "    c_2 &= a_{21}, \\\\\n",
    "    c_3 &= a_{31} + a_{32}. \n",
    "\\end{align*}\n",
    "\n",
    "Using `sympy` functions to solve this system "
   ]
  },
  {
   "cell_type": "code",
   "execution_count": 3,
   "metadata": {},
   "outputs": [
    {
     "data": {
      "text/plain": [
       "[(0, 3/4, 1/4, 1/3, -1, 2)]"
      ]
     },
     "execution_count": 3,
     "metadata": {},
     "output_type": "execute_result"
    }
   ],
   "source": [
    "from sympy import *\n",
    "\n",
    "# Initialise symbolic variables\n",
    "b1, b2, b3, c2, c3, a21, a31, a32 = symbols('b1 b2 b3 c2 c3 a21 a31 a32')\n",
    "c2 = Rational('1/3')\n",
    "c3 = 1\n",
    "\n",
    "# Order conditions\n",
    "eqn1 = b1 + b2 + b3 - 1\n",
    "eqn2 = b2 * c2 + b3 * c3 - Rational('1/2')\n",
    "eqn3 = b2 * c2**2 + b3 * c3**2 - Rational('1/3')\n",
    "eqn4 = b3 * a32 * c2 - Rational('1/6')\n",
    "eqn5 = c2 - a21\n",
    "eqn6 = c3 - a31 - a32\n",
    "\n",
    "# Solve system\n",
    "solve((eqn1, eqn2, eqn3, eqn4, eqn5, eqn6), (b1, b2, b3, a21, a31, a32))"
   ]
  },
  {
   "cell_type": "markdown",
   "metadata": {},
   "source": [
    "So $b_1 = 0$, $b_2 = \\frac{3}{4}$, $b_3 = \\frac{1}{4}$, $a_{21}=\\frac{1}{3}$, $a_{31} = -1$ and $a_{32} = 2$. Therefore Butcher tableau for this method is\n",
    "\n",
    "$$\\begin{array}{c|ccc} 0 & 0 \\cr \\frac{1}{3} & \\frac{1}{3} \\cr 1 & -1 & 2 \\cr \\hline & 0 & \\frac{3}{4} & \\frac{1}{4} \\end{array}$$"
   ]
  },
  {
   "cell_type": "markdown",
   "metadata": {},
   "source": [
    "4. Derive an explicit fouth-order Runge-Kutta method such that $b_2 = 0$,  $c_2 = \\frac{1}{5}$ and $c_4 = 1$ . Write\n",
    "your answer in the form of a Butcher tableau."
   ]
  },
  {
   "cell_type": "markdown",
   "metadata": {},
   "source": [
    "**Solution**\n",
    "The order conditions for a fourth-order Runge-Kutta method are\n",
    "\n",
    "\\begin{align*}\n",
    "    b_1 + b_2 + b_3 + b_4 &= 1, \\\\\n",
    "    b_2c_2 + b_3c_3 + b_4c_4 &= \\frac{1}{2}, \\\\\n",
    "    b_2c_2^2 + b_3c_3^2 + b_4c_4^2 &= \\frac{1}{3}, \\\\\n",
    "    b_2c_2^3 + b_3c_3^3 + b_4c_4^3 &= \\frac{1}{4}, \\\\\n",
    "    b_3c_3a_{32}c_2 + b_4c_4(a_{42}c_2 + a_{43}c_3) &= \\frac{1}{8}, \\\\\n",
    "    b_3a_{32} + b_4a_{42} &= b_2(1 - c_2), \\\\\n",
    "    b_4a_{43} &= b_3(1 - c_3), \\\\\n",
    "    0 &= b_4(1 - c_4).\n",
    "\\end{align*}"
   ]
  },
  {
   "cell_type": "code",
   "execution_count": 4,
   "metadata": {},
   "outputs": [
    {
     "data": {
      "text/plain": [
       "[(1/6, 2/3, 1/6, 1/2, 1/5, -1/8, 5/8, 3/2, -5/2, 2)]"
      ]
     },
     "execution_count": 4,
     "metadata": {},
     "output_type": "execute_result"
    }
   ],
   "source": [
    "from sympy import *\n",
    "\n",
    "# Initialise symbolic variables\n",
    "b1, b2, b3, b4 = symbols('b1, b2, b3, b4')\n",
    "c2, c3, c4 = symbols('c2, c3, c4')\n",
    "a21, a31, a32, a41, a42, a43 = symbols('a21, a31, a32, a41, a42, a43')\n",
    "b2, c2, c4 = 0,  Rational('1/5'), 1\n",
    "\n",
    "# Order conditions\n",
    "eqn1 = b1 + b2 + b3 + b4 - 1\n",
    "eqn2 = b2 * c2 + b3 * c3 + b4 * c4 - Rational('1/2')\n",
    "eqn3 = b2 * c2**2 + b3 * c3**2 + b4 * c4**2 - Rational('1/3')\n",
    "eqn4 = b2 * c2**3 + b3 * c3**3 + b4 * c4**3 - Rational('1/4')\n",
    "eqn5 = b3 * c3 * a32 * c2 + b4 * c4 * (a42 * c2 + a43 * c3) - Rational('1/8')\n",
    "eqn6 = b3 * a32 + b4 * a42 - b2 * (1 - c2)\n",
    "eqn7 = b4 * a43 - b3 * (1 - c3)\n",
    "eqn8 = b4 * (1 - c4)\n",
    "eqn9 = c2 - a21\n",
    "eqn10 = c3 - a31 - a32\n",
    "eqn11 = c4 - a41 - a42 - a43\n",
    "\n",
    "# Solve system\n",
    "solve((eqn1, eqn2, eqn3, eqn4, eqn5, eqn6, eqn7, eqn8, eqn9, eqn10, eqn11), \\\n",
    "      (b1, b3, b4, c3, a21, a31, a32, a41, a42, a43))"
   ]
  },
  {
   "cell_type": "markdown",
   "metadata": {},
   "source": [
    "So $b_1 = b_4 = \\frac{1}{6}$, $b_3 = \\frac{2}{3}$, $c_3 = \\frac{1}{2}$, $a_{21} = \\frac{1}{5}$, $a_{31} = -\\frac{1}{8}$, $a_{32} = \\frac{5}{8}$, $a_{41} = \\frac{3}{2}$, $a_{42} = -\\frac{5}{2}$ and $a_{43} = 2$. Therefore the Butcher tableau is\n",
    "\n",
    "$$\\begin{array}{c|cccc} 0 & 0 \\cr \\frac{1}{5} & \\frac{1}{5} \\cr \\frac{1}{2} & -\\frac{1}{8} & \\frac{5}{8} \\cr 1 & \\frac{3}{2} & -\\frac{5}{2} & 2 \\cr \\hline & \\frac{1}{6} & \\frac{2}{3} & \\frac{1}{2} & \\frac{1}{6} \\end{array}$$"
   ]
  },
  {
   "cell_type": "markdown",
   "metadata": {},
   "source": [
    "5. Use the classical second-order Runge-Kutta method to calculate the solution to the following IVP\n",
    "<br><br>\n",
    "$$y′ = y − t, \\qquad y(0) = 2,$$\n",
    "<br>\n",
    "at $y(0.5)$ using a step length of h = 0.1. Repeat the calculations for step lengths $h = 0.05, 0.125, 0.0625$. Compare your solutions at $y(0.5)$ to the exact solution $y(t) = t + e^t + 1$ and calculate the absolute error. \n",
    "<br>\n",
    "<br>\n",
    "What can you say about the behaviour of the error as the step length decreases? Hint: you may use the MATLAB code in Section 2.3.3 to help you."
   ]
  },
  {
   "cell_type": "code",
   "execution_count": 8,
   "metadata": {},
   "outputs": [
    {
     "name": "stdout",
     "output_type": "stream",
     "text": [
      "----------------------------------------\n",
      "   t    |    RK2   |  exact   |  error\n",
      "----------------------------------------\n",
      "0.00000 | 2.000000 | 2.000000 | 0.00e+00\n",
      "0.05000 | 2.101250 | 2.101271 | 2.11e-05\n",
      "0.10000 | 2.205127 | 2.205171 | 4.44e-05\n",
      "0.15000 | 2.311764 | 2.311834 | 6.99e-05\n",
      "0.20000 | 2.421305 | 2.421403 | 9.80e-05\n",
      "0.25000 | 2.533897 | 2.534025 | 1.29e-04\n",
      "0.30000 | 2.649696 | 2.649859 | 1.63e-04\n",
      "0.35000 | 2.768868 | 2.769068 | 1.99e-04\n",
      "0.40000 | 2.891585 | 2.891825 | 2.39e-04\n",
      "0.45000 | 3.018029 | 3.018312 | 2.83e-04\n",
      "0.50000 | 3.148390 | 3.148721 | 3.31e-04\n",
      "----------------------------------------\n",
      "----------------------------------------\n",
      "   t    |    RK2   |  exact   |  error\n",
      "----------------------------------------\n",
      "0.00000 | 2.000000 | 2.000000 | 0.00e+00\n",
      "0.02500 | 2.050312 | 2.050315 | 2.62e-06\n",
      "0.05000 | 2.101266 | 2.101271 | 5.37e-06\n",
      "0.07500 | 2.152876 | 2.152884 | 8.26e-06\n",
      "0.10000 | 2.205160 | 2.205171 | 1.13e-05\n",
      "0.12500 | 2.258134 | 2.258148 | 1.45e-05\n",
      "0.15000 | 2.311816 | 2.311834 | 1.78e-05\n",
      "0.17500 | 2.366225 | 2.366246 | 2.13e-05\n",
      "0.20000 | 2.421378 | 2.421403 | 2.50e-05\n",
      "0.22500 | 2.477294 | 2.477323 | 2.88e-05\n",
      "0.25000 | 2.533993 | 2.534025 | 3.28e-05\n",
      "0.27500 | 2.591494 | 2.591531 | 3.70e-05\n",
      "0.30000 | 2.649817 | 2.649859 | 4.14e-05\n",
      "0.32500 | 2.708985 | 2.709031 | 4.60e-05\n",
      "0.35000 | 2.769017 | 2.769068 | 5.08e-05\n",
      "0.37500 | 2.829936 | 2.829991 | 5.58e-05\n",
      "0.40000 | 2.891764 | 2.891825 | 6.10e-05\n",
      "0.42500 | 2.954524 | 2.954590 | 6.65e-05\n",
      "0.45000 | 3.018240 | 3.018312 | 7.21e-05\n",
      "0.47500 | 3.082936 | 3.083014 | 7.81e-05\n",
      "0.50000 | 3.148637 | 3.148721 | 8.43e-05\n",
      "----------------------------------------\n",
      "----------------------------------------\n",
      "   t    |    RK2   |  exact   |  error\n",
      "----------------------------------------\n",
      "0.00000 | 2.000000 | 2.000000 | 0.00e+00\n",
      "0.00625 | 2.012520 | 2.012520 | 4.08e-08\n",
      "0.01250 | 2.025078 | 2.025078 | 8.20e-08\n",
      "0.01875 | 2.037677 | 2.037677 | 1.24e-07\n",
      "0.02500 | 2.050315 | 2.050315 | 1.66e-07\n",
      "0.03125 | 2.062993 | 2.062993 | 2.09e-07\n",
      "0.03750 | 2.075712 | 2.075712 | 2.52e-07\n",
      "0.04375 | 2.088471 | 2.088471 | 2.96e-07\n",
      "0.05000 | 2.101271 | 2.101271 | 3.41e-07\n",
      "0.05625 | 2.114112 | 2.114112 | 3.86e-07\n",
      "0.06250 | 2.126994 | 2.126994 | 4.31e-07\n",
      "0.06875 | 2.139918 | 2.139918 | 4.77e-07\n",
      "0.07500 | 2.152884 | 2.152884 | 5.24e-07\n",
      "0.08125 | 2.165891 | 2.165892 | 5.71e-07\n",
      "0.08750 | 2.178942 | 2.178942 | 6.19e-07\n",
      "0.09375 | 2.192034 | 2.192035 | 6.67e-07\n",
      "0.10000 | 2.205170 | 2.205171 | 7.16e-07\n",
      "0.10625 | 2.218349 | 2.218350 | 7.66e-07\n",
      "0.11250 | 2.231571 | 2.231572 | 8.16e-07\n",
      "0.11875 | 2.244837 | 2.244838 | 8.67e-07\n",
      "0.12500 | 2.258148 | 2.258148 | 9.18e-07\n",
      "0.13125 | 2.271502 | 2.271503 | 9.70e-07\n",
      "0.13750 | 2.284901 | 2.284902 | 1.02e-06\n",
      "0.14375 | 2.298344 | 2.298345 | 1.08e-06\n",
      "0.15000 | 2.311833 | 2.311834 | 1.13e-06\n",
      "0.15625 | 2.325367 | 2.325368 | 1.18e-06\n",
      "0.16250 | 2.338947 | 2.338948 | 1.24e-06\n",
      "0.16875 | 2.352573 | 2.352574 | 1.29e-06\n",
      "0.17500 | 2.366245 | 2.366246 | 1.35e-06\n",
      "0.18125 | 2.379963 | 2.379965 | 1.41e-06\n",
      "0.18750 | 2.393729 | 2.393730 | 1.47e-06\n",
      "0.19375 | 2.407541 | 2.407543 | 1.52e-06\n",
      "0.20000 | 2.421401 | 2.421403 | 1.58e-06\n",
      "0.20625 | 2.435309 | 2.435310 | 1.64e-06\n",
      "0.21250 | 2.449264 | 2.449266 | 1.70e-06\n",
      "0.21875 | 2.463268 | 2.463270 | 1.76e-06\n",
      "0.22500 | 2.477321 | 2.477323 | 1.83e-06\n",
      "0.23125 | 2.491422 | 2.491424 | 1.89e-06\n",
      "0.23750 | 2.505573 | 2.505575 | 1.95e-06\n",
      "0.24375 | 2.519773 | 2.519775 | 2.02e-06\n",
      "0.25000 | 2.534023 | 2.534025 | 2.08e-06\n",
      "0.25625 | 2.548324 | 2.548326 | 2.15e-06\n",
      "0.26250 | 2.562674 | 2.562676 | 2.21e-06\n",
      "0.26875 | 2.577076 | 2.577078 | 2.28e-06\n",
      "0.27500 | 2.591528 | 2.591531 | 2.35e-06\n",
      "0.28125 | 2.606032 | 2.606035 | 2.41e-06\n",
      "0.28750 | 2.620588 | 2.620591 | 2.48e-06\n",
      "0.29375 | 2.635196 | 2.635198 | 2.55e-06\n",
      "0.30000 | 2.649856 | 2.649859 | 2.62e-06\n",
      "0.30625 | 2.664569 | 2.664572 | 2.70e-06\n",
      "0.31250 | 2.679335 | 2.679338 | 2.77e-06\n",
      "0.31875 | 2.694155 | 2.694157 | 2.84e-06\n",
      "0.32500 | 2.709028 | 2.709031 | 2.91e-06\n",
      "0.33125 | 2.723955 | 2.723958 | 2.99e-06\n",
      "0.33750 | 2.738937 | 2.738940 | 3.06e-06\n",
      "0.34375 | 2.753973 | 2.753976 | 3.14e-06\n",
      "0.35000 | 2.769064 | 2.769068 | 3.22e-06\n",
      "0.35625 | 2.784211 | 2.784214 | 3.30e-06\n",
      "0.36250 | 2.799414 | 2.799417 | 3.38e-06\n",
      "0.36875 | 2.814673 | 2.814676 | 3.46e-06\n",
      "0.37500 | 2.829988 | 2.829991 | 3.54e-06\n",
      "0.38125 | 2.845360 | 2.845364 | 3.62e-06\n",
      "0.38750 | 2.860789 | 2.860793 | 3.70e-06\n",
      "0.39375 | 2.876276 | 2.876280 | 3.78e-06\n",
      "0.40000 | 2.891821 | 2.891825 | 3.87e-06\n",
      "0.40625 | 2.907424 | 2.907428 | 3.95e-06\n",
      "0.41250 | 2.923086 | 2.923090 | 4.04e-06\n",
      "0.41875 | 2.938806 | 2.938810 | 4.12e-06\n",
      "0.42500 | 2.954586 | 2.954590 | 4.21e-06\n",
      "0.43125 | 2.970426 | 2.970430 | 4.30e-06\n",
      "0.43750 | 2.986326 | 2.986330 | 4.39e-06\n",
      "0.44375 | 3.002286 | 3.002291 | 4.48e-06\n",
      "0.45000 | 3.018308 | 3.018312 | 4.57e-06\n",
      "0.45625 | 3.034390 | 3.034395 | 4.67e-06\n",
      "0.46250 | 3.050534 | 3.050539 | 4.76e-06\n",
      "0.46875 | 3.066741 | 3.066745 | 4.85e-06\n",
      "0.47500 | 3.083009 | 3.083014 | 4.95e-06\n",
      "0.48125 | 3.099341 | 3.099346 | 5.05e-06\n",
      "0.48750 | 3.115735 | 3.115741 | 5.14e-06\n",
      "0.49375 | 3.132194 | 3.132199 | 5.24e-06\n",
      "0.50000 | 3.148716 | 3.148721 | 5.34e-06\n",
      "----------------------------------------\n"
     ]
    }
   ],
   "source": [
    "import numpy as np\n",
    "\n",
    "\n",
    "def rk2(tspan, y0, h):\n",
    "    \"\"\"\n",
    "    This function calculates the solution to an IVP using the second-order \n",
    "    explicit Runge-Kutta method\n",
    "    \"\"\"\n",
    "    nsteps = int((tspan[1] - tspan[0]) / h)\n",
    "    t = np.zeros(nsteps + 1)\n",
    "    y = np.zeros(nsteps + 1)\n",
    "    t[0] = tspan[0]\n",
    "    y[0] = y0\n",
    "    \n",
    "    for n in range(nsteps):\n",
    "        k1 = f(t[n], y[n])\n",
    "        k2 = f(t[n] + h, y[n] + h * k1)\n",
    "        y[n+1] = y[n] + 0.5 * h * (k1 + k2)\n",
    "        t[n+1] = t[n] + h\n",
    "    \n",
    "    return t, y\n",
    "\n",
    "\n",
    "def f(t, y):\n",
    "    return y - t\n",
    "\n",
    "\n",
    "def solution_table():\n",
    "    \"\"\"\n",
    "    Prints a table of solutions\n",
    "    \"\"\"\n",
    "    print(\"{0}\\n   t    |    RK2   |  exact   |  error\\n{0}\".format('-' * 40))\n",
    "    for i in range(len(t)):\n",
    "        print(\"{:0.5f} | {:0.6f} | {:0.6f} | {:0.2e}\"\\\n",
    "              .format(t[i], y[i], exact[i], error[i]))\n",
    "    print(\"-\" * 40)\n",
    "     \n",
    "\n",
    "# Define variables\n",
    "tspan = [0, 0.5]\n",
    "y0 = 2\n",
    "\n",
    "# Solve IVP using h = 0.05\n",
    "h = 0.05\n",
    "t, y = rk2(tspan, y0, h)\n",
    "exact = t + np.exp(t) + 1\n",
    "error = abs(exact - y)\n",
    "solution_table()\n",
    "\n",
    "# Solve IVP using h = 0.025\n",
    "h = 0.025\n",
    "t, y = rk2(tspan, y0, h)\n",
    "exact = t + np.exp(t) + 1\n",
    "error = abs(exact - y)\n",
    "solution_table()\n",
    "\n",
    "# Solve IVP using h = 0.05\n",
    "h = 0.00625\n",
    "t, y = rk2(tspan, y0, h)\n",
    "exact = t + np.exp(t) + 1\n",
    "error = abs(exact - y)\n",
    "solution_table()"
   ]
  }
 ],
 "metadata": {
  "kernelspec": {
   "display_name": "Python 3",
   "language": "python",
   "name": "python3"
  },
  "language_info": {
   "codemirror_mode": {
    "name": "ipython",
    "version": 3
   },
   "file_extension": ".py",
   "mimetype": "text/x-python",
   "name": "python",
   "nbconvert_exporter": "python",
   "pygments_lexer": "ipython3",
   "version": "3.7.4"
  }
 },
 "nbformat": 4,
 "nbformat_minor": 2
}
