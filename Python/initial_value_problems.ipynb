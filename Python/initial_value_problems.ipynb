{
 "cells": [
  {
   "cell_type": "markdown",
   "metadata": {
    "collapsed": false
   },
   "source": [
    "# Computational Methods in Ordinary Differential Equations\n",
    "\n",
    "*Dr Jon Shiach, Department of Computing and Mathematics, Manchester Metropolitan University*"
   ]
  },
  {
   "cell_type": "markdown",
   "metadata": {
    "collapsed": false
   },
   "source": [
    "---\n",
    "#### Learning outcomes\n",
    "\n",
    "On successful completion of this page readers will be able to:\n",
    "\n",
    "- Identity an [initial value problem](#Initial-Value-Problems);\n",
    "- Derive the [Euler method](#The-Euler-method) and apply it to solve first-order ordinary differential equations;\n",
    "- Express a [higher-order ODE as a system of first-order ODEs](#Solving-higher-order-ordinary-differential-equations);\n",
    "- Apply an ODE solver to solve a [system of ODEs](#Solving-Systems-of-Ordinary-Differential-Equations).\n",
    "\n",
    "# Initial Value Problems\n",
    "\n",
    "An [**Initial Value Problem**](https://en.wikipedia.org/wiki/Initial_value_problem) (IVP) is written as an [Ordinary Differential Equation](https://en.wikipedia.org/wiki/Ordinary_dif) (ODE) where the initial solution at the lower boundary of the domain is known. For example,\n",
    "\n",
    "\\begin{align*}\n",
    "    y' &= f(t, y), & t &\\in [t_{\\min}, t_{\\max}], & y(t_{\\min}) &= y_0.\n",
    "\\end{align*}\n",
    "\n",
    "Here a first-order ODE $y'=f(t,y)$ is defined over the domain $t\\in [t_{\\min}, t_{\\max}]$ and the initial solution $y(t_{\\min})$ is the known value $y_0$. \n",
    "\n",
    "In most real world practical applications, IVPs cannot be solved using analytical methods so instead we use computational methods called **ODE solvers** to approximate the solutions. The simplest ODE solver is the Euler method.\n",
    "\n",
    "## The Euler method\n",
    "The [**Euler method**](https://en.wikipedia.org/wiki/Euler_method) for solving the first-order Ordinary Differential Equation (ODE) can be derived very easily by truncating the [Taylor series](https://en.wikipedia.org/wiki/Taylor_series) after the first-order term\n",
    "\n",
    "\\begin{equation}\n",
    "    y_{n+1} = y_n + hf(t_n, y_n),\n",
    "\\end{equation}\n",
    "\n",
    "where the subscript notation used is $y_{n+1} = y(t + h)$, $y_n = y(t_n)$.\n",
    "\n",
    "To apply the Euler method to solve an IVP we loop through the domain and calculate the values of $y_{n+1}$ using the Euler method with the known values $t_{n}$ and $y_n$. \n",
    "\n",
    "The code below defines a function `euler` that solves an IVP where `tspan` is a two element array containing the lower and upper bounds of the $t$ domain, `y0` is the value of $y$ at the lower bound and `h` is the step length."
   ]
  },
  {
   "cell_type": "markdown",
   "metadata": {
    "collapsed": false
   },
   "source": [
    "#### Example 1\n",
    "\n",
    "Calculate the first two steps of the Euler method when used to solve the following IVP\n",
    "\n",
    "$$ y' = \\sin^2(t)y, \\qquad t \\in [0, 5], \\qquad y(0) = 1,$$\n",
    "\n",
    "using a step length $h=0.5$.\n",
    "\n",
    "Since we have $t_0=0$ and $y_0=1$ then\n",
    "\n",
    "\\begin{align*}\n",
    "    y_1 &= y_0 + h \\sin^2(t_0)y_0 = 1 + 0.5\\sin^2(0)(1) = 1, & t_1 &= t_0 + h = 0 + 0.5 = 0.5,\\\\\n",
    "    y_2 &= y_1 + h \\sin^2(t_1)y_1 = 1 + 0.5\\sin^2(0.5)(1) = 1.1149, & t_2 &= t_1 + h = 0.5 + 0.5 = 1.0.\n",
    "\\end{align*}"
   ]
  },
  {
   "cell_type": "markdown",
   "metadata": {
    "collapsed": false
   },
   "source": [
    "#### Example 2\n",
    "\n",
    "Calculate the solution of the IVP from [example 1](#Example-1) over the whole domain $t\\in [0,5]$ using the Euler method with a step length of $h=0.5$ and compare it to the exact solution given by\n",
    "\n",
    "$$y = e^{\\frac{1}{2}(t - \\sin(t)\\cos(t))}$$\n",
    "\n",
    "The functions below defines the right-hand side of the ODE and the exact solution to the IVP."
   ]
  },
  {
   "cell_type": "code",
   "execution_count": 1,
   "metadata": {
    "collapsed": false
   },
   "outputs": [
   ],
   "source": [
    "import numpy as np\n",
    "\n",
    "def f(t, y):\n",
    "    return np.sin(t)**2 * y\n",
    "\n",
    "def exact_sol(t):\n",
    "    return np.exp(0.5 * (t - np.sin(t) * np.cos(t)))"
   ]
  },
  {
   "cell_type": "markdown",
   "metadata": {
    "collapsed": false
   },
   "source": [
    "The code below defines a function called `euler` that solves an IVP using the Euler method. The input arguments are `f` is the name of the funcion the defines the ODE, `tspan` is a two-element array containing the lower and upper bounds of the $t$ domain, `y0` is the initial value of $y$ at the lower bound and `h` is the step length.\n",
    "<a id=\"euler\"></a>"
   ]
  },
  {
   "cell_type": "code",
   "execution_count": 2,
   "metadata": {
    "collapsed": false
   },
   "outputs": [
   ],
   "source": [
    "def euler(f, tspan, y0, h):\n",
    "    '''\n",
    "    Calculuates the solution to an IVP using the Euler method\n",
    "    '''\n",
    "\n",
    "    # Initialise solution arrays\n",
    "    nsteps = int((tspan[1] - tspan[0]) / h)\n",
    "    t = np.zeros(nsteps + 1)\n",
    "    y = np.zeros(nsteps + 1)\n",
    "    t[0] = tspan[0]\n",
    "    y[0] = y0\n",
    "\n",
    "    # Solver loop\n",
    "    for n in range(nsteps):\n",
    "        y[n + 1] = y[n] + h * f(t[n], y[n])\n",
    "        t[n + 1] = t[n] + h\n",
    "\n",
    "    return t, y"
   ]
  },
  {
   "cell_type": "markdown",
   "metadata": {
    "collapsed": false
   },
   "source": [
    "The program below invokes the Euler method to solve this IVP."
   ]
  },
  {
   "cell_type": "code",
   "execution_count": 3,
   "metadata": {
    "collapsed": false
   },
   "outputs": [
    {
     "name": "stdout",
     "output_type": "stream",
     "text": [
      " t  Euler   Exact \n",
      "--- ------ -------\n",
      "0.0 1.0000  1.0000\n",
      "0.5 1.0000  1.0404\n",
      "1.0 1.1149  1.3135\n",
      "1.5 1.5096  2.0436\n",
      "2.0 2.2607  3.2845\n",
      "2.5 3.1953  4.4359\n",
      "3.0 3.7675  4.8059\n",
      "3.5 3.8050  4.8830\n",
      "4.0 4.0391  5.7699\n",
      "4.5 5.1958  8.5589\n",
      "5.0 7.6783 13.9573\n"
     ]
    },
    {
     "data": {
      "image/png": "[encoded data removed]",
      "text/plain": [
       "<Figure size 432x288 with 1 Axes>"
      ]
     },
     "execution_count": 3,
     "metadata": {
      "needs_background": "light"
     },
     "output_type": "execute_result"
    }
   ],
   "source": [
    "import numpy as np\n",
    "from astropy.table import Table\n",
    "import matplotlib.pyplot as plt\n",
    "from matplotlib import rc\n",
    "%matplotlib inline\n",
    "rc('text', usetex=True)\n",
    "\n",
    "# Define IVP parameters\n",
    "tspan = [0, 5]\n",
    "y0 = 1\n",
    "h = 0.5\n",
    "\n",
    "# Invoke the Euler method to solve IVP\n",
    "t, y = euler(f, tspan, y0, h)\n",
    "\n",
    "# Output solution table\n",
    "table = Table([t, y, exact_sol(t)], names=('t', 'Euler', 'Exact'))\n",
    "table['Euler'].info.format = '0.4f'\n",
    "table['Exact'].info.format = '0.4f'\n",
    "print(table)\n",
    "\n",
    "# Plot numerical and exact solutions\n",
    "fig, ax = plt.subplots()\n",
    "\n",
    "t1 = np.linspace(tspan[0], tspan[1], 100)\n",
    "ax.plot(t1, exact_sol(t1), 'k-', label='Exact solution')\n",
    "ax.plot(t, y, 'bo-', label='Euler method')\n",
    "\n",
    "ax.set_title(\"Solution to the IVP $y'=\\sin^2(t)y$, $y(0) = 1$\")\n",
    "ax.set_xlabel('$t$', fontsize=12)\n",
    "ax.set_ylabel('$y(t)$', fontsize=12)\n",
    "ax.legend()\n",
    "\n",
    "plt.show()"
   ]
  },
  {
   "cell_type": "markdown",
   "metadata": {
    "collapsed": false
   },
   "source": [
    "Here we can see that the solution using the Euler method deviates from the exact solution. This is because the Euler method is a first-order method and the truncation errors at each step accumulate as we step through the solution. One way to improve our solution is to use a smaller step length.\n",
    "\n",
    "\n",
    "#### Example 3\n",
    "Repeat the solution of the IVP in [example 2](#Example-2) using a step length of $h=0.1$."
   ]
  },
  {
   "cell_type": "code",
   "execution_count": 4,
   "metadata": {
    "collapsed": false
   },
   "outputs": [
    {
     "name": "stdout",
     "output_type": "stream",
     "text": [
      " t   Euler   Exact \n",
      "--- ------- -------\n",
      "0.0  1.0000  1.0000\n",
      "0.1  1.0000  1.0003\n",
      "0.2  1.0010  1.0026\n",
      "0.3  1.0049  1.0089\n",
      "0.4  1.0137  1.0209\n",
      "0.5  1.0291  1.0404\n",
      "0.6  1.0528  1.0693\n",
      "0.7  1.0863  1.1092\n",
      "0.8  1.1314  1.1620\n",
      "0.9  1.1896  1.2294\n",
      "...     ...     ...\n",
      "4.0  5.2940  5.7699\n",
      "4.1  5.5972  6.1400\n",
      "4.2  5.9720  6.5953\n",
      "4.3  6.4256  7.1449\n",
      "4.4  6.9650  7.7972\n",
      "4.5  7.5957  8.5589\n",
      "4.6  8.3215  9.4336\n",
      "4.7  9.1432 10.4208\n",
      "4.8 10.0574 11.5142\n",
      "4.9 11.0554 12.7002\n",
      "5.0 12.1225 13.9573\n",
      "Length = 51 rows\n"
     ]
    },
    {
     "data": {
      "image/png": "[encoded data removed]",
      "text/plain": [
       "<Figure size 432x288 with 1 Axes>"
      ]
     },
     "execution_count": 4,
     "metadata": {
      "needs_background": "light"
     },
     "output_type": "execute_result"
    }
   ],
   "source": [
    "# Invoke the Euler method to solve IVP using a step length of h = 0.1\n",
    "t1, y1 = euler(f, tspan, y0, 0.5)\n",
    "t2, y2 = euler(f, tspan, y0, 0.1)\n",
    "\n",
    "# Output solution table\n",
    "table = Table([t2, y2, exact_sol(t2)], names=('t', 'Euler', 'Exact'))\n",
    "table['t'].info.format = '0.1f'\n",
    "table['Euler'].info.format = '0.4f'\n",
    "table['Exact'].info.format = '0.4f'\n",
    "print(table)\n",
    "\n",
    "# Plot numerical and exact solutions\n",
    "fig, ax = plt.subplots()\n",
    "\n",
    "ax.plot(t2, exact_sol(t2), 'k-', label='Exact solution')\n",
    "ax.plot(t1, y1, 'bo-', label='Euler $(h=0.5)$')\n",
    "ax.plot(t2, y2, 'ro-', label='Euler $(h=0.1)$')\n",
    "\n",
    "ax.set_title(\"Solution to the IVP $y'=\\sin^2(t)y$, $y(0) = 1$\")\n",
    "ax.set_xlabel('$t$')\n",
    "ax.set_ylabel('$y(t)$')\n",
    "ax.legend()\n",
    "\n",
    "plt.show()"
   ]
  },
  {
   "cell_type": "markdown",
   "metadata": {
    "collapsed": false
   },
   "source": [
    "Here we can see that although using a smaller step length has increased the accuracy of the solution it still doesnt match the exact solution. The Euler method is easy to derive and apply but is not very accurate. \n",
    "\n",
    "The derivation of more accurate methods is covered in [Runge-Kutta methods](runge_kutta_methods.ipynb)."
   ]
  },
  {
   "cell_type": "markdown",
   "metadata": {
    "collapsed": false
   },
   "source": [
    "---\n",
    "## Solving higher-order ordinary differential equations\n",
    "\n",
    "The numerical methods that are applied to calculate the solutions to ODEs can only be applied to first-order ODEs. To apply them to higher-order ODEs we first need to rewrite them as a system of first-order ODEs.\n",
    "\n",
    "Consider the $N$th-order ODE \n",
    "\n",
    "$$y^{(N)} = f(t, y, y', y'', \\ldots, y^{(N-1)}).$$\n",
    "\n",
    "If we let $y_1=y$, $y_2 = y'$, $y_3 = y''$ and so on up to $y_N = y^{(N-1)}$ then we have\n",
    "\n",
    "\\begin{align*}\n",
    "    y_1' &= y_2, \\\\\n",
    "    y_2' &= y_3, \\\\\n",
    "    & \\vdots \\\\\n",
    "    y_N' &= f(t, y_1, y_2, y_3, \\ldots , y_N).\n",
    "\\end{align*}\n",
    "\n",
    "This is a system of $N$ first-order ODEs. We can apply our numerical methods for solving ODEs to each equation in the system to give an equivalent solution to the $n$th-order ODE."
   ]
  },
  {
   "cell_type": "markdown",
   "metadata": {
    "collapsed": false
   },
   "source": [
    "#### Example 4\n",
    "\n",
    "Rewrite the following third-order ODE as a system of three first-order ODEs.\n",
    "\n",
    "$$ y''' + yy'' - 2y' + tyy'' - 10 = 0$$\n",
    "\n",
    "Let $y_1 = y$, $y_2 = y'$, $y_3 = y''$ then we can rewrite this ODE using\n",
    "\n",
    "\\begin{align*}\n",
    "    y_1' &= y_2, \\\\\n",
    "    y_2' &= y_3, \\\\\n",
    "    y_3' &= -y_1y_3 + 2y_2 - ty_1y_2 + 10.\n",
    "\\end{align*}"
   ]
  },
  {
   "cell_type": "markdown",
   "metadata": {
    "collapsed": false
   },
   "source": [
    "### Solving Systems of Ordinary Differential Equations\n",
    "\n",
    "A system of $N$ first-order ODEs is written in the form\n",
    "\n",
    "\\begin{align*}\n",
    "    y_1' &= f_1(t, y_1), \\\\\n",
    "    y_2' &= f_2(t, y_2), \\\\\n",
    "    & \\vdots \\\\\n",
    "    y_N' &= f_N(t, y_N).\n",
    "\\end{align*}\n",
    "\n",
    "Let $\\mathbf{y} = \\pmatrix{y_1 \\\\ y_2 \\\\ \\vdots \\\\ y_N}$ and $F(t, \\mathbf{y}) = \\pmatrix{f_1(t, y_1) \\\\ f_2(t, y_2) \\\\ \\vdots \\\\ f_N(t, y_N)}$ then we can write the system in vector form\n",
    "\n",
    "$$\\mathbf{y}' = F(t, \\mathbf{y}).$$\n",
    "\n",
    "Therefore Euler method for solving this ODE in vector form is\n",
    "\n",
    "$$ \\mathbf{y}_{n+1} = \\mathbf{y}_n + hF(t, \\mathbf{y}).$$\n",
    "\n"
   ]
  },
  {
   "cell_type": "markdown",
   "metadata": {
    "collapsed": false
   },
   "source": [
    "#### Example 5\n",
    "\n",
    "Calculate two steps of the Euler method used to solve the IVP\n",
    "\n",
    "\\begin{align*}\n",
    "    y'' + y &= 0, & t &\\in[0, 10], & y(0) &= 2, & y'(0) = 0.\n",
    "\\end{align*}\n",
    "\n",
    "using a step length of $h=0.1$.\n",
    "\n",
    "First we need to rewrite the second-order ODE as two first-order ODEs. Let $y_1=y$ and $y_2=y'$ then\n",
    "\n",
    "\\begin{align*}\n",
    "    y_1' &= y_2, & y_1(0) = 2,\\\\\n",
    "    y_2' &= -y_1, & y_2(0) = 0,\n",
    "\\end{align*}\n",
    "\n",
    "and we have\n",
    "\n",
    "\\begin{align*}\n",
    "    \\mathbf{y} &= \\pmatrix{y_1 \\\\ y_2}, &\n",
    "    F(t, \\mathbf{y}) &= \\pmatrix{ y_2 \\\\ -y_1}.\n",
    "\\end{align*}\n",
    "\n",
    "Calculating the first two steps of the Euler method:\n",
    "\n",
    "\\begin{align*}\n",
    "    \\mathbf{y}_1 &= \\mathbf{y}_0 + hF(t_0, \\mathbf{y}_0)\n",
    "    = \\pmatrix{2 \\\\ 0} + 0.1 \\pmatrix{ 0 \\\\ -2 }\n",
    "    = \\pmatrix{2 \\\\ -0.2}, \\\\\n",
    "    \\mathbf{y}_2 &= \\mathbf{y}_1 + hF(t_1, \\mathbf{y}_1) \n",
    "    = \\pmatrix{2 \\\\ -0.2} + 0.1 \\pmatrix{-0.2 \\\\ -2} \n",
    "    = \\pmatrix{1.98 \\\\ -0.4}.\n",
    "\\end{align*}"
   ]
  },
  {
   "cell_type": "markdown",
   "metadata": {
    "collapsed": false
   },
   "source": [
    "#### Example 6\n",
    "\n",
    "Calculate the solution of the IVP from [example 5](#Example-1) over the whole domain $t\\in [0,10]$ using the Euler method with a step length of $h=0.1$ and compare it to the exact solution given by\n",
    "\n",
    "$$y = 2\\cos(t)$$\n",
    "\n",
    "The functions below defines the right-hand side of the ODE and the exact solution to the IVP."
   ]
  },
  {
   "cell_type": "code",
   "execution_count": 5,
   "metadata": {
    "collapsed": false
   },
   "outputs": [
   ],
   "source": [
    "import numpy as np\n",
    "\n",
    "def f(t, y):\n",
    "    dy = np.zeros(y.shape)\n",
    "    dy[0] = y[1]\n",
    "    dy[1] = -y[0]\n",
    "    return dy\n",
    "\n",
    "def exact_sol(t):\n",
    "    return 2 * np.cos(t)"
   ]
  },
  {
   "cell_type": "markdown",
   "metadata": {
    "collapsed": false
   },
   "source": [
    "The code below defines a function called `euler2` that solves an IVP defined using a system of ODEs. This is very similar to the [`euler`](#euler) function defined earlier with the exeption that the `y` array as $N$ columns."
   ]
  },
  {
   "cell_type": "code",
   "execution_count": 6,
   "metadata": {
    "collapsed": false
   },
   "outputs": [
   ],
   "source": [
    "def euler2(f, tspan, y0, h):\n",
    "    '''\n",
    "    This function calculates the solution to an IVP expressed using a system\n",
    "    of ODEs using the Euler method\n",
    "    '''\n",
    "\n",
    "    # Initialise solution arrays\n",
    "    nsteps = int((tspan[1] - tspan[0]) / h)\n",
    "    t = np.zeros(nsteps + 1)\n",
    "    y = np.zeros((nsteps + 1, len(y0)))\n",
    "    t[0] = tspan[0]\n",
    "    y[0, :] = y0\n",
    "\n",
    "    # Solver loop\n",
    "    for n in range(nsteps):\n",
    "        y[n + 1, :] = y[n, :] + h * f(t[n], y[n, :])\n",
    "        t[n + 1] = t[n] + h\n",
    "\n",
    "    return t, y"
   ]
  },
  {
   "cell_type": "markdown",
   "metadata": {
    "collapsed": false
   },
   "source": [
    "The program below invokes the Euler method to solve this IVP."
   ]
  },
  {
   "cell_type": "code",
   "execution_count": 7,
   "metadata": {
    "collapsed": false
   },
   "outputs": [
    {
     "name": "stdout",
     "output_type": "stream",
     "text": [
      " t    Euler   Exact \n",
      "---- ------- -------\n",
      " 0.0  2.0000  2.0000\n",
      " 0.1  2.0000  1.9900\n",
      " 0.2  1.9800  1.9601\n",
      " 0.3  1.9400  1.9107\n",
      " 0.4  1.8802  1.8421\n",
      " 0.5  1.8010  1.7552\n",
      " 0.6  1.7030  1.6507\n",
      " 0.7  1.5870  1.5297\n",
      " 0.8  1.4539  1.3934\n",
      " 0.9  1.3050  1.2432\n",
      " ...     ...     ...\n",
      " 9.0 -2.8118 -1.8223\n",
      " 9.1 -2.9492 -1.8954\n",
      " 9.2 -3.0585 -1.9497\n",
      " 9.3 -3.1383 -1.9845\n",
      " 9.4 -3.1875 -1.9994\n",
      " 9.5 -3.2054 -1.9943\n",
      " 9.6 -3.1913 -1.9694\n",
      " 9.7 -3.1453 -1.9247\n",
      " 9.8 -3.0673 -1.8609\n",
      " 9.9 -2.9578 -1.7784\n",
      "10.0 -2.8177 -1.6781\n",
      "Length = 101 rows\n"
     ]
    },
    {
     "data": {
      "image/png": "[encoded data removed]",
      "text/plain": [
       "<Figure size 432x288 with 1 Axes>"
      ]
     },
     "execution_count": 7,
     "metadata": {
      "needs_background": "light"
     },
     "output_type": "execute_result"
    }
   ],
   "source": [
    "import numpy as np\n",
    "from astropy.table import Table\n",
    "import matplotlib.pyplot as plt\n",
    "from matplotlib import rc\n",
    "rc('text', usetex=True)\n",
    "%matplotlib inline\n",
    "\n",
    "# Define IVP parameters\n",
    "tspan = [0, 10]\n",
    "y0 = [2, 0]\n",
    "h = 0.1\n",
    "\n",
    "# Solve IVP using the Euler method\n",
    "t, y = euler2(f, tspan, y0, h)\n",
    "\n",
    "# Output solution table\n",
    "table = Table([t, y[:,0], exact_sol(t)], names=('t', 'Euler', 'Exact'))\n",
    "table['t'].info.format = '0.1f'\n",
    "table['Euler'].info.format = '0.4f'\n",
    "table['Exact'].info.format = '0.4f'\n",
    "print(table)\n",
    "\n",
    "# Plot solution\n",
    "fig, ax = plt.subplots()\n",
    "\n",
    "ax.plot(t, exact_sol(t), 'k-', label='Exact')\n",
    "ax.plot(t, y[:,0], 'bo-', label='Euler')\n",
    "ax.set_title(\"Solutions to the IVP $y''+y=0$, $y(0)=2$, $y'(0)=0$\")\n",
    "ax.set_xlabel('$t$', fontsize=12)\n",
    "ax.set_ylabel('$y(t)$', fontsize=12)\n",
    "ax.legend()\n",
    "\n",
    "plt.show()"
   ]
  },
  {
   "cell_type": "markdown",
   "metadata": {
    "collapsed": false
   },
   "source": [
    "Here we can see that the Euler method solution is deviating away from the exact solution. Once again this is a result of the lower order accuracy of the Euler method."
   ]
  },
  {
   "cell_type": "markdown",
   "metadata": {
    "collapsed": false
   },
   "source": [
    "---\n",
    "## Summary\n",
    "\n",
    "- An [initial value problem](#Initial-Value-Problems) is expressed as an ODE where the solution at the lower bound of the domain is known.\n",
    "- The [Euler method](#The-Euler-method) is derived by truncating the Taylor series after the first-order term. It advances the solution over a small step of length $h$ using known values of $t_n$ and $y_n$ to calculate $y_{n+1}=y(t_n + h)$.\n",
    "- The Euler method is only first-order accurate so the solutions tend to be inaccurate unless using a very small value of $h$.\n",
    "- [Higher-order ODEs](#Solving-higher-order-ordinary-differential-equations) can be rewritten as systems of first-order ODEs which can be solved using numerical solvers.\n",
    "\n",
    "Next: [Runge-Kutta Methods](runge_kutta_methods.ipynb)"
   ]
  }
 ],
 "metadata": {
  "kernelspec": {
   "display_name": "Python 3 (system-wide)",
   "language": "python",
   "metadata": {
    "cocalc": {
     "description": "Python 3 programming language",
     "priority": 100,
     "url": "https://www.python.org/"
    }
   },
   "name": "python3"
  },
  "language_info": {
   "codemirror_mode": {
    "name": "ipython",
    "version": 3
   },
   "file_extension": ".py",
   "mimetype": "text/x-python",
   "name": "python",
   "nbconvert_exporter": "python",
   "pygments_lexer": "ipython3",
   "version": "3.6.9"
  }
 },
 "nbformat": 4,
 "nbformat_minor": 4
}