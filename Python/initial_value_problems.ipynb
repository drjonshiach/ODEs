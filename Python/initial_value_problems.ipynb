{
 "cells": [
  {
   "cell_type": "markdown",
   "metadata": {},
   "source": [
    "# Computational Methods in Ordinary Differential Equations\n",
    "\n",
    "*Dr Jon Shiach, Department of Computing and Mathematics, Manchester Metropolitan University*"
   ]
  },
  {
   "cell_type": "markdown",
   "metadata": {},
   "source": [
    "---\n",
    "# Initial Value Problems\n",
    "\n",
    "An [**Initial Value Problem**](https://en.wikipedia.org/wiki/Initial_value_problem) (IVP) is written as an [Ordinary Differential Equation](https://en.wikipedia.org/wiki/Ordinary_dif) (ODE) where the initial solution at the lower boundary of the domain is known. For example,\n",
    "\n",
    "\\begin{align*}\n",
    "    y' &= f(t, y), & t &\\in [t_{\\min}, t_{\\max}], & y(t_{\\min}) &= y_0.\n",
    "\\end{align*}\n",
    "\n",
    "Here a first-order ODE $y'=f(t,y)$ is defined over the domain $t\\in [t_{\\min}, t_{\\max}]$ and the initial solution $y(t_{\\min})$ is the known value $y_0$. \n",
    "\n",
    "In most real world practical applications, IVPs cannot be solved using analytical methods so instead we use computational methods called **ODE solvers** to approximate the solutions. The simplest ODE solver is the Euler method.\n",
    "\n",
    "## The Euler Method\n",
    "The [**Euler method**](https://en.wikipedia.org/wiki/Euler_method) for solving the first-order Ordinary Differential Equation (ODE) can be derived very easily by truncating the [Taylor series](https://en.wikipedia.org/wiki/Taylor_series) after the first-order term\n",
    "\n",
    "\\begin{equation}\n",
    "    y_{n+1} = y_n + hf(t_n, y_n),\n",
    "\\end{equation}\n",
    "\n",
    "where the subscript notation used is $y_{n+1} = y(t + h)$, $y_n = y(t_n)$.\n",
    "\n",
    "\n",
    "\n",
    "To apply the Euler method to solve an IVP we loop through the domain and calculate the values of $y_{n+1}$ using the Euler method with the known values $t_{n}$ and $y_n$. \n",
    "\n",
    "The code below defines a function `euler` that solves an IVP where `tspan` is a two element array containing the lower and upper bounds of the $t$ domain, `y0` is the value of $y$ at the lower bound and `h` is the step length."
   ]
  },
  {
   "cell_type": "code",
   "execution_count": 1,
   "metadata": {},
   "outputs": [],
   "source": [
    "import numpy as np\n",
    "\n",
    "\n",
    "def euler(f, tspan, y0, h):\n",
    "\n",
    "    nsteps = int((tspan[1] - tspan[0]) / h)\n",
    "    t = np.zeros(nsteps + 1)\n",
    "    y = np.zeros(nsteps + 1)\n",
    "    t[0] = tspan[0]\n",
    "    y[0] = y0\n",
    "    \n",
    "    for n in range(nsteps):\n",
    "        y[n+1] = y[n] + h * f(t[n], y[n])\n",
    "        t[n+1] = t[n] + h\n",
    "    \n",
    "    return t, y"
   ]
  },
  {
   "cell_type": "markdown",
   "metadata": {},
   "source": [
    "#### Example 1\n",
    "Use the Euler method to calculate the solution to the IVP\n",
    "\n",
    "$$ y' = y \\sin^2(t), \\qquad t \\in [0, 5], \\qquad y_0 = 1,$$\n",
    "\n",
    "using a step length $h=0.5$.\n",
    "\n",
    "The function below defines $f(t,y)$ for this ODE."
   ]
  },
  {
   "cell_type": "code",
   "execution_count": 2,
   "metadata": {},
   "outputs": [],
   "source": [
    "def f(t, y):\n",
    "    return y * np.sin(t)**2"
   ]
  },
  {
   "cell_type": "markdown",
   "metadata": {},
   "source": [
    "The program below invokes the Euler method to solve this IVP."
   ]
  },
  {
   "cell_type": "code",
   "execution_count": 4,
   "metadata": {},
   "outputs": [
    {
     "name": "stdout",
     "output_type": "stream",
     "text": [
      "----------------\n",
      "  t  |    y \n",
      "----------------\n",
      " 0.0 | 1.000000\n",
      " 0.5 | 1.000000\n",
      " 1.0 | 1.114924\n",
      " 1.5 | 1.509649\n",
      " 2.0 | 2.260696\n",
      " 2.5 | 3.195292\n",
      " 3.0 | 3.767519\n",
      " 3.5 | 3.805034\n",
      " 4.0 | 4.039137\n",
      " 4.5 | 5.195845\n",
      " 5.0 | 7.678329\n",
      "----------------\n"
     ]
    }
   ],
   "source": [
    "# Define IVP parameters\n",
    "tspan = [0, 5]\n",
    "y0 = 1\n",
    "h = 0.5\n",
    "\n",
    "# Invoke the Euler method to solve IVP\n",
    "t, y = euler(f, tspan, y0, h)\n",
    "\n",
    "# Output solution table\n",
    "hline = '-' * 16\n",
    "print(hline + '\\n  t  |    y \\n' + hline)\n",
    "for i in range(len(t)):\n",
    "    print(' {:0.1f} | {:8.6f}'.format(t[i], y[i]))\n",
    "print(hline)"
   ]
  },
  {
   "cell_type": "markdown",
   "metadata": {},
   "source": [
    "The exact solution to this IVP is $y(t) = e^{\\frac{1}{2}(t - \\sin(t)\\cos(t)}$ and defined by the function below."
   ]
  },
  {
   "cell_type": "code",
   "execution_count": 3,
   "metadata": {},
   "outputs": [],
   "source": [
    "def exact_sol(t):\n",
    "    return np.exp(0.5 * (t - np.sin(t) * np.cos(t)))"
   ]
  },
  {
   "cell_type": "markdown",
   "metadata": {},
   "source": [
    "The code below plots the numerical solution obtained using the Euler method against the exact solution."
   ]
  },
  {
   "cell_type": "code",
   "execution_count": 8,
   "metadata": {},
   "outputs": [
    {
     "data": {
      "image/png": "[encoded data removed]",
      "text/plain": [
       "<Figure size 432x288 with 1 Axes>"
      ]
     },
     "metadata": {
      "needs_background": "light"
     },
     "output_type": "display_data"
    }
   ],
   "source": [
    "import matplotlib.pyplot as plt\n",
    "from matplotlib import rc\n",
    "rc('text', usetex=True)\n",
    "\n",
    "# Calculate exact solution\n",
    "t1 = np.linspace(tspan[0], tspan[1], 100)\n",
    "y1 = exact_sol(t1)\n",
    "\n",
    "# Plot exact solution and numerical solution\n",
    "fig, ax = plt.subplots()\n",
    "\n",
    "ax.plot(t1, y1, 'k-', label='Exact solution')\n",
    "ax.plot(t, y, 'bo-', label='Euler')\n",
    "\n",
    "ax.set_title(\"Solution to the IVP $y'=y\\sin^2(t)$, $y(0) = 1$\")\n",
    "ax.set_xlabel('$t$', fontsize=12)\n",
    "ax.set_ylabel('$y(t)$', fontsize=12)\n",
    "ax.legend()\n",
    "\n",
    "plt.show()"
   ]
  },
  {
   "cell_type": "markdown",
   "metadata": {},
   "source": [
    "Here we can see that the solution using the Euler method deviates from the exact solution. This is because the Euler method is a first-order method and the truncation errors at each step compound as we step through the solution. One way to improve our solution is to use a smaller step length.\n",
    "\n",
    "\n",
    "#### Example 2\n",
    "Repeat the solution of the IVP in [example 1](#Example-1) using a step length of $h=0.1$."
   ]
  },
  {
   "cell_type": "code",
   "execution_count": 11,
   "metadata": {},
   "outputs": [
    {
     "data": {
      "image/png": "[encoded data removed]",
      "text/plain": [
       "<Figure size 432x288 with 1 Axes>"
      ]
     },
     "metadata": {
      "needs_background": "light"
     },
     "output_type": "display_data"
    }
   ],
   "source": [
    "# Invoke the Euler method to solve IVP using a smaller step length\n",
    "h = 0.1\n",
    "t2, y2 = euler(f, tspan, y0, h)\n",
    "\n",
    "# Plot numerical and exact solutions\n",
    "fig, ax = plt.subplots()\n",
    "\n",
    "ax.plot(t1, y1, 'k-', label='Exact solution')\n",
    "ax.plot(t, y, 'bo-', label='Euler $(h=0.5)$')\n",
    "ax.plot(t2, y2, 'ro-', label='Euler $(h=0.1)$')\n",
    "\n",
    "ax.set_title(\"Solution to the IVP $y'=y\\sin^2(t)$, $y(0) = 1$\")\n",
    "ax.set_xlabel('$t$')\n",
    "ax.set_ylabel('$y(t)$')\n",
    "ax.legend()\n",
    "\n",
    "plt.show()"
   ]
  },
  {
   "cell_type": "markdown",
   "metadata": {},
   "source": [
    "Here we can see that although using a smaller step length has increased the accuracy of the solution it still isn't quite right. The Euler method is easy to derive and apply but is not very accurate. \n",
    "\n",
    "The derivation of more accurate methods is covered in [Runge-Kutta methods](runge_kutta_methods.ipynb)."
   ]
  }
 ],
 "metadata": {
  "kernelspec": {
   "display_name": "Python 3",
   "language": "python",
   "name": "python3"
  },
  "language_info": {
   "codemirror_mode": {
    "name": "ipython",
    "version": 3
   },
   "file_extension": ".py",
   "mimetype": "text/x-python",
   "name": "python",
   "nbconvert_exporter": "python",
   "pygments_lexer": "ipython3",
   "version": "3.7.4"
  }
 },
 "nbformat": 4,
 "nbformat_minor": 2
}
