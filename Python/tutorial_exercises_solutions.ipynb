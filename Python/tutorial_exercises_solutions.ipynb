{
 "cells": [
  {
   "cell_type": "markdown",
   "metadata": {},
   "source": [
    "# Computational Methods in Ordinary Differential Equations\n",
    "\n",
    "*Dr Jon Shiach, Department of Computing and Mathematics, Manchester Metropolitan University*"
   ]
  },
  {
   "cell_type": "markdown",
   "metadata": {},
   "source": [
    "---\n",
    "# Solutions to Tutorials Exercises\n",
    "\n",
    "1. [Initial Value Problems](#Initial-Value-Problems)\n",
    "1. [Direct Methods](#Direct-Methods)"
   ]
  },
  {
   "cell_type": "markdown",
   "metadata": {},
   "source": [
    "---\n",
    "## Initial Value Problems\n",
    "\n",
    "1. \n",
    "\n",
    "\n",
    "| $t$ | $y$ |\n",
    "|:--:|:--:|\n",
    "| 0.0 | 1.0000 |\n",
    "| 0.4 | 1.0000 |\n",
    "| 0.8 | 1.1600 |\n",
    "| 1.2 | 1.5312 |\n",
    "| 1.6 | 2.2662 |\n",
    "| 2.0 | 3.7165 |\n",
    "\n",
    "2. Reproduce your solutions to question 1 using Python."
   ]
  },
  {
   "cell_type": "code",
   "execution_count": 8,
   "metadata": {},
   "outputs": [
    {
     "name": "stdout",
     "output_type": "stream",
     "text": [
      " t  Euler \n",
      "--- ------\n",
      "0.0 1.0000\n",
      "0.4 1.0000\n",
      "0.8 1.1600\n",
      "1.2 1.5312\n",
      "1.6 2.2662\n",
      "2.0 3.7165\n"
     ]
    }
   ],
   "source": [
    "%matplotlib inline\n",
    "import numpy as np\n",
    "from astropy.table import Table\n",
    "import matplotlib.pyplot as plt\n",
    "from matplotlib import rc\n",
    "rc('text', usetex=True)\n",
    "\n",
    "def euler(f, tspan, y0, h):\n",
    "    '''\n",
    "    Calculuates the solution to an IVP using the Euler method\n",
    "    '''\n",
    "\n",
    "    # Initialise solution arrays\n",
    "    nsteps = int((tspan[1] - tspan[0]) / h)\n",
    "    t = np.zeros(nsteps + 1)\n",
    "    y = np.zeros(nsteps + 1)\n",
    "    t[0] = tspan[0]\n",
    "    y[0] = y0\n",
    "\n",
    "    # Solver loop\n",
    "    for n in range(nsteps):\n",
    "        y[n + 1] = y[n] + h * f(t[n], y[n])\n",
    "        t[n + 1] = t[n] + h\n",
    "\n",
    "    return t, y\n",
    "\n",
    "# Define ODE function\n",
    "def f(t, y):\n",
    "    return  t*y\n",
    "\n",
    "# Define IVP parameters\n",
    "tspan = [ 0, 2 ]\n",
    "y0 = 1\n",
    "h = 0.4\n",
    "\n",
    "# Solve IVP using the Euler method\n",
    "t, y = euler(f, tspan, y0, h)\n",
    "\n",
    "# Output solution table\n",
    "table = Table([t, y], names=('t', 'Euler'))\n",
    "table['t'].info.format = '0.1f'\n",
    "table['Euler'].info.format = '0.4f'\n",
    "print(table)"
   ]
  },
  {
   "cell_type": "markdown",
   "metadata": {},
   "source": [
    "3. . The exact solution to the IVP in question 1 is $y=e^{\\frac{1}{2}t^2}$. Produce a plot of the Euler solution from question 2 against the exact solution."
   ]
  },
  {
   "cell_type": "code",
   "execution_count": 10,
   "metadata": {},
   "outputs": [
    {
     "data": {
      "image/png": "[encoded data removed]",
      "text/plain": [
       "<Figure size 432x288 with 1 Axes>"
      ]
     },
     "metadata": {
      "needs_background": "light"
     },
     "output_type": "display_data"
    }
   ],
   "source": [
    "def exact_sol(t):\n",
    "    return np.exp(0.5 * t**2)\n",
    "\n",
    "# Plot solution\n",
    "fig, ax = plt.subplots()\n",
    "\n",
    "t1 = np.linspace(tspan[0], tspan[1], 100)\n",
    "ax.plot(t1, exact_sol(t1), 'k-', label='Exact')\n",
    "ax.plot(t, y, 'bo-', label='Euler')\n",
    "ax.set_title(\"Solutions to the IVP $y'=ty$, $y(0)=2$\")\n",
    "ax.set_xlabel('$t$', fontsize=12)\n",
    "ax.set_ylabel('$y(t)$', fontsize=12)\n",
    "ax.legend()\n",
    "\n",
    "plt.show()"
   ]
  },
  {
   "cell_type": "markdown",
   "metadata": {},
   "source": [
    "---\n",
    "## Direct Methods\n",
    "\n",
    "1. \n",
    "&emsp; (a) $L = \\begin{pmatrix} 1 & 0 & 0 \\\\ 2 & 1 & 0 \\\\ 0 & 1 & 1 \\end{pmatrix},\n",
    "U = \\begin{pmatrix} 2 & 3 & -1 \\\\ 0 & 3 & 1 \\\\ 0 & 0 & 1 \\end{pmatrix},\n",
    "\\mathbf{x} = \\begin{pmatrix} -2 \\\\ 3 \\\\ 1 \\end{pmatrix}.$\n",
    "<br><br>\n",
    "&emsp; (b) $L = \\begin{pmatrix} 1 & 0 & 0 \\\\ 1/3 & 1 & 0 \\\\ 2/3 & 2 & 1 \\end{pmatrix},\n",
    "U = \\begin{pmatrix} 3 & 9 & 5 \\\\ 0 & -1 & 1/3 \\\\ 0 & 0 & 1 \\end{pmatrix},\n",
    "\\mathbf{x} = \\begin{pmatrix} 1 \\\\ 3 \\\\ -2 \\end{pmatrix}.$\n",
    "<br><br>\n",
    "&emsp; (c) $L = \\begin{pmatrix} 1 & 0 & 0 & 0 \\\\ 3 & 1 & 0 & 0 \\\\ 4 & 1/2 & 1 & 0 \\\\ 0 & -1 & 1/3 & 1 \\end{pmatrix},\n",
    "    U = \\begin{pmatrix} 1 & 0 & 3 & 2 \\\\ 0 & -2 & -4 & -5 \\\\ 0 & 0 & -12 & 17/2 \\\\ 0 & 0 & 0 & 5/6 \\end{pmatrix},\n",
    "    \\mathbf{x} = \\begin{pmatrix} 2 \\\\ -1 \\\\ 3 \\\\ 5 \\end{pmatrix}.$\n",
    "<br><br>\n",
    "&emsp; (d) $L = \\begin{pmatrix} 1 & 0 & 0 & 0 \\\\ -2 & 1 & 0 & 0 \\\\ 3 & -7/3 & 1 & 0 \\\\ -3 & 2 & -1/3 & 1 \\end{pmatrix},\n",
    "U = \\begin{pmatrix} 1 & 5 & 2 & 2 \\\\ 0 & 6 & 6 & 4 \\\\ 0 & 0 & 6 & 7/3 \\\\ 0 & 0 & 0 &  20/9 \\end{pmatrix}, \n",
    "\\mathbf{x} = \\begin{pmatrix} 1 \\\\ -3 \\\\ 0 \\\\ 2 \\end{pmatrix}.$\n",
    "<br><br> \n",
    "\n",
    "3. &emsp; (a) $P = \\begin{pmatrix} 0 & 1 & 0 \\\\ 1 & 0 & 0 \\\\ 0 & 0 & 1 \\end{pmatrix}$, \n",
    "$L = \\begin{pmatrix} 1 & 0 & 0 \\\\ 1/2 & 1 & 0 \\\\ 0 & -2 & 1 \\end{pmatrix}$,\n",
    "$U = \\begin{pmatrix} 4 & 9 & -1 \\\\ 0 & -3/2 & -1/2 \\\\ 0 & 0 & 1 \\end{pmatrix}$, \n",
    "$\\mathbf{x} = \\begin{pmatrix} -2 \\\\ 3 \\\\ 1 \\end{pmatrix}$.\n",
    "<br>\n",
    "&emsp; (b) $P = \\begin{pmatrix} 1 & 0 & 0 \\\\ 0 & 0 & 1 \\\\ 0 & 1 & 0 \\end{pmatrix}$, \n",
    "$L = \\begin{pmatrix} 1 & 0 & 0 \\\\ 2/3 & 1 & 0 \\\\ 1/3 & 1/2 & 1 \\end{pmatrix}$,\n",
    "$U = \\begin{pmatrix} 3 & 9 & 5 \\\\ 0 & -2 & 5/3 \\\\ 0 & 0 & -1/2 \\end{pmatrix}$, \n",
    "$\\mathbf{x} = \\begin{pmatrix} 1 \\\\ 3 \\\\ -2 \\end{pmatrix}$.\n",
    "<br><br>\n",
    "&emsp; (c) $P = \\begin{pmatrix} 0 & 0 & 1 & 0 \\\\ 0 & 1 & 0 & 0 \\\\ 1 & 0 & 0 & 0 \\\\ 0 & 0 & 0 & 1 \\end{pmatrix}$, \n",
    "$L = \\begin{pmatrix} 1 & 0 & 0 & 0 \\\\ 3/4 & 1 & 0 & 0 \\\\ 1/3 & -1/5 & 1 & 0 \\\\ 0 & -8/5 & 13/6 & 1 \\end{pmatrix}$,\n",
    "$U = \\begin{pmatrix} 4 & -1 & -2 & -3 \\\\ 0 & -5/4 & 13/2 & 7/4 \\\\ 0 & 0 & 24/5 & 17/4 \\\\ 0 & 0 & 0 & 5/6 \\end{pmatrix}$, \n",
    "$\\mathbf{x} = \\begin{pmatrix} 2 \\\\ -1 \\\\ 3 \\\\ 5 \\end{pmatrix}$.\n",
    "<br><br>\n",
    "&emsp; (d) $P = \\begin{pmatrix} 0 & 0 & 1 & 0 \\\\ 0 & 1 & 0 & 0 \\\\ 0 & 0 & 0 & 1 \\\\ 1 & 0 & 0 & 0 \\end{pmatrix}$, \n",
    "$L = \\begin{pmatrix} 1 & 0 & 0 & 0 \\\\ -2/3 & 1 & 0 & 0 \\\\ -1 & 3/5 & 1 & 0 \\\\ 1/3 & -7/5 & 9/4 & 1\\end{pmatrix}$,\n",
    "$U = \\begin{pmatrix} 3 & 1 & -2 & -1 \\\\ 0 & -10/3 & 2/3 & -2/3 \\\\ 0 & 0 & 8/5 & -8/5 \\\\ 0 & 0 & 0 & 5  \\end{pmatrix}$, \n",
    "$\\mathbf{x} = \\begin{pmatrix} 1 \\\\ -3 \\\\ 0 \\\\ 2 \\end{pmatrix}$.\n",
    "<br><br>\n",
    "\n",
    "3. &emsp; (a) $L = \\begin{pmatrix} 4 & 0 & 0 \\\\ 4 & 3 & 0 \\\\ 1 & 2 & 1 \\end{pmatrix}$, \n",
    "$\\mathbf{x} = \\begin{pmatrix} 3 \\\\ -3 \\\\ -2 \\end{pmatrix}$.\n",
    "<br><br>\n",
    "&emsp; (b) $L = \\begin{pmatrix} 2 & 0 & 0 \\\\ 1 & 4 & 0 \\\\ 4 & 4 & 3 \\end{pmatrix}$, \n",
    "$\\mathbf{x} = \\begin{pmatrix} 5 \\\\ 0 \\\\ 2 \\end{pmatrix}$.\n",
    "<br><br>\n",
    "&emsp; (c) $L = \\begin{pmatrix} 3 & 0 & 0 & 0 \\\\ -3 & 4 & 0 & 0 \\\\ 0 & 2 & 2 & 0 \\\\ -2 & -4 & -3 & 1 \\end{pmatrix}$, \n",
    "$\\mathbf{x} = \\begin{pmatrix} -2 \\\\ -4 \\\\ -3 \\\\ 1 \\end{pmatrix}$.\n",
    "<br><br>\n",
    "&emsp; (d) $L = \\begin{pmatrix} 1 & 0 & 0 & 0 \\\\ 5 & 2 & 0 & 0 \\\\ -1 & 4 & 5 & 0 \\\\ 2 & 1 & -3 & 5 \\end{pmatrix}$, \n",
    "$\\mathbf{x} = \\begin{pmatrix} -2 \\\\ 4 \\\\ 0 \\\\ -2 \\end{pmatrix}$.\n",
    "<br><br>\n",
    "\n",
    "3. &emsp; (a) $Q = \\begin{pmatrix} \\sqrt{2}/2 & \\sqrt{2}/2 \\\\ -\\sqrt{2}/2 & \\sqrt{2}/2 \\end{pmatrix}$, \n",
    "$R = \\begin{pmatrix} \\sqrt{2} & \\sqrt{2}/2 \\\\ 0 & \\sqrt{2}/2 \\end{pmatrix}$, \n",
    "$\\mathbf{x} = \\begin{pmatrix} 5 \\\\ 4 \\end{pmatrix}$.\n",
    "<br><br>\n",
    "&emsp; (b) $Q = \\begin{pmatrix} 6/7 & -3/7 & -3/7 \\\\ 3/7 & 6/7 & 2/7 \\\\ 2/7 & -3/7 & 6/7 \\end{pmatrix}$,\n",
    "$R = \\begin{pmatrix} 7 & 8 & 11/7 \\\\ 0 & 3 & 1/7 \\\\ 0 & 0 & 5/7 \\end{pmatrix}$,\n",
    "$\\mathbf{x} = \\begin{pmatrix} 1 \\\\ -1 \\\\ 3 \\end{pmatrix}$.\n",
    "<br><br>\n",
    "&emsp; (c) $Q = \\begin{pmatrix} 1/2 & 1/6 & -\\sqrt{2}/3 \\\\ 1/2 & 1/2 & \\sqrt{2}/2 \\\\ 1/2 & -5/6 & \\sqrt{2}/6 \\\\ 1/2 & 1/6 & -\\sqrt{2}/3 \\end{pmatrix}$,\n",
    "$R = \\begin{pmatrix} 2 & 2 & 11/2 \\\\ 0 & 6 & -19/6 \\\\ 0 & 0 & 11\\sqrt{2}/6 \\end{pmatrix}$,\n",
    "$\\mathbf{x} = \\begin{pmatrix} -62/11 \\\\ 47/22 \\\\ 15/11 \\end{pmatrix}$."
   ]
  }
 ],
 "metadata": {
  "kernelspec": {
   "display_name": "Python 3",
   "language": "python",
   "name": "python3"
  },
  "language_info": {
   "codemirror_mode": {
    "name": "ipython",
    "version": 3
   },
   "file_extension": ".py",
   "mimetype": "text/x-python",
   "name": "python",
   "nbconvert_exporter": "python",
   "pygments_lexer": "ipython3",
   "version": "3.7.4"
  }
 },
 "nbformat": 4,
 "nbformat_minor": 4
}
