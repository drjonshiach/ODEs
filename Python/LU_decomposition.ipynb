{
 "cells": [
  {
   "cell_type": "markdown",
   "metadata": {},
   "source": [
    "# Computational Methods in Ordinary Differential Equations\n",
    "\n",
    "*Dr Jon Shiach, Department of Computing and Mathematics, Manchester Metropolitan University*"
   ]
  },
  {
   "cell_type": "markdown",
   "metadata": {},
   "source": [
    "---\n",
    "# LU Decomposition\n",
    "\n",
    "#### Learning outcomes\n",
    "\n",
    "On successful completion of this page readers will be able to:\n",
    "\n",
    "- k"
   ]
  },
  {
   "cell_type": "markdown",
   "metadata": {},
   "source": [
    "## Elementary matrices\n",
    "\n",
    "An [**elementary matrix**](https://en.wikipedia.org/wiki/Elementary_matrix) is a matrix that is produced by performing a single **Elementary Row Operation** (ERO) on an identity matrix $I$. The three types of EROs are\n",
    "\n",
    "- Type I: swap row $i$ and $j$ of $I$\n",
    "\n",
    "$$P_{ij}: R_i \\leftrightarrow R_j.$$\n",
    "\n",
    "- Type II: multiply row $i$ of $I$ by the scalar $k$\n",
    "\n",
    "$$M_i(k): R_i \\to kR_i.$$\n",
    "\n",
    "- Type III: add $k$ times row $j$ to row $i$ of $I$\n",
    "\n",
    "$$A_{ij}(k): R_i \\to R_i + kR_j.$$"
   ]
  },
  {
   "cell_type": "markdown",
   "metadata": {},
   "source": [
    "#### Example 1\n",
    "\n",
    "Write down all of the $3\\times 3$ elementary matrices\n",
    "\n",
    "\\begin{align*}\n",
    "    P_{12} &= \\pmatrix{0 & 1 & 0 \\\\ 1 & 0 & 0 \\\\ 0 & 0 & 1}, &\n",
    "    P_{13} &= \\pmatrix{0 & 0 & 1 \\\\ 0 & 1 & 0 \\\\ 1 & 0 & 0}, &\n",
    "    P_{23} &= \\pmatrix{1 & 0 & 0 \\\\ 0 & 0 & 1 \\\\ 0 & 1 & 0}, \\\\\n",
    "    M_1(k) &= \\pmatrix{k & 0 & 0 \\\\ 0 & 1 & 0 \\\\ 0 & 0 & 1}, &\n",
    "    M_2(k) &= \\pmatrix{1 & 0 & 0 \\\\ 0 & k & 0 \\\\ 0 & 0 & 1}, &\n",
    "    M_3(k) &= \\pmatrix{1 & 0 & 0 \\\\ 0 & 1 & 0 \\\\ 0 & 0 & k}, \\\\\n",
    "    A_{12}(k) &= \\pmatrix{1 & k & 0 \\\\ 0 & 1 & 0 \\\\ 0 & 0 & 1}, &\n",
    "    A_{21}(k) &= \\pmatrix{1 & 0 & 0 \\\\ k & 1 & 0 \\\\ 0 & 0 & 1}, &\n",
    "    A_{13}(k) &= \\pmatrix{1 & 0 & k \\\\ 0 & 1 & 0 \\\\ 0 & 0 & 1}, \\\\\n",
    "    A_{31}(k) &= \\pmatrix{1 & 0 & 0 \\\\ 0 & 1 & 0 \\\\ k & 0 & 1}, &\n",
    "    A_{23}(k) &= \\pmatrix{1 & 0 & 0 \\\\ 0 & 1 & k \\\\ 0 & 0 & 1}, &\n",
    "    A_{32}(k) &= \\pmatrix{1 & 0 & 0 \\\\ 0 & 1 & 0 \\\\ 0 & k & 1}.\n",
    "\\end{align*}"
   ]
  },
  {
   "cell_type": "markdown",
   "metadata": {},
   "source": [
    "## LU Decomposition"
   ]
  }
 ],
 "metadata": {
  "kernelspec": {
   "display_name": "Python 3",
   "language": "python",
   "name": "python3"
  },
  "language_info": {
   "codemirror_mode": {
    "name": "ipython",
    "version": 3
   },
   "file_extension": ".py",
   "mimetype": "text/x-python",
   "name": "python",
   "nbconvert_exporter": "python",
   "pygments_lexer": "ipython3",
   "version": "3.7.4"
  }
 },
 "nbformat": 4,
 "nbformat_minor": 2
}
