{
 "cells": [
  {
   "cell_type": "markdown",
   "metadata": {},
   "source": [
    "# Computational Methods in Ordinary Differential Equations\n",
    "\n",
    "*Dr Jon Shiach, Department of Computing and Mathematics, Manchester Metropolitan University*"
   ]
  },
  {
   "cell_type": "markdown",
   "metadata": {},
   "source": [
    "---\n",
    "# Use of Explicit Runge-Kutta Methods to solve Initial Value Problems\n",
    "\n",
    "Runge-Kutta methods are used to solve Initial Value Problems (IVP) of the form\n",
    "\n",
    "\\begin{align*}\n",
    "    y' &= f(t, y), & t &\\in [t_{\\min}, t_{\\max}], & y(t_{\\min}) &= y_0,\n",
    "\\end{align*}\n",
    "\n",
    "Where $y'=f(t,y)$ is a first-order ODE defined over the domain $t\\in [t_{\\min}, t_{\\max}]$ and the initial solution $y(t_{\\min})$ is the known value $y_0$. \n",
    "\n",
    "## Second-order explicit Runge-Kutta method\n",
    "\n",
    "The second-order explicit [**Runge-Kutta** method](https://en.wikipedia.org/wiki/Runge%E2%80%93Kutta_methods), also known as **RK2** for short, for solving an IVP is\n",
    "\n",
    "\\begin{align*}\n",
    "    y_{n+1} &= y_n + \\frac{h}{2}(k_1 + k_2),\\\\\n",
    "    k_1 &= f(t_n, y_n), \\\\\n",
    "    k_2 &= f(t_n + h, y_n + hk_1),\n",
    "\\end{align*}\n",
    "\n",
    "or alternatively using by the Butcher tableau\n",
    "\n",
    "$$\\begin{array}{c|cc} 0 & 0 \\cr 1 & 1 \\cr \\hline & \\frac{1}{2} & \\frac{1}{2} \\end{array}$$\n",
    "\n",
    "The **stage** values $k_1$ and $k_2$ are calculated using known values of $t_n$, $y_n$ and the step length $h$ substituted into the ODE function $f(t_, y)$. Then the solution over one step $t_{n+1} = t_n + h$ and $y_{n+1} = y(t_{n+1})$ is calculated using $k_1$ and $k_2$."
   ]
  },
  {
   "cell_type": "markdown",
   "metadata": {},
   "source": [
    "#### Example 1\n",
    "\n",
    "Calculate a single step of length $h=0.5$ of the RK2 method to calculate the solution of the following IVP\n",
    "\n",
    "\\begin{align*}\n",
    "    y' &= \\sin^2(t)y, & t &\\in [0, 5], & y_0 &= 1. & (1)\n",
    "\\end{align*}\n",
    "\n",
    "Since $t_0=0$, $y_0=1$ and $h=0.5$ the stage values are:\n",
    "\n",
    "\\begin{align*}\n",
    "    k_1 &= \\sin^2(t_0)y_0  = \\sin^2(0)(1) = 0, \\\\\n",
    "    k_2 &=  \\sin^2(t_0 + h)(y_0 + hk_1) = \\sin^2(0 + 0.5)(1 + 0.5(0)) = 0.2298.\n",
    "\\end{align*}\n",
    "\n",
    "Calculate the solution over one step:\n",
    "\n",
    "\\begin{align*}\n",
    "    y_1 &= y_0 + \\frac{h}{2}(k_1 + k_2) = 1 + \\frac{0.5}{2}(0 + 0.2298) = 1.0575.\n",
    "\\end{align*}"
   ]
  },
  {
   "cell_type": "markdown",
   "metadata": {},
   "source": [
    "#### Example 2\n",
    "\n",
    "Calculate the solution of the IVP from [equation (1)](#Example-1) over the domain $t\\in [0,5]$ using the RK2 method with a step length of $h=0.5$.\n",
    "\n",
    "The code below defines a function `rk2` that solves an IVP using the second-order explicit Runge-Kutta method. The input arguments are `f` is the name of the funcion the defines the ODE, `tspan` is a two-element array containing the lower and upper bounds of the $t$ domain, `y0` is the initial value of $y$ at the lower bound and `h` is the step length."
   ]
  },
  {
   "cell_type": "code",
   "execution_count": 1,
   "metadata": {},
   "outputs": [],
   "source": [
    "import numpy as np\n",
    "\n",
    "def rk2(f, tspan, y0, h):\n",
    "\n",
    "    nsteps = int((tspan[1] - tspan[0]) / h)\n",
    "    t = np.zeros(nsteps + 1)\n",
    "    y = np.zeros(nsteps + 1)\n",
    "    t[0] = tspan[0]\n",
    "    y[0] = y0\n",
    "    \n",
    "    for n in range(nsteps):\n",
    "        k1 = f(t[n], y[n])\n",
    "        k2 = f(t[n] + h, y[n] + h * k1)\n",
    "        y[n+1] = y[n] + 0.5 * h * (k1 + k2)\n",
    "        t[n+1] = t[n] + h\n",
    "    \n",
    "    return t, y"
   ]
  },
  {
   "cell_type": "markdown",
   "metadata": {},
   "source": [
    "The function below defines $f(t,y)$ for the ODE from equation (4)."
   ]
  },
  {
   "cell_type": "code",
   "execution_count": 2,
   "metadata": {},
   "outputs": [],
   "source": [
    "def f(t, y):\n",
    "    return y * np.sin(t)**2"
   ]
  },
  {
   "cell_type": "markdown",
   "metadata": {},
   "source": [
    "The exact solution to this IVP is $y(t) = e^{\\frac{1}{2}(t - \\sin(t)\\cos(t)}$ and defined by the function below."
   ]
  },
  {
   "cell_type": "code",
   "execution_count": 3,
   "metadata": {},
   "outputs": [],
   "source": [
    "def exact_sol(t):\n",
    "    return np.exp(0.5 * (t - np.sin(t) * np.cos(t)))"
   ]
  },
  {
   "cell_type": "markdown",
   "metadata": {},
   "source": [
    "The program below invokes the RK2 method to solve this IVP and compares it to the exact solution."
   ]
  },
  {
   "cell_type": "code",
   "execution_count": 8,
   "metadata": {},
   "outputs": [
    {
     "data": {
      "image/png": "[encoded data removed]",
      "text/plain": [
       "<Figure size 432x288 with 1 Axes>"
      ]
     },
     "metadata": {
      "needs_background": "light"
     },
     "output_type": "display_data"
    }
   ],
   "source": [
    "import matplotlib.pyplot as plt\n",
    "from matplotlib import rc\n",
    "rc('text', usetex=True)\n",
    "\n",
    "# Define IVP parameters\n",
    "tspan = [ 0, 5 ]\n",
    "y0 = 1\n",
    "h = 0.5\n",
    "\n",
    "# Invoke the RK2 method to solve IVP\n",
    "t, y = rk2(f, tspan, y0, h)\n",
    "\n",
    "# Calculate exact solution\n",
    "t1 = np.linspace(tspan[0], tspan[1], 100)\n",
    "y1 = exact_sol(t1)\n",
    "\n",
    "# Plot solutions\n",
    "fig, ax = plt.subplots()\n",
    "\n",
    "ax.plot(t1, y1, 'k-', label='Exact solution')\n",
    "ax.plot(t, y, 'bo-', label='RK2')\n",
    "\n",
    "ax.set_title(\"Solution to the IVP $y'=y\\sin^2(t)$, $y(0) = 1$\")\n",
    "ax.set_xlabel('$t$', fontsize=12)\n",
    "ax.set_ylabel('$y(t)$', fontsize=12)\n",
    "ax.legend()\n",
    "\n",
    "plt.show()"
   ]
  },
  {
   "cell_type": "markdown",
   "metadata": {},
   "source": [
    "The solution computed using the RK2 shows resonable aggreement with the exact solution but there are still noticeable errors."
   ]
  },
  {
   "cell_type": "markdown",
   "metadata": {},
   "source": [
    "---\n",
    "## Fourth-Order Explicit Runge-Kutta Method\n",
    "\n",
    "The fourth-order explicit [**Runge-Kutta** method](https://en.wikipedia.org/wiki/Runge%E2%80%93Kutta_methods), also known as **RK4** for short, for solving an Initial Value Problem (IVP) of the form\n",
    "\n",
    "\\begin{align*}\n",
    "    y' &= f(t, y), & t &\\in [t_{\\min}, t_{\\max}], & y(t_{\\min}) &= y_0.\n",
    "\\end{align*}\n",
    "\n",
    "is \n",
    "\n",
    "\\begin{align*}\n",
    "    y_{n+1} &= y_n + \\frac{h}{6}(k_1 + 2k_2 + 2k_3 + k_4), \\\\\n",
    "    k_1 &= f(t_n, y_n), \\\\\n",
    "    k_2 &= f(t_n + \\tfrac{1}{2}h, y_n + \\tfrac{1}{2}hk_1), \\\\ \n",
    "    k_3 &= f(t_n + \\tfrac{1}{2}h, y_n + \\tfrac{1}{2}hk_2), \\\\\n",
    "    k_4 &= f(t_n + h, y_n + hk_3).\n",
    "\\end{align*}\n",
    "\n",
    "or alternatively using by the Butcher tableau\n",
    "\n",
    "$$\\begin{array}{c|cccc} \n",
    "0 & \\\\ \n",
    "\\frac{1}{2} & \\frac{1}{2} \\\\\n",
    "\\frac{1}{2} & 0 & \\frac{1}{2} \\\\\n",
    "1 & 0 & 0 & 1 \\\\ \\hline\n",
    "& \\frac{1}{6} & \\frac{1}{3} & \\frac{1}{3} & \\frac{1}{6}\n",
    "\\end{array}$$"
   ]
  },
  {
   "cell_type": "markdown",
   "metadata": {},
   "source": [
    "#### Example 3\n",
    "\n",
    "Calculate a single step of length $h=0.5$ of the RK4 method to calculate the solution of the IVP in [equation (1)](#Example-1)\n",
    "\n",
    "Calculate the stage values:\n",
    "\n",
    "\\begin{align*}\n",
    "    k_1 &= \\sin^2(t_0)y_0  = 1 \\sin^2(0) = 0, \\\\\n",
    "    k_2 &= \\sin^2(t_0 + \\tfrac{1}{2} h)(y_0 + \\tfrac{1}{2} h k_1)  = \\sin^2(0 + \\tfrac{1}{2} (0.5)(0))(1 + \\tfrac{1}{2} (0.5))  = 0.0612, \\\\\n",
    "    k_3 &= \\sin^2(t_0 + \\tfrac{1}{2} h)(y_0 + \\tfrac{1}{2} h k_2) = \\sin^2(0 + \\frac{1}{2}(0.5))(1 + \\tfrac{1}{2} (0.5) (0.0612)) = 0.0621, \\\\\n",
    "    k_4 &= \\sin^2(t_0 + h)(y_0 + h k_3) = \\sin^2(0 + 0.5)(1 + 0.5 (0.0621)) = 0.2370.\n",
    "\\end{align*}\n",
    "\n",
    "Calculate the solution over one step:\n",
    "\n",
    "\\begin{align*}\n",
    "    y_1 &= y_0 + \\frac{h}{6}(k_1 + 2k_2 + 2k_3 + k_4) = 1 + \\frac{0.5}{6}(0 + 2(0.0612) + 2(0.0621) + 0.2370) = 1.0403.\n",
    "\\end{align*}"
   ]
  },
  {
   "cell_type": "markdown",
   "metadata": {},
   "source": [
    "#### Example 4\n",
    "\n",
    "Calculate the solution of the IVP from [equation (1)](#Example-1) over the domain $t\\in [0,5]$ using the RK4 method with a step length of $h=0.5$.\n",
    "\n",
    "The code below defines a function `rk4` that solves an IVP using the fourth-order explicit Runge-Kutta method using the same input arguments as the `rk2` function defined earlier."
   ]
  },
  {
   "cell_type": "code",
   "execution_count": 5,
   "metadata": {},
   "outputs": [],
   "source": [
    "def rk4(f, tspan, y0, h):\n",
    "\n",
    "    nsteps = int((tspan[1] - tspan[0]) / h)\n",
    "    t = np.zeros(nsteps + 1)\n",
    "    y = np.zeros(nsteps + 1)\n",
    "    t[0] = tspan[0]\n",
    "    y[0] = y0\n",
    "    \n",
    "    for n in range(nsteps):\n",
    "        k1 = f(t[n], y[n])\n",
    "        k2 = f(t[n] + 0.5 * h, y[n] + 0.5 * h * k1)\n",
    "        k3 = f(t[n] + 0.5 * h, y[n] + 0.5 * h * k2)\n",
    "        k4 = f(t[n] + h, y[n] + h * k3)\n",
    "        y[n+1] = y[n] + h / 6 * (k1 + 2 * k2 + 2 * k3 + k4)\n",
    "        t[n+1] = t[n] + h\n",
    "    \n",
    "    return t, y"
   ]
  },
  {
   "cell_type": "markdown",
   "metadata": {},
   "source": [
    "The program below invokes the RK4 method to solve this IVP and compares it to the exact solution."
   ]
  },
  {
   "cell_type": "code",
   "execution_count": 7,
   "metadata": {},
   "outputs": [
    {
     "data": {
      "image/png": "[encoded data removed]",
      "text/plain": [
       "<Figure size 432x288 with 1 Axes>"
      ]
     },
     "metadata": {
      "needs_background": "light"
     },
     "output_type": "display_data"
    }
   ],
   "source": [
    "import matplotlib.pyplot as plt\n",
    "from matplotlib import rc\n",
    "rc('text', usetex=True)\n",
    "\n",
    "# Define IVP parameters\n",
    "tspan = [ 0 , 5 ]\n",
    "y0 = 1\n",
    "h = 0.5\n",
    "\n",
    "# Solve the IVP using the RK4 method\n",
    "t, y = rk4(f, tspan, y0, h)\n",
    "\n",
    "# Calculate the exact solution\n",
    "t1 = np.linspace(tspan[0], tspan[1], 100)\n",
    "y1 = exact_sol(t1)\n",
    "\n",
    "# Plot solutions\n",
    "fig, ax = plt.subplots()\n",
    "ax.plot(t1, y1, 'k-', label='Exact solution')\n",
    "ax.plot(t, y, 'bo-', label='RK4')\n",
    "\n",
    "ax.set_title(\"Solution to the IVP $y'=y\\sin^2(t)$, $y(0) = 1$\")\n",
    "ax.set_xlabel('$t$', fontsize=12)\n",
    "ax.set_ylabel('$y(t)$', fontsize=12)\n",
    "ax.legend()\n",
    "\n",
    "plt.show()"
   ]
  },
  {
   "cell_type": "markdown",
   "metadata": {},
   "source": [
    "The solution computed by the RK4 method shows very good agreement with the exact solutions. Whilst it is possible to derive higher-order Runge-Kutta methods, in practice the increased accuracy you get is not worth the additional computational cost. The RK4 method is considered the default ODE solver."
   ]
  }
 ],
 "metadata": {
  "kernelspec": {
   "display_name": "Python 3",
   "language": "python",
   "name": "python3"
  },
  "language_info": {
   "codemirror_mode": {
    "name": "ipython",
    "version": 3
   },
   "file_extension": ".py",
   "mimetype": "text/x-python",
   "name": "python",
   "nbconvert_exporter": "python",
   "pygments_lexer": "ipython3",
   "version": "3.7.4"
  }
 },
 "nbformat": 4,
 "nbformat_minor": 2
}
