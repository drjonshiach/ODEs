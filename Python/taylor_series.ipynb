{
 "cells": [
  {
   "cell_type": "markdown",
   "metadata": {},
   "source": [
    "# Computational Methods in Ordinary Differential Equations\n",
    "\n",
    "## The Taylor Series\n",
    "The value of the function $f(t)$ at a small distance $h$ from $t$ can be calculated using the [Taylor series](https://en.wikipedia.org/wiki/Taylor_series) \n",
    "\n",
    "$$f(t+h) = \\sum_{n=0}^\\infty \\frac{h^n}{n!}f^{(n)}(t) = f(t) + hf'(t) + \\frac{h^2}{2!}f''(t) + \\cdots + \\frac{h^n}{n!}f^{(n)}(t),$$\n",
    "\n",
    "where $f^{(n)}(t)$ is the $n$th derivative of $f(t)$. It is not practical to sum an infinite number of terms so the Taylor series is **truncated** to only include the first few terms, e.g.,\n",
    "\n",
    "$$f(t+h) = f(t) + hf'(t) + \\frac{h^2}{2!}f''(t) + O(h^3),$$\n",
    "\n",
    "where $O(h^3)$ denotes the **truncation error** caused by the omission of the higher-order terms. $O(h^3)$ means that as $h\\to 0$, the truncation error tends to at least as fast as $h^3$ (i.e., if $h$ is halved the truncation error will reduce by a factor of $2^{-3} =  \\frac{1}{8}$). \n",
    "\n",
    "#### Example\n",
    "Consider the Taylor series expansion of $f(t) = \\exp(t)$\n",
    "\n",
    "\\begin{align*}\n",
    "    \\exp(t+h) &= \\exp(t) + h\\cos(t) - \\frac{h^2}{2}\\exp(t) - \\frac{h^3}{6}\\cos(t) + \\frac{h^4}{24}\\exp(t) + \\cdots\n",
    "\\end{align*}\n",
    "\n",
    "The first, second, third and fourth-order series expansions of $\\sin(t+h)$ are\n",
    "\n",
    "\\begin{align*}\n",
    "    & \\text{1st order}: & \\sin(t+h) &= \\exp(t) + h \\cos(t) + O(h^2), \\\\\n",
    "    & \\text{2nd order}: & \\sin(t+h) &= \\exp(t) + h \\cos(t) + \\frac{h^2}{2}\\exp(t) + O(h^3), \\\\\n",
    "    & \\text{3rd order}: & \\sin(t+h) &= \\exp(t) + h \\cos(t) + \\frac{h^2}{2}\\exp(t) + \\frac{h^3}{6}\\cos(t) + O(h^4), \\\\\n",
    "    & \\text{4th order}: & \\sin(t+h) &= \\exp(t) + h \\cos(t) + \\frac{h^2}{2}\\exp(t) + \\frac{h^3}{6}\\cos(t) + \\frac{h^4}{24}\\exp(t) + O(h^5).\n",
    "\\end{align*}\n",
    "\n",
    "The code below calculates the first, second, third and fourth-order Taylor series approximations of $\\exp(t+h)$ where $t=0$ and $h=1$."
   ]
  },
  {
   "cell_type": "code",
   "execution_count": 12,
   "metadata": {},
   "outputs": [
    {
     "name": "stdout",
     "output_type": "stream",
     "text": [
      " order | approx \n",
      "----------------\n",
      "   1   | 2.0000\n",
      "   2   | 2.5000\n",
      "   3   | 2.6667\n",
      "   4   | 2.7083\n",
      "\n",
      " Exact value exp(1) = 2.7183\n"
     ]
    }
   ],
   "source": [
    "from math import * \n",
    "\n",
    "# Initialise variables\n",
    "t, h = 0, 1\n",
    "taylor = exp(t)\n",
    "\n",
    "# Output column headings\n",
    "print(\" order | approx \\n{}\".format(\"-\" * 16))\n",
    "\n",
    "# Calculate Taylor series approximations\n",
    "for n in range(1, 5):\n",
    "    \n",
    "    # Add nth term to taylor\n",
    "    taylor += h**n / factorial(n) * exp(t)\n",
    "    \n",
    "    # Output current value of taylor\n",
    "    print(\"   {}   | {:0.4f}\".format(n, taylor))\n",
    "\n",
    "# Output exact value of exp(1)\n",
    "print(\"\\n Exact value exp(1) = {:0.4f}\".format(exp(1)))"
   ]
  },
  {
   "cell_type": "markdown",
   "metadata": {},
   "source": [
    "As expected, as the order of the Taylor series increases the approximation gets closer to the exact value of $\\exp(1) = 2.7183\\ldots$.\n",
    "\n",
    "Since we can calculate the exact value of $\\exp(t + h)$ we can calculate the truncation errors using\n",
    "\n",
    "$$ \\text{truncation error} = | \\text{exact} - \\text{approximation} |. $$\n",
    "\n",
    "The code below calculates the truncations errors for the first, second, third and fourth-order Taylor series expansion of $\\exp(1+h)$ for step lengths $h=1, 0.5, 0.25, 0.125, 0.0625$."
   ]
  },
  {
   "cell_type": "code",
   "execution_count": 36,
   "metadata": {},
   "outputs": [
    {
     "name": "stdout",
     "output_type": "stream",
     "text": [
      "    h   |  first   |  second  |  third   |  fourth\n",
      "----------------------------------------------------\n",
      " 1.0000 | 7.18e-01 | 2.18e-01 | 5.16e-02 | 9.95e-03 \n",
      " 0.5000 | 1.49e-01 | 2.37e-02 | 2.89e-03 | 2.84e-04 \n",
      " 0.2500 | 3.40e-02 | 2.78e-03 | 1.71e-04 | 8.49e-06 \n",
      " 0.1250 | 8.15e-03 | 3.36e-04 | 1.04e-05 | 2.60e-07 \n",
      " 0.0625 | 1.99e-03 | 4.13e-05 | 6.44e-07 | 8.03e-09 \n"
     ]
    }
   ],
   "source": [
    "from math import *\n",
    "\n",
    "\n",
    "def taylor_exp(t, h, order):\n",
    "    \"\"\"\n",
    "    This function calculates the nth order Taylor series approximation \n",
    "    of exp(t + h)\n",
    "    \"\"\"\n",
    "    taylor = 0\n",
    "    for n in range(order + 1):\n",
    "        taylor += h**n / factorial(n) * exp(t)\n",
    "    \n",
    "    return taylor\n",
    "\n",
    "\n",
    "# Initialise variables\n",
    "t = 0\n",
    "h = [ 1, 0.5, 0.25, 0.125, 0.0625 ]\n",
    "first = [0] * len(h)\n",
    "second = [0] * len(h)\n",
    "third = [0] * len(h)\n",
    "fourth = [0] * len(h)\n",
    "\n",
    "# Calculate truncation errors for the difference approximations\n",
    "for i in range(len(h)):\n",
    "    exact = exp(t + h[i])\n",
    "    first[i] = abs(exact - taylor_exp(t, h[i], 1))\n",
    "    second[i] = abs(exact - taylor_exp(t, h[i], 2))\n",
    "    third[i] = abs(exact - taylor_exp(t, h[i], 3))\n",
    "    fourth[i] = abs(exact - taylor_exp(t, h[i], 4))\n",
    "    \n",
    "# Print table\n",
    "print(\"    h   |  first   |  second  |  third   |  fourth\\n{}\".format(\"-\" * 52))\n",
    "for i in range(len(h)):\n",
    "    print(\" {:0.4f} | {:0.2e} | {:0.2e} | {:0.2e} | {:0.2e} \"\\\n",
    "         .format(h[i], first[i], second[i], third[i], fourth[i]))"
   ]
  },
  {
   "cell_type": "markdown",
   "metadata": {},
   "source": [
    "The code below plots the truncations errors against $h$ for the four Taylor series approximations."
   ]
  },
  {
   "cell_type": "code",
   "execution_count": 38,
   "metadata": {
    "scrolled": true
   },
   "outputs": [
    {
     "data": {
      "image/png": "[encoded data removed]",
      "text/plain": [
       "<Figure size 432x288 with 1 Axes>"
      ]
     },
     "metadata": {
      "needs_background": "light"
     },
     "output_type": "display_data"
    }
   ],
   "source": [
    "import matplotlib.pyplot as plt\n",
    "\n",
    "fig, ax = plt.subplots()\n",
    "\n",
    "ax.plot(h, first, 'bo-', label=\"1st order\")\n",
    "ax.plot(h, second, 'ro-', label=\"2nd order\")\n",
    "ax.plot(h, third, 'go-', label=\"3rd order\")\n",
    "ax.plot(h, fourth, 'ko-', label=\"4th order\")\n",
    "\n",
    "ax.set_xlabel(\"h\")\n",
    "ax.set_ylabel(\"truncation error\")\n",
    "ax.legend()\n",
    "\n",
    "plt.show()"
   ]
  },
  {
   "cell_type": "markdown",
   "metadata": {},
   "source": [
    "We can see that as the order of the approximation increases the size of the truncation error decreases. What isn't clear is how the behaviour of the truncation errors changes as $h\\to 0$. We can get a better comparison by plotting the error values using a loglog scale which is done using the code below"
   ]
  },
  {
   "cell_type": "code",
   "execution_count": 39,
   "metadata": {
    "scrolled": true
   },
   "outputs": [
    {
     "data": {
      "image/png": "[encoded data removed]",
      "text/plain": [
       "<Figure size 432x288 with 1 Axes>"
      ]
     },
     "metadata": {
      "needs_background": "light"
     },
     "output_type": "display_data"
    }
   ],
   "source": [
    "import matplotlib.pyplot as plt\n",
    "\n",
    "fig, ax = plt.subplots()\n",
    "\n",
    "ax.loglog(h, first, 'bo-', label=\"1st order\")\n",
    "ax.loglog(h, second, 'ro-', label=\"2nd order\")\n",
    "ax.loglog(h, third, 'go-', label=\"3rd order\")\n",
    "ax.loglog(h, fourth, 'ko-', label=\"4th order\")\n",
    "\n",
    "ax.set_xlabel(\"h\")\n",
    "ax.set_ylabel(\"truncation error\")\n",
    "ax.legend()\n",
    "\n",
    "plt.show()"
   ]
  },
  {
   "cell_type": "markdown",
   "metadata": {},
   "source": [
    "Since $O(h^n) = Ch^n$ for some positive constant $C$, the gradients of the plots on a loglog scale can give an estimate of $n$ in the truncation error $O(h^n)$. \n",
    "\n",
    "The code below approximates $n$ from the error values calculated above."
   ]
  },
  {
   "cell_type": "code",
   "execution_count": 42,
   "metadata": {},
   "outputs": [
    {
     "name": "stdout",
     "output_type": "stream",
     "text": [
      " first: n = 2.1231\n",
      "second: n = 3.0916\n",
      " third: n = 4.0727\n",
      "fourth: n = 5.0601\n"
     ]
    }
   ],
   "source": [
    "# Estimate n from error values\n",
    "first_n = (log(first[0]) - log(first[-1])) / (log(h[0]) - log(h[-1]))\n",
    "second_n = (log(second[0]) - log(second[-1])) / (log(h[0]) - log(h[-1]))\n",
    "third_n = (log(third[0]) - log(third[-1])) / (log(h[0]) - log(h[-1]))\n",
    "fourth_n = (log(fourth[0]) - log(fourth[-1])) / (log(h[0]) - log(h[-1]))\n",
    "\n",
    "print(\" first: n = {:0.4f}\".format(first_n))\n",
    "print(\"second: n = {:0.4f}\".format(second_n))\n",
    "print(\" third: n = {:0.4f}\".format(third_n))\n",
    "print(\"fourth: n = {:0.4f}\".format(fourth_n))"
   ]
  },
  {
   "cell_type": "markdown",
   "metadata": {},
   "source": [
    "The approximations of $n$ agree with the values $n=2, 3, 4, 5$ which we would expect."
   ]
  },
  {
   "cell_type": "markdown",
   "metadata": {},
   "source": [
    "<font size=\"2\"><i>Dr Jon Shiach, Department of Computing and Mathematics, Manchester Metropolitan University</i></font>"
   ]
  }
 ],
 "metadata": {
  "kernelspec": {
   "display_name": "Python 3",
   "language": "python",
   "name": "python3"
  },
  "language_info": {
   "codemirror_mode": {
    "name": "ipython",
    "version": 3
   },
   "file_extension": ".py",
   "mimetype": "text/x-python",
   "name": "python",
   "nbconvert_exporter": "python",
   "pygments_lexer": "ipython3",
   "version": "3.7.4"
  }
 },
 "nbformat": 4,
 "nbformat_minor": 2
}
