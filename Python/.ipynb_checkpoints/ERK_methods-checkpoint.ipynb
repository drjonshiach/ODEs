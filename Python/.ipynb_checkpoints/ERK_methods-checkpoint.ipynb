{
 "cells": [
  {
   "cell_type": "markdown",
   "metadata": {},
   "source": [
    "## Second-Order Explicit Runge-Kutta Method\n",
    "\n",
    "The second-order explicit Runge-Kutta method (RK2) can be written as\n",
    "\n",
    "\\begin{align*}\n",
    "    y_{n+1} &= y_n + \\frac{h}{2}(k_1 + k_2), \\\\\n",
    "    k_1 &= f(t_n, y_n), \\\\\n",
    "    k_2 &= f(t_n + h, y_n + hk_1),\n",
    "\\end{align*}\n",
    "or alternatively using by the Butcher tableau\n",
    "\n",
    "$$\\begin{array}{c|cc} 0 & 0 \\cr 1 & 1 \\cr \\hline & \\frac{1}{2} & \\frac{1}{2} \\end{array}$$"
   ]
  },
  {
   "cell_type": "code",
   "execution_count": 3,
   "metadata": {},
   "outputs": [
    {
     "name": "stdout",
     "output_type": "stream",
     "text": [
      " t_n |   y_n\n",
      "----------------\n",
      " 0.0 | 1.000000\n",
      " 0.1 | 1.110000\n",
      " 0.2 | 1.242050\n",
      " 0.3 | 1.398465\n",
      " 0.4 | 1.581804\n",
      " 0.5 | 1.794894\n",
      " 0.6 | 2.040857\n",
      " 0.7 | 2.323147\n",
      " 0.8 | 2.645578\n",
      " 0.9 | 3.012364\n",
      " 1.0 | 3.428162\n"
     ]
    },
    {
     "data": {
      "image/png": "[encoded data removed]",
      "text/plain": [
       "<Figure size 432x288 with 1 Axes>"
      ]
     },
     "metadata": {
      "needs_background": "light"
     },
     "output_type": "display_data"
    }
   ],
   "source": [
    "import numpy as np\n",
    "import matplotlib.pyplot as plt\n",
    "\n",
    "\n",
    "def rk2(tspan, y0, t):\n",
    "    \"\"\"\n",
    "    This function calculates the solution to the following IVP using the second-order \n",
    "    explicit Runge-Kutta method\n",
    "    \n",
    "            y'(t) = f(t, y(t)), tspan = [tmin, tmax], y(tmin) = y0\n",
    "    \"\"\"\n",
    "    nsteps = int((tspan[1] - tspan[0]) / h)\n",
    "    t = np.zeros(nsteps + 1)\n",
    "    y = np.zeros(nsteps + 1)\n",
    "    t[0] = tspan[0]\n",
    "    y[0] = y0\n",
    "    \n",
    "    for n in range(nsteps):\n",
    "        k1 = f(t[n], y[n])\n",
    "        k2 = f(t[n] + h, y[n] + h * k1)\n",
    "        y[n+1] = y[n] + 0.5 * h * (k1 + k2)\n",
    "        t[n+1] = t[n] + h\n",
    "    \n",
    "    return t, y\n",
    "\n",
    "\n",
    "# Define ODE function\n",
    "def f(t, y):\n",
    "    return t + y\n",
    "\n",
    "\n",
    "# Definte variables\n",
    "tspan = [0, 1]\n",
    "y0 = 1\n",
    "h = 0.1\n",
    "\n",
    "# Invoke the Euler method to solve IVP\n",
    "t, y = rk2([0, 1], 1, 0.1)\n",
    "\n",
    "# Output solution table\n",
    "print(\" t_n |   y_n\\n{}\".format(\"-\" * 16))\n",
    "for i in range(len(t)):\n",
    "    print(\" {:0.1f} | {:0.6f}\".format(t[i], y[i]))\n",
    "    \n",
    "# Plot numerical and exact solutions\n",
    "texact = np.linspace(0, 1, 100)\n",
    "yexact = 2 * np.exp(texact) - texact - 1\n",
    "\n",
    "fig, ax = plt.subplots()\n",
    "ax.plot(texact, yexact, 'r-', label='exact')\n",
    "ax.plot(t, y, 'bo-', label='euler')\n",
    "ax.set_xlabel('t')\n",
    "ax.set_ylabel('y(t)')\n",
    "ax.legend()\n",
    "\n",
    "plt.show()"
   ]
  },
  {
   "cell_type": "markdown",
   "metadata": {},
   "source": [
    "<font size=\"2\"><i>Dr Jon Shiach, Department of Computing and Mathematics, Manchester Metropolitan University</i></font>"
   ]
  }
 ],
 "metadata": {
  "kernelspec": {
   "display_name": "Python 3",
   "language": "python",
   "name": "python3"
  },
  "language_info": {
   "codemirror_mode": {
    "name": "ipython",
    "version": 3
   },
   "file_extension": ".py",
   "mimetype": "text/x-python",
   "name": "python",
   "nbconvert_exporter": "python",
   "pygments_lexer": "ipython3",
   "version": "3.7.4"
  }
 },
 "nbformat": 4,
 "nbformat_minor": 2
}
