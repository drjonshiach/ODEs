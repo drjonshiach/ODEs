{
 "cells": [
  {
   "cell_type": "markdown",
   "metadata": {},
   "source": [
    "## Euler Method Applied to Solve Systems of Ordinary Differential Equations\n",
    "\n",
    "The Euler method can be applied to solve a system of $N$ Ordinary Differntial Equations (ODE) of the form\n",
    "\n",
    "\\begin{align*}\n",
    "    y_1' &= f_1(t, y_1), \\\\\n",
    "    y_2' &= f_2(t, y_2), \\\\\n",
    "    &\\vdots \\\\\n",
    "    y_N' &= f_N(t, y_N).\n",
    "\\end{align*}\n",
    "\n",
    "Let $\\mathbf{y} = (y_1, y_2, \\ldots, y_N)$ and $F(t, \\mathbf{y}) = (f_1(t, y_1), f_2(t, y_2), \\ldots, f_N(t, y_N))$ then we can write the system in vector form\n",
    "\n",
    "$$ \\mathbf{y}' = F(t, \\mathbf{y})$$\n",
    "\n",
    "The Euler method for solving this ODE in vector form is\n",
    "\n",
    "$$ \\mathbf{y}_{n+1} = \\mathbf{y}_n + hF(t, \\mathbf{y}).$$"
   ]
  },
  {
   "cell_type": "markdown",
   "metadata": {},
   "source": [
    "##### Example\n",
    "The code below solves the following IVP over the domain $t\\in[0, 5]$\n",
    "\n",
    "\\begin{align*}\n",
    "    y_1' &= y_2, & y_1(0) &= 0, \\\\\n",
    "    y_2' &= -g, & y_2(0) &= 20,\n",
    "\\end{align*}\n",
    "\n",
    "where $g=9.81$ms$^{-2}$ is the acceleration due to gravity."
   ]
  },
  {
   "cell_type": "code",
   "execution_count": 10,
   "metadata": {},
   "outputs": [
    {
     "ename": "ValueError",
     "evalue": "could not broadcast input array from shape (2) into shape (1)",
     "output_type": "error",
     "traceback": [
      "\u001b[0;31m---------------------------------------------------------------------------\u001b[0m",
      "\u001b[0;31mValueError\u001b[0m                                Traceback (most recent call last)",
      "\u001b[0;32m<ipython-input-10-0748428fea23>\u001b[0m in \u001b[0;36m<module>\u001b[0;34m\u001b[0m\n\u001b[1;32m     31\u001b[0m \u001b[0mh\u001b[0m \u001b[0;34m=\u001b[0m \u001b[0;36m0.1\u001b[0m\u001b[0;34m\u001b[0m\u001b[0;34m\u001b[0m\u001b[0m\n\u001b[1;32m     32\u001b[0m \u001b[0;34m\u001b[0m\u001b[0m\n\u001b[0;32m---> 33\u001b[0;31m \u001b[0mt\u001b[0m\u001b[0;34m,\u001b[0m \u001b[0my\u001b[0m \u001b[0;34m=\u001b[0m \u001b[0meuler\u001b[0m\u001b[0;34m(\u001b[0m\u001b[0mtspan\u001b[0m\u001b[0;34m,\u001b[0m \u001b[0my0\u001b[0m\u001b[0;34m,\u001b[0m \u001b[0mh\u001b[0m\u001b[0;34m)\u001b[0m\u001b[0;34m\u001b[0m\u001b[0;34m\u001b[0m\u001b[0m\n\u001b[0m\u001b[1;32m     34\u001b[0m \u001b[0mprint\u001b[0m\u001b[0;34m(\u001b[0m\u001b[0my\u001b[0m\u001b[0;34m)\u001b[0m\u001b[0;34m\u001b[0m\u001b[0;34m\u001b[0m\u001b[0m\n",
      "\u001b[0;32m<ipython-input-10-0748428fea23>\u001b[0m in \u001b[0;36meuler\u001b[0;34m(tspan, y0, h)\u001b[0m\n\u001b[1;32m     13\u001b[0m     \u001b[0my\u001b[0m \u001b[0;34m=\u001b[0m \u001b[0mnp\u001b[0m\u001b[0;34m.\u001b[0m\u001b[0mzeros\u001b[0m\u001b[0;34m(\u001b[0m\u001b[0;34m(\u001b[0m\u001b[0mnsteps\u001b[0m \u001b[0;34m+\u001b[0m \u001b[0;36m1\u001b[0m\u001b[0;34m,\u001b[0m \u001b[0;36m1\u001b[0m\u001b[0;34m)\u001b[0m\u001b[0;34m)\u001b[0m\u001b[0;34m\u001b[0m\u001b[0;34m\u001b[0m\u001b[0m\n\u001b[1;32m     14\u001b[0m     \u001b[0mt\u001b[0m\u001b[0;34m[\u001b[0m\u001b[0;36m0\u001b[0m\u001b[0;34m]\u001b[0m \u001b[0;34m=\u001b[0m \u001b[0mtspan\u001b[0m\u001b[0;34m[\u001b[0m\u001b[0;36m0\u001b[0m\u001b[0;34m]\u001b[0m\u001b[0;34m\u001b[0m\u001b[0;34m\u001b[0m\u001b[0m\n\u001b[0;32m---> 15\u001b[0;31m     \u001b[0my\u001b[0m\u001b[0;34m[\u001b[0m\u001b[0;36m0\u001b[0m\u001b[0;34m,\u001b[0m\u001b[0;34m:\u001b[0m\u001b[0;34m]\u001b[0m \u001b[0;34m=\u001b[0m \u001b[0my0\u001b[0m\u001b[0;34m\u001b[0m\u001b[0;34m\u001b[0m\u001b[0m\n\u001b[0m\u001b[1;32m     16\u001b[0m \u001b[0;34m\u001b[0m\u001b[0m\n\u001b[1;32m     17\u001b[0m     \u001b[0;32mfor\u001b[0m \u001b[0mn\u001b[0m \u001b[0;32min\u001b[0m \u001b[0mrange\u001b[0m\u001b[0;34m(\u001b[0m\u001b[0mnsteps\u001b[0m\u001b[0;34m)\u001b[0m\u001b[0;34m:\u001b[0m\u001b[0;34m\u001b[0m\u001b[0;34m\u001b[0m\u001b[0m\n",
      "\u001b[0;31mValueError\u001b[0m: could not broadcast input array from shape (2) into shape (1)"
     ]
    }
   ],
   "source": [
    "import numpy as np\n",
    "import matplotlib.pyplot as plt\n",
    "\n",
    "\n",
    "def euler(tspan, y0, h):\n",
    "    \"\"\"\n",
    "    This function calculates the solution to the following IVP using the Euler method\n",
    "    \n",
    "            y'(t) = f(t, y(t)), tspan = [tmin, tmax], y(tmin) = y0\n",
    "    \"\"\"     \n",
    "    nsteps = int((tspan[1] - tspan[0]) / h)\n",
    "    t = np.zeros((nsteps + 1, len(y0)))\n",
    "    y = np.zeros((nsteps + 1, 1))\n",
    "    t[0] = tspan[0]\n",
    "    y[0,:] = y0\n",
    "    \n",
    "    for n in range(nsteps):\n",
    "        y[n+1,:] = y[n,:] + h * f(t[n], y[n,:])\n",
    "        t[n+1] = t[n] + h\n",
    "    \n",
    "    return t, y\n",
    "\n",
    "\n",
    "def f(t, y):\n",
    "    return [ y[1], -g]\n",
    "\n",
    "\n",
    "g = 9.81\n",
    "tspan = np.array([0, 5])\n",
    "y0 = np.array([0, 20])\n",
    "h = 0.1\n",
    "\n",
    "t, y = euler(tspan, y0, h)\n",
    "print(y)"
   ]
  },
  {
   "cell_type": "code",
   "execution_count": null,
   "metadata": {},
   "outputs": [],
   "source": []
  },
  {
   "cell_type": "code",
   "execution_count": null,
   "metadata": {},
   "outputs": [],
   "source": []
  }
 ],
 "metadata": {
  "kernelspec": {
   "display_name": "Python 3",
   "language": "python",
   "name": "python3"
  },
  "language_info": {
   "codemirror_mode": {
    "name": "ipython",
    "version": 3
   },
   "file_extension": ".py",
   "mimetype": "text/x-python",
   "name": "python",
   "nbconvert_exporter": "python",
   "pygments_lexer": "ipython3",
   "version": "3.7.4"
  }
 },
 "nbformat": 4,
 "nbformat_minor": 2
}
