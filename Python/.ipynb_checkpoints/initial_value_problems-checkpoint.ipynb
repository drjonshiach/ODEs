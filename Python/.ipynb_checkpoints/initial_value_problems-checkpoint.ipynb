{
 "cells": [
  {
   "cell_type": "markdown",
   "metadata": {},
   "source": [
    "# Computational Methods in Ordinary Differential Equations\n",
    "\n",
    "*Dr Jon Shiach, Department of Computing and Mathematics, Manchester Metropolitan University*"
   ]
  },
  {
   "cell_type": "markdown",
   "metadata": {},
   "source": [
    "---\n",
    "#### Learning outcomes\n",
    "\n",
    "On successful completion of this page readers will be able to:\n",
    "\n",
    "- Identity an [initial value problem](#Initial-Value-Problems);\n",
    "- Derive the [Euler method](#The-Euler-method) and apply it to solve first-order ordinary differential equations;\n",
    "- Express a [higher-order ODE as a system of first-order ODEs](#Solving-higher-order-ordinary-differential-equations);\n",
    "- Apply an ODE solver to solve a system of ODEs.\n",
    "\n",
    "# Initial Value Problems\n",
    "\n",
    "An [**Initial Value Problem**](https://en.wikipedia.org/wiki/Initial_value_problem) (IVP) is written as an [Ordinary Differential Equation](https://en.wikipedia.org/wiki/Ordinary_dif) (ODE) where the initial solution at the lower boundary of the domain is known. For example,\n",
    "\n",
    "\\begin{align*}\n",
    "    y' &= f(t, y), & t &\\in [t_{\\min}, t_{\\max}], & y(t_{\\min}) &= y_0.\n",
    "\\end{align*}\n",
    "\n",
    "Here a first-order ODE $y'=f(t,y)$ is defined over the domain $t\\in [t_{\\min}, t_{\\max}]$ and the initial solution $y(t_{\\min})$ is the known value $y_0$. \n",
    "\n",
    "In most real world practical applications, IVPs cannot be solved using analytical methods so instead we use computational methods called **ODE solvers** to approximate the solutions. The simplest ODE solver is the Euler method.\n",
    "\n",
    "## The Euler method\n",
    "The [**Euler method**](https://en.wikipedia.org/wiki/Euler_method) for solving the first-order Ordinary Differential Equation (ODE) can be derived very easily by truncating the [Taylor series](https://en.wikipedia.org/wiki/Taylor_series) after the first-order term\n",
    "\n",
    "\\begin{equation}\n",
    "    y_{n+1} = y_n + hf(t_n, y_n),\n",
    "\\end{equation}\n",
    "\n",
    "where the subscript notation used is $y_{n+1} = y(t + h)$, $y_n = y(t_n)$.\n",
    "\n",
    "To apply the Euler method to solve an IVP we loop through the domain and calculate the values of $y_{n+1}$ using the Euler method with the known values $t_{n}$ and $y_n$. \n",
    "\n",
    "The code below defines a function `euler` that solves an IVP where `tspan` is a two element array containing the lower and upper bounds of the $t$ domain, `y0` is the value of $y$ at the lower bound and `h` is the step length."
   ]
  },
  {
   "cell_type": "markdown",
   "metadata": {},
   "source": [
    "#### Example 1\n",
    "\n",
    "Calculate two steps of the Euler method when used to solve the following IVP\n",
    "\n",
    "$$ y' = \\sin^2(t)y, \\qquad t \\in [0, 5], \\qquad y(0) = 1,$$\n",
    "\n",
    "using a step length $h=0.5$.\n",
    "\n",
    "Since we have $t_0=0$ and $y_0=1$ then\n",
    "\n",
    "\\begin{align*}\n",
    "    y_1 &= y_0 + h \\sin^2(t_0)y_0 = 1 + 0.5\\sin^2(0)(1) = 1, & t_1 &= t_0 + h = 0 + 0.5 = 0.5,\\\\\n",
    "    y_2 &= y_1 + h \\sin^2(t_1)y_1 = 1 + 0.5\\sin^2(0.5)(1) = 1.1149, & t_2 &= t_1 + h = 0.5 + 0.5 = 1.0.\n",
    "\\end{align*}"
   ]
  },
  {
   "cell_type": "markdown",
   "metadata": {},
   "source": [
    "#### Example 2\n",
    "\n",
    "Calculate the solution of the IVP from [example 1](#Example-1) over the whole domain $t\\in [0,5]$ using the Euler method with a step length of $h=0.5$ and compare it to the exact solution given by\n",
    "\n",
    "$$y = e^{\\frac{1}{2}(t - \\sin(t)\\cos(t))}$$\n",
    "\n",
    "The functions below defines the right-hand side of the ODE and the exact solution to the IVP."
   ]
  },
  {
   "cell_type": "code",
   "execution_count": 1,
   "metadata": {},
   "outputs": [],
   "source": [
    "import numpy as np\n",
    "\n",
    "def f(t, y):\n",
    "    return np.sin(t)**2 * y\n",
    "\n",
    "def exact_sol(t):\n",
    "    return np.exp(0.5 * (t - np.sin(t) * np.cos(t)))"
   ]
  },
  {
   "cell_type": "markdown",
   "metadata": {},
   "source": [
    "The code below defines a function called `euler` that solves an IVP using the Euler method. The input arguments are `f` is the name of the funcion the defines the ODE, `tspan` is a two-element array containing the lower and upper bounds of the $t$ domain, `y0` is the initial value of $y$ at the lower bound and `h` is the step length."
   ]
  },
  {
   "cell_type": "code",
   "execution_count": 2,
   "metadata": {},
   "outputs": [],
   "source": [
    "def euler(f, tspan, y0, h):\n",
    "    '''\n",
    "    Calculuates the solution to an IVP using the Euler method\n",
    "    '''\n",
    "    \n",
    "    # Initialise solution arrays\n",
    "    nsteps = int((tspan[1] - tspan[0]) / h)\n",
    "    t = np.zeros(nsteps + 1)\n",
    "    y = np.zeros(nsteps + 1)\n",
    "    t[0] = tspan[0]\n",
    "    y[0] = y0\n",
    "    \n",
    "    # Solver loop\n",
    "    for n in range(nsteps):\n",
    "        y[n+1] = y[n] + h * f(t[n], y[n])\n",
    "        t[n+1] = t[n] + h\n",
    "    \n",
    "    return t, y"
   ]
  },
  {
   "cell_type": "markdown",
   "metadata": {},
   "source": [
    "The program below invokes the Euler method to solve this IVP."
   ]
  },
  {
   "cell_type": "code",
   "execution_count": 10,
   "metadata": {},
   "outputs": [
    {
     "ename": "TypeError",
     "evalue": "euler() takes 3 positional arguments but 4 were given",
     "output_type": "error",
     "traceback": [
      "\u001b[0;31m---------------------------------------------------------------------------\u001b[0m",
      "\u001b[0;31mTypeError\u001b[0m                                 Traceback (most recent call last)",
      "\u001b[0;32m<ipython-input-10-772cc7678cd7>\u001b[0m in \u001b[0;36m<module>\u001b[0;34m\u001b[0m\n\u001b[1;32m      9\u001b[0m \u001b[0;34m\u001b[0m\u001b[0m\n\u001b[1;32m     10\u001b[0m \u001b[0;31m# Invoke the Euler method to solve IVP\u001b[0m\u001b[0;34m\u001b[0m\u001b[0;34m\u001b[0m\u001b[0;34m\u001b[0m\u001b[0m\n\u001b[0;32m---> 11\u001b[0;31m \u001b[0mt\u001b[0m\u001b[0;34m,\u001b[0m \u001b[0my\u001b[0m \u001b[0;34m=\u001b[0m \u001b[0meuler\u001b[0m\u001b[0;34m(\u001b[0m\u001b[0mf\u001b[0m\u001b[0;34m,\u001b[0m \u001b[0mtspan\u001b[0m\u001b[0;34m,\u001b[0m \u001b[0my0\u001b[0m\u001b[0;34m,\u001b[0m \u001b[0mh\u001b[0m\u001b[0;34m)\u001b[0m\u001b[0;34m\u001b[0m\u001b[0;34m\u001b[0m\u001b[0m\n\u001b[0m\u001b[1;32m     12\u001b[0m \u001b[0;34m\u001b[0m\u001b[0m\n\u001b[1;32m     13\u001b[0m \u001b[0;31m# Calculate exact solution\u001b[0m\u001b[0;34m\u001b[0m\u001b[0;34m\u001b[0m\u001b[0;34m\u001b[0m\u001b[0m\n",
      "\u001b[0;31mTypeError\u001b[0m: euler() takes 3 positional arguments but 4 were given"
     ]
    }
   ],
   "source": [
    "import matplotlib.pyplot as plt\n",
    "from matplotlib import rc\n",
    "rc('text', usetex=True)\n",
    "\n",
    "# Define IVP parameters\n",
    "tspan = [0, 5]\n",
    "y0 = 1\n",
    "h = 0.5\n",
    "\n",
    "# Invoke the Euler method to solve IVP\n",
    "t, y = euler(f, tspan, y0, h)\n",
    "\n",
    "# Calculate exact solution\n",
    "y1 = exact_sol(t)\n",
    "\n",
    "# Output solution table\n",
    "hline = '-' * 30\n",
    "print(hline + '\\n   t  |   Euler   |   Exact \\n' + hline)\n",
    "for i in range(len(t)):\n",
    "    print('{:5.1f} | {:9.6f} | {:9.6f}'.format(t[i], y[i], y1[i]))\n",
    "print(hline)\n",
    "\n",
    "# Calculate exact solution using 100 points\n",
    "t1 = np.linspace(tspan[0], tspan[1], 100)\n",
    "y1 = exact_sol(t1)\n",
    "\n",
    "# Plot exact solution and numerical solution\n",
    "fig, ax = plt.subplots()\n",
    "\n",
    "ax.plot(t1, y1, 'k-', label='Exact solution')\n",
    "ax.plot(t, y, 'bo-', label='Euler method')\n",
    "\n",
    "ax.set_title(\"Solution to the IVP $y'=\\sin^2(t)y$, $y(0) = 1$\")\n",
    "ax.set_xlabel('$t$', fontsize=12)\n",
    "ax.set_ylabel('$y(t)$', fontsize=12)\n",
    "ax.legend()\n",
    "\n",
    "plt.show()"
   ]
  },
  {
   "cell_type": "markdown",
   "metadata": {},
   "source": [
    "Here we can see that the solution using the Euler method deviates from the exact solution. This is because the Euler method is a first-order method and the truncation errors at each step accumulate as we step through the solution. One way to improve our solution is to use a smaller step length.\n",
    "\n",
    "\n",
    "#### Example 2\n",
    "Repeat the solution of the IVP in [example 1](#Example-1) using a step length of $h=0.1$."
   ]
  },
  {
   "cell_type": "code",
   "execution_count": 4,
   "metadata": {},
   "outputs": [
    {
     "data": {
      "image/png": "[encoded data removed]",
      "text/plain": [
       "<Figure size 432x288 with 1 Axes>"
      ]
     },
     "metadata": {
      "needs_background": "light"
     },
     "output_type": "display_data"
    }
   ],
   "source": [
    "# Invoke the Euler method to solve IVP using a step length of h = 0.1\n",
    "h = 0.1\n",
    "t2, y2 = euler(f, tspan, y0, h)\n",
    "\n",
    "# Plot numerical and exact solutions\n",
    "fig, ax = plt.subplots()\n",
    "\n",
    "ax.plot(t1, y1, 'k-', label='Exact solution')\n",
    "ax.plot(t, y, 'bo-', label='Euler $(h=0.5)$')\n",
    "ax.plot(t2, y2, 'ro-', label='Euler $(h=0.1)$')\n",
    "\n",
    "ax.set_title(\"Solution to the IVP $y'=\\sin^2(t)y$, $y(0) = 1$\")\n",
    "ax.set_xlabel('$t$')\n",
    "ax.set_ylabel('$y(t)$')\n",
    "ax.legend()\n",
    "\n",
    "plt.show()"
   ]
  },
  {
   "cell_type": "markdown",
   "metadata": {},
   "source": [
    "Here we can see that although using a smaller step length has increased the accuracy of the solution it still doesnt match the exact solution. The Euler method is easy to derive and apply but is not very accurate. \n",
    "\n",
    "The derivation of more accurate methods is covered in [Runge-Kutta methods](runge_kutta_methods.ipynb)."
   ]
  },
  {
   "cell_type": "markdown",
   "metadata": {},
   "source": [
    "---\n",
    "## Solving higher-order ordinary differential equations\n",
    "\n",
    "The numerical methods that are applied to calculate the solutions to ODEs can only be applied to first-order ODEs. To apply them to higher-order ODEs we first need to rewrite them as a system of first-order ODEs.\n",
    "\n",
    "Consider the $N$th-order ODE \n",
    "\n",
    "$$y^{(N)} = f(t, y, y', y'', \\ldots, y^{(N-1)}).$$\n",
    "\n",
    "If we let $y_1=y$, $y_2 = y'$, $y_3 = y''$ and so on up to $y_N = y^{(N-1)}$ then we have\n",
    "\n",
    "\\begin{align*}\n",
    "    y_1' &= y_2, \\\\\n",
    "    y_2' &= y_3, \\\\\n",
    "    & \\vdots \\\\\n",
    "    y_N' &= f(t, y_1, y_2, y_3, \\ldots , y_N).\n",
    "\\end{align*}\n",
    "\n",
    "This is a system of $N$ first-order ODEs. We can apply our numerical methods for solving ODEs to each equation in the system to give an equivalent solution to the $n$th-order ODE."
   ]
  },
  {
   "cell_type": "markdown",
   "metadata": {},
   "source": [
    "#### Example 3\n",
    "\n",
    "Rewrite the following third-order ODE as a system of three first-order ODEs.\n",
    "\n",
    "$$ y''' + yy'' - 2y' + tyy'' - 10 = 0$$\n",
    "\n",
    "Let $y_1 = y$, $y_2 = y'$, $y_3 = y''$ then we can rewrite this ODE using\n",
    "\n",
    "\\begin{align*}\n",
    "    y_1' &= y_2, \\\\\n",
    "    y_2' &= y_3, \\\\\n",
    "    y_3' &= -y_1y_3 + 2y_2 - ty_1y_2 + 10.\n",
    "\\end{align*}"
   ]
  },
  {
   "cell_type": "markdown",
   "metadata": {},
   "source": [
    "### Solving Systems of Ordinary Differential Equations\n",
    "\n",
    "Let $\\mathbf{y} = (y_1, y_2, \\ldots, y_N)^T$ and $F(t, \\mathbf{y}) = (f_1(t, y_1), f_2(t, y_2), \\ldots, f_N(t, y_N))^T$ then we can write the system in vector form\n",
    "\n",
    "$$ \\mathbf{y}' = F(t, \\mathbf{y})$$\n",
    "\n",
    "The Euler method for solving this ODE in vector form is\n",
    "\n",
    "$$ \\mathbf{y}_{n+1} = \\mathbf{y}_n + hF(t, \\mathbf{y}).$$\n",
    "\n"
   ]
  },
  {
   "cell_type": "markdown",
   "metadata": {},
   "source": [
    "#### Example 4\n",
    "\n",
    "Calculate one step of the Euler method used to solve the IVP\n",
    "\n",
    "\\begin{align*}\n",
    "    y'' + y &= 0, & t &\\in[0, 10], & y(0) &= 2, & y'(0) = 0.\n",
    "\\end{align*}\n",
    "\n",
    "First we need to rewrite the second-order ODE as two first-order ODEs. Let $y_1=y$ and $y_2=y'$ then\n",
    "\n",
    "\\begin{align*}\n",
    "    y_1' &= y_2, & y_1(0) = 2,\\\\\n",
    "    y_2' &= -y_1, & y_2(0) = 0.\n",
    "\\end{align*}\n",
    "\n",
    "and we have\n",
    "\n",
    "\\begin{align*}\n",
    "    \\mathbf{y} &= \\pmatrix{y_1 \\\\ y_2}, &\n",
    "    F(t, \\mathbf{y}) &= \\pmatrix{ y_2 \\\\ -y_1}.\n",
    "\\end{align*}\n",
    "\n",
    "Calculating one step of the Euler method:\n",
    "\n",
    "\\begin{align*}\n",
    "    \\mathbf{y}_1 &= \\mathbf{y}_0 + hF(t, \\mathbf{y})\n",
    "    = \\pmatrix{2 \\\\ 0} + 0.1 \\pmatrix{ 0 \\\\ -2 }\n",
    "    = \\pmatrix{2 \\\\ -0.2}.\n",
    "\\end{align*}"
   ]
  },
  {
   "cell_type": "markdown",
   "metadata": {},
   "source": [
    "#### Example 5\n",
    "\n",
    "Calculate "
   ]
  },
  {
   "cell_type": "code",
   "execution_count": 5,
   "metadata": {},
   "outputs": [],
   "source": [
    "import numpy as np\n",
    "\n",
    "def euler(f, tspan, y0, h):\n",
    "    '''\n",
    "    This function calculates the solution to an IVP expressed using a system\n",
    "    of ODEs using the Euler method\n",
    "    '''  \n",
    "    \n",
    "    # Initialise solution arrays\n",
    "    nsteps = int((tspan[1] - tspan[0]) / h)\n",
    "    t = np.zeros((nsteps + 1, 1))\n",
    "    y = np.zeros((nsteps + 1, len(y0)))\n",
    "    t[0] = tspan[0]\n",
    "    y[0,:] = y0\n",
    "    \n",
    "    # Solver loop\n",
    "    for n in range(nsteps):\n",
    "        y[n+1,:] = y[n,:] + h * f(t[n], y[n,:])\n",
    "        t[n+1] = t[n] + h\n",
    "    \n",
    "    return t, y"
   ]
  },
  {
   "cell_type": "code",
   "execution_count": 6,
   "metadata": {},
   "outputs": [],
   "source": [
    "def f(t, y):\n",
    "    dy = np.zeros(y.shape)\n",
    "    dy[0] = y[1]\n",
    "    dy[1] = -y[0]\n",
    "    return dy"
   ]
  },
  {
   "cell_type": "code",
   "execution_count": 7,
   "metadata": {},
   "outputs": [
    {
     "data": {
      "image/png": "[encoded data removed]",
      "text/plain": [
       "<Figure size 432x288 with 1 Axes>"
      ]
     },
     "metadata": {
      "needs_background": "light"
     },
     "output_type": "display_data"
    }
   ],
   "source": [
    "import matplotlib.pyplot as plt\n",
    "\n",
    "# Define variables\n",
    "g = 9.81\n",
    "tspan = [0, 10]\n",
    "y0 = [2, 0]\n",
    "h = 0.1\n",
    "\n",
    "# Solve IVP using the Euler method\n",
    "t, y = euler(tspan, y0, h)\n",
    "\n",
    "# Plot solution\n",
    "fig, ax = plt.subplots()\n",
    "\n",
    "ax.plot(t, y[:,0], 'bo-', label='euler')\n",
    "ax.set_xlabel('t')\n",
    "ax.set_ylabel('y')\n",
    "ax.legend()\n",
    "\n",
    "plt.show()"
   ]
  },
  {
   "cell_type": "markdown",
   "metadata": {},
   "source": [
    "#### Example 4\n",
    "The code below solves the following IVP over the domain $t\\in[0, 5]$\n",
    "\n",
    "\\begin{align*}\n",
    "    y_1' &= y_2, & y_1(0) &= 0, \\\\\n",
    "    y_2' &= -g, & y_2(0) &= 20,\n",
    "\\end{align*}\n",
    "\n",
    "where $g=9.81$ms$^{-2}$ is the acceleration due to gravity."
   ]
  },
  {
   "cell_type": "code",
   "execution_count": 8,
   "metadata": {},
   "outputs": [],
   "source": [
    "def f(t, y):\n",
    "    dy = np.zeros(y.shape)\n",
    "    dy[0] = y[1]\n",
    "    dy[1] = -g\n",
    "    return dy"
   ]
  },
  {
   "cell_type": "code",
   "execution_count": 9,
   "metadata": {},
   "outputs": [
    {
     "data": {
      "image/png": "[encoded data removed]",
      "text/plain": [
       "<Figure size 432x288 with 1 Axes>"
      ]
     },
     "metadata": {
      "needs_background": "light"
     },
     "output_type": "display_data"
    }
   ],
   "source": [
    "import matplotlib.pyplot as plt\n",
    "\n",
    "# Define variables\n",
    "g = 9.81\n",
    "tspan = [0, 5]\n",
    "y0 = [0, 20]\n",
    "h = 0.5\n",
    "\n",
    "# Solve IVP using the Euler method\n",
    "t, y = euler(tspan, y0, h)\n",
    "\n",
    "# Plot numerical and exact solutions\n",
    "texact = np.linspace(tspan[0], tspan[1], 100)\n",
    "yexact = 20 * texact - 0.5 * g * texact**2\n",
    "\n",
    "fig, ax = plt.subplots()\n",
    "\n",
    "ax.plot(texact, yexact, 'r-', label='exact')\n",
    "ax.plot(t, y[:,0], 'bo-', label='euler')\n",
    "ax.set_xlabel('t')\n",
    "ax.set_ylabel('y')\n",
    "ax.legend()\n",
    "\n",
    "plt.show()"
   ]
  },
  {
   "cell_type": "code",
   "execution_count": null,
   "metadata": {},
   "outputs": [],
   "source": []
  },
  {
   "cell_type": "code",
   "execution_count": null,
   "metadata": {},
   "outputs": [],
   "source": []
  },
  {
   "cell_type": "code",
   "execution_count": null,
   "metadata": {},
   "outputs": [],
   "source": []
  },
  {
   "cell_type": "code",
   "execution_count": null,
   "metadata": {},
   "outputs": [],
   "source": []
  },
  {
   "cell_type": "code",
   "execution_count": null,
   "metadata": {},
   "outputs": [],
   "source": []
  },
  {
   "cell_type": "code",
   "execution_count": null,
   "metadata": {},
   "outputs": [],
   "source": []
  }
 ],
 "metadata": {
  "kernelspec": {
   "display_name": "Python 3",
   "language": "python",
   "name": "python3"
  },
  "language_info": {
   "codemirror_mode": {
    "name": "ipython",
    "version": 3
   },
   "file_extension": ".py",
   "mimetype": "text/x-python",
   "name": "python",
   "nbconvert_exporter": "python",
   "pygments_lexer": "ipython3",
   "version": "3.7.4"
  }
 },
 "nbformat": 4,
 "nbformat_minor": 2
}
