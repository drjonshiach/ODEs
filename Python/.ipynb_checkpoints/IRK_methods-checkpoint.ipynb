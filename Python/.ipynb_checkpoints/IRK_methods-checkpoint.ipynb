{
 "cells": [
  {
   "cell_type": "markdown",
   "metadata": {},
   "source": [
    "# Computational Methods in Ordinary Differential Equations\n",
    "\n",
    "*Dr Jon Shiach, Department of Computing and Mathematics, Manchester Metropolitan University*"
   ]
  },
  {
   "cell_type": "markdown",
   "metadata": {},
   "source": [
    "---\n",
    "\n",
    "# Implicit Runge-Kutta methods\n",
    "\n",
    "The **order conditions** for a Runge-Kutta method can be expressed by the following\n",
    "<a id=\"order_conditions\"></a>\n",
    "\\begin{align*}\n",
    "    B(k):& & \\sum_{i=1}^s b_ic_i^{j-1} &= \\frac{1}{j}, & j &= 1, 2, \\ldots, k, &&& (1) \\\\\n",
    "    C(k):& & \\sum_{j=1}^s a_{ij}c_j^{\\ell-1} &= \\frac{1}{\\ell}c_i^{\\ell}, & i &= 1, 2, \\ldots s, & \\ell &= 1, 2, \\ldots , k, & (2) \\\\\n",
    "    D(k):& & \\sum_{i=1}^s b_ic_i^{\\ell-1} a_{ij} &= \\frac{1}{\\ell} b_j (1 - c_j^\\ell), & j &= 1, 2, \\ldots, s, & \\ell &= 1, 2, \\ldots, k. & (3)\n",
    "\\end{align*}\n",
    "\n",
    "Let $G(p)$ represent a given IRK method has order $p$, then it can be shown that\n",
    "\n",
    "$$B(2k) \\text{ and } C(k) \\text{ and } D(k) \\implies G(2k).$$\n",
    "\n",
    "So to determine the order of an IRK we need to find the highest value of $k$ for which equation (1) is satisfied and which equations (2) and (3) are satisfied for $\\lfloor \\frac{k}{2} \\rfloor$ (i.e. the integer part of $\\frac{k}{2}$)."
   ]
  },
  {
   "cell_type": "markdown",
   "metadata": {},
   "source": [
    "#### Example 1\n",
    "\n",
    "Determine the order of the following IRK method\n",
    "\n",
    "$$\\begin{array}{c|cc}\n",
    "\\frac{1}{4} & \\frac{1}{4} & 0 \\\\\n",
    "\\frac{3}{4} & \\frac{1}{2} & \\frac{1}{4} \\\\ \\hline\n",
    "& \\frac{1}{2} & \\frac{1}{2}\n",
    "\\end{array} $$\n",
    "\n",
    "Checking the $B(k)$ condition:\n",
    "\n",
    "\\begin{align*}\n",
    "    j &= 1, & \\mathrm{LHS} &= b_1c_1^0 + b_2c_2^0 = \\frac{1}{2}\\cdot 1 + \\frac{1}{2}\\cdot 1  = 1, & \\mathrm{RHS} & = 1, \\\\\n",
    "    j &= 2, & \\mathrm{LHS} &= b_1c_1^1 + b_2c_2^1 = \\frac{1}{2} \\cdot \\frac{1}{4} + \\frac{1}{2} \\cdot \\frac{3}{4} = \\frac{1}{2}, & \\mathrm{RHS} &= \\frac{1}{2}, \\\\\n",
    "    j &= 3, & \\mathrm{LHS} &= b_1c_1^2 + b_2c_2^2 = \\frac{1}{2} \\cdot \\frac{1}{16} + \\frac{1}{2} \\cdot \\frac{9}{16} = \\frac{5}{16}, & \\mathrm{RHS} &= \\frac{1}{3}.\n",
    "\\end{align*}\n",
    "\n",
    "So the $B(k)$ condition is satisfied up to $k=2$. Now we need to check whether $C(k)$ condition is satisfied up to $k = 1$.\n",
    "\n",
    "\\begin{align*}\n",
    "    \\ell &= 1, & i &= 1, & \\mathrm{LHS} &= a_{11}c_1^0 + a_{12}c_2^0 = \\frac{1}{4} \\cdot 1 + 0 \\cdot 1 = \\frac{1}{4}, & \\mathrm{RHS} &= \\frac{1}{\\ell}c_1^\\ell = \\frac{1}{4}, \\\\\n",
    "    \\ell &= 1, & i &= 2, & \\mathrm{LHS} &= a_{21}c_1^0 + a_{22}c_2^0 = \\frac{1}{2} \\cdot 1 + \\frac{1}{4} \\cdot 1 = \\frac{3}{4}, & \\mathrm{RHS} &= \\frac{1}{\\ell}c_2^\\ell = \\frac{3}{4}\n",
    "\\end{align*}\n",
    "\n",
    "So the $C(k)$ condition is satisfied up to $k=1$. Now we need to check whether the $D(k)$ condition is satisfied up to $k=1$\n",
    "\n",
    "\\begin{align*}\n",
    "    \\ell &= 1, & j &= 1, & \\mathrm{LHS} &= b_1c_1^0a_{11} + b_2c_2^0 a_{21} = \\frac{1}{2} \\cdot 1 \\cdot \\frac{1}{4} + \\frac{1}{2} \\cdot 1 \\cdot \\frac{1}{2} = \\frac{3}{8}, \\\\\n",
    "    & & & & \\mathrm{RHS} &= \\frac{1}{\\ell}b_1(1 - c_1^\\ell) = \\frac{1}{2}\\left(1 - \\frac{1}{4}\\right) = \\frac{3}{8}, \\\\\n",
    "    \\ell &= 1, & j &= 2, & \\mathrm{LHS} &= b_1c_1^0a_{12} + b_2c_2^0a_{22} = \\frac{1}{2}\\cdot 1 \\cdot 0 + \\frac{1}{2} \\cdot 1 \\cdot \\frac{1}{4} = \\frac{1}{8}, \\\\\n",
    "    & & & & \\mathrm{RHS} &= \\frac{1}{\\ell}b_2(1 - c_2^\\ell) = \\frac{1}{2}\\left( 1 - \\frac{3}{4} \\right) = \\frac{1}{8}.\n",
    "\\end{align*}\n",
    "\n",
    "So the $D(k)$ condition is satisfied up to $k=1$. Therefore since $B(2)$, $C(1)$ and $D(1)$ are all satisfied this IRK method is order 2."
   ]
  },
  {
   "cell_type": "markdown",
   "metadata": {},
   "source": [
    "## Deriving implicit Runge-Kutta methods\n",
    "\n",
    "### Gauss-Legendre methods\n",
    "\n",
    "[Gauss-Legendre](https://en.wikipedia.org/wiki/Gauss%E2%80%93Legendre_method) IRK methods are a family of methods that are derived using Gauss-Legendre quadrature. It is derived using [Legendre polynomials](https://en.wikipedia.org/wiki/Legendre_polynomials) which can take the form\n",
    "\n",
    "$$ P_n(t) =  \\sum_{k=0}^n {n \\choose k} {n+k \\choose k}\\left( \\frac{t-1}{2} \\right)^k,$$\n",
    "\n",
    "where ${n \\choose k}$ is the [Binomial coefficient](https://en.wikipedia.org/wiki/Binomial_coefficient). An $s$-stage Gauss-Legendre method has order $2s$. The values of the $c_i$ coefficients are the roots of the Legendre polynomial $P_{s}(2t - 1)$, the values of the $b_i$ coefficents are then determined to satisfy the $B(2s)$ condition ([equation (1)](#order_conditions)) and the $a_{ij}$ coefficients are determined to satisfy the $C(s)$ condition ([equation(2)](#order_conditions))."
   ]
  },
  {
   "cell_type": "markdown",
   "metadata": {},
   "source": [
    "#### Example 2\n",
    "\n",
    "Derive a fourth-order Gauss-Legendre method.\n",
    "\n",
    "A fourth-order Gauss-Legendre method will have $s=2$ stages and the $c_i$ coefficients are chosen to satisfy $P_{s}(2t-1)$ which is\n",
    "\n",
    "\\begin{align*}\n",
    "    P_2(2t - 1) &= {2 \\choose 0}{2 \\choose 0}(t - 1)^0 + {2 \\choose 1}{3 \\choose 1}(t - 1)^1 + {2 \\choose 2}{4 \\choose 2}(t - 1)^2 \\\\\n",
    "    &= 1 + 6t - 6 + 6t^2 - 12t + 6 \\\\\n",
    "    &= 6t^2 - 6t + 1,\n",
    "\\end{align*}\n",
    "\n",
    "therefore $c_1 = \\frac{1}{2} - \\frac{\\sqrt{3}}{6}$ and $c_2 = \\frac{1}{2} + \\frac{\\sqrt{3}}{6}$. The $b_i$ coefficients are chosen to satisfy the $B(4)$ condition with $k=2$\n",
    "\n",
    "\\begin{align*}\n",
    "    b_1 + b_2 &= 1, \\\\\n",
    "    b_1c_1 + b_2c_2 &= \\frac{1}{2}.\n",
    "\\end{align*}\n",
    "\n",
    "and the $a_{ij}$ coefficients are chosen to satisfy the $C(s)$ condition\n",
    "\n",
    "\\begin{align*}\n",
    "    a_{11} + a_{12} &= c_1, \\\\\n",
    "    a_{21} + a_{22} &= c_2, \\\\\n",
    "    a_{11}c_1 + a_{12}c_2 &= \\frac{1}{2}c_1^2, \\\\\n",
    "    a_{21}c_1 + a_{22}c_2 &= \\frac{1}{2}c_2^2.\n",
    "\\end{align*}\n",
    "\n",
    "The code below uses `sympy` commands to calculate the coefficients $a_{ij}$ and $b_i$."
   ]
  },
  {
   "cell_type": "code",
   "execution_count": 15,
   "metadata": {},
   "outputs": [
    {
     "name": "stdout",
     "output_type": "stream",
     "text": [
      "{b2: 1/2, b1: 1/2}\n",
      "{a11: 1/4, a12: 1/4 - sqrt(3)/6, a21: 1/4 + sqrt(3)/6, a22: 1/4}\n"
     ]
    }
   ],
   "source": [
    "from sympy import *\n",
    "\n",
    "# Define symbolic variables\n",
    "a11, a12, a21, a22, b1, b2, c1, c2, = symbols('a11, a12, a21, a22, b1, b2, c1, c2')\n",
    "\n",
    "# Define B(s) conditions\n",
    "c1 = Rational('1 / 2') - sqrt(3) / 6\n",
    "c2 = Rational('1 / 2') + sqrt(3) / 6\n",
    "eqn1 = b1 + b2 - 1\n",
    "eqn2 = b1 * c1 + b2 * c2 - Rational('1 / 2')\n",
    "\n",
    "# Define C(s) conditions\n",
    "eqn3 = a11 + a12 - c1\n",
    "eqn4 = a21 + a22 - c2\n",
    "eqn5 = a11 * c1 + a12 * c2 - Rational('1 / 2') * c1**2\n",
    "eqn6 = a21 * c1 + a22 * c2 - Rational('1 / 2') * c2**2\n",
    "\n",
    "# Solve for b coefficients\n",
    "b = solve((eqn1, eqn2), (b1, b2))\n",
    "print(b)\n",
    "\n",
    "# Solve for the a coefficients\n",
    "a = solve((eqn3, eqn4, eqn5, eqn6), (a11, a12, a21, a22))\n",
    "print(a)"
   ]
  },
  {
   "cell_type": "markdown",
   "metadata": {},
   "source": [
    "So $b_1 = \\frac{1}{2}$, $b_2 = \\frac{1}{2}$, $a_{11} = \\frac{1}{4}$, $a_{12} = \\frac{1}{4} - \\frac{\\sqrt{3}}{6}$, $a_{21} = \\frac{1}{4} + \\frac{\\sqrt{3}}{6}$ and $a_{22} = \\frac{1}{4}$. So the fourth-order Gauss-Legendre method is\n",
    "\n",
    "$$\\begin{array}{c|cc}\n",
    "\\frac{1}{2} - \\frac{\\sqrt{3}}{6} & \\frac{1}{4} & \\frac{1}{4} - \\frac{\\sqrt{3}}{6} \\\\\n",
    "\\frac{1}{2} + \\frac{\\sqrt{3}}{6} & \\frac{1}{4} + \\frac{\\sqrt{3}}{6} & \\frac{1}{4} \\\\ \\hline\n",
    "& \\frac{1}{2} & \\frac{1}{2}\n",
    "\\end{array}$$"
   ]
  },
  {
   "cell_type": "markdown",
   "metadata": {},
   "source": [
    "### Radau methods\n",
    "\n",
    "Gauss-Legendre methods give us maximal order for the number of stages, however sometimes it is better the sacrifice order to gain better stability properties (see [Stability](stability.ipynb)). An $s$-stage [Radau](https://en.wikipedia.org/wiki/List_of_Runge%E2%80%93Kutta_methods#Radau_methods) IRK method has order $2s-1$. The are two types of Radau methods: RadauIA and RadauIIA.\n",
    "\n",
    "#### Radau IA: \n",
    "Let $c_1=0$ and the other $c_i$ coefficients are the roots of \n",
    "\n",
    "$$P_s(2t-1) + P_{s-1}(2t-1)$$\n",
    "\n",
    "The coefficients $b_i$ are chosen to satisfy $B(2s)$ and the coefficients $a_{ij}$ are chosen to satisfy $C(s)$.\n",
    "\n",
    "#### Radau IIA\n",
    "Let $c_2 = 0$ and the other $c_i$ coefficients are the roots of \n",
    "\n",
    "$$P_s(2t-1) - P_{s-1}(2t-1)$$\n",
    "\n",
    "The coefficients $b_i$ are chosen to satisfy $B(2s)$ and the coefficients $a_{ij}$ are chosen to satisfy $C(s)$."
   ]
  },
  {
   "cell_type": "markdown",
   "metadata": {},
   "source": [
    "#### Example 3\n",
    "\n",
    "Derive a third-order Radau IA method.\n",
    "\n",
    "A third-order Radau IA mehtod will have $s=2$ stages. Let $c_1=0$ then the value of $c_2$ is the roots of $P_2(2t-1) + P_1(2t-1)$\n",
    "\n",
    "\\begin{align*}\n",
    "    0 = (6t^2 - 6t + 1) + (2t - 1) = 6t^2 - 4t,\n",
    "\\end{align*}\n",
    "\n",
    "which is $c_2 = \\frac{2}{3}$. The values of $b_i$ and $a_{ij}$ need to satisfy the $B(4)$ and $C(2)$ conditions respectively with $k=2$ (same as [example 2](#Example-2))."
   ]
  },
  {
   "cell_type": "code",
   "execution_count": 23,
   "metadata": {},
   "outputs": [
    {
     "name": "stdout",
     "output_type": "stream",
     "text": [
      "{b1: 1/4, b2: 3/4}\n",
      "{a11: 0, a12: 0, a21: 1/3, a22: 1/3}\n"
     ]
    }
   ],
   "source": [
    "# Define symbolic variables\n",
    "a11, a12, a21, a22, b1, b2, c1, c2, = symbols('a11, a12, a21, a22, b1, b2, c1, c2')\n",
    "\n",
    "# Define B(s) conditions\n",
    "c1 = 0\n",
    "c2 = Rational('2 / 3')\n",
    "eqn1 = b1 + b2 - 1\n",
    "eqn2 = b1 * c1 + b2 * c2 - Rational('1 / 2')\n",
    "\n",
    "# Define C(s) conditions\n",
    "eqn3 = a11 + a12 - c1\n",
    "eqn4 = a21 + a22 - c2\n",
    "eqn5 = a11 * c1 + a12 * c2 - Rational('1 / 2') * c1**2\n",
    "eqn6 = a21 * c1 + a22 * c2 - Rational('1 / 2') * c2**2\n",
    "\n",
    "# Solve for b coefficients\n",
    "b = solve((eqn1, eqn2), (b1, b2))\n",
    "print(b)\n",
    "\n",
    "# Solve for the a coefficients\n",
    "a = solve((eqn3, eqn4, eqn5, eqn6), (a11, a12, a21, a22))\n",
    "print(a)"
   ]
  },
  {
   "cell_type": "markdown",
   "metadata": {},
   "source": [
    "So $b_1 = \\frac{1}{4}$, $b_2 = \\frac{3}{4}$, $a_{11} = 0$, $a_{12} = 0$, $a_{21} = \\frac{1}{3}$ and $a_{22} = \\frac{1}{3}$ and the third-order Radau IA method is \n",
    "\n",
    "$$\\begin{array}{c|cc}\n",
    "0 & 0 & 0 \\\\ \n",
    "\\frac{2}{3} & \\frac{1}{3} & \\frac{1}{3} \\\\ \\hline\n",
    "& \\frac{1}{4} & \\frac{3}{4}\n",
    "\\end{array}$$"
   ]
  },
  {
   "cell_type": "markdown",
   "metadata": {},
   "source": [
    "### Diagonally Implicit Runge-Kutta methods\n",
    "\n",
    "[**Diagonally Implicit Runge-Kutta**](https://en.wikipedia.org/wiki/List_of_Runge%E2%80%93Kutta_methods#Diagonally_Implicit_Runge_Kutta_methods) (DIRK) methods are where the $A$ matrix is lower triagnular with non-zero elements on the main diagonal, i.e.,\n",
    "\n",
    "$$\\begin{array}{c|cccc}\n",
    "c_1 & a_{11} \\\\\n",
    "c_2 & a_{21} & a_{22} \\\\\n",
    "\\vdots & \\vdots & \\vdots & \\ddots \\\\\n",
    "c_s & a_{s1} & a_{s2} & \\cdots & a_{ss} \\\\ \\hline\n",
    "& b_1 & b_2 & \\cdots & b_s\n",
    "\\end{array}$$\n",
    "\n",
    "The advantage of DIRK methods is that although the stage values $k_1$, $k_2$ etc are implicit equations, the solutions can be obtained sequentially because the equation for $k_i$ does not include $k_{i+1}, k_{i+2}, \\ldots, k_s$. \n",
    "\n",
    "The coefficients of a $k$th-order DIRK method are chosen to satisfy the $B(k)$ and $C(\\lfloor \\frac{k}{2} \\rfloor)$ conditions along with\n",
    "\n",
    "$$ \\mathbf{b}^T \\cdot A \\cdot \\mathbf{c} = \\frac{1}{k!}$$"
   ]
  },
  {
   "cell_type": "markdown",
   "metadata": {},
   "source": [
    "#### Example 4\n",
    "\n",
    "Derive a 2-stage third-order DIRK method.\n",
    "\n",
    "Since $k=3$ the order conditions are (remembering that $a_{12}=0$)\n",
    "\n",
    "\\begin{align*}\n",
    "    b_1 + b_2 &= 1, \\\\\n",
    "    b_1c_1 + b_2c_2 &= \\frac{1}{2}, \\\\\n",
    "    b_1c_1^2 + b_2c_2^2 &= \\frac{1}{3}, \\\\\n",
    "    a_{11} &= c_1, \\\\\n",
    "    a_{21} + a_{22} &= c_2, \\\\\n",
    "    b_1a_{11}c_1 + b_2(a_{21}c_1 + a_{22}c_2) &= \\frac{1}{6}\n",
    "\\end{align*}\n",
    "\n",
    "Here we have a system of 6 equations in 7 unknowns. Choosing $c_1=\\frac{1}{3}$ and solving for the other coefficients."
   ]
  },
  {
   "cell_type": "code",
   "execution_count": 25,
   "metadata": {},
   "outputs": [
    {
     "data": {
      "text/plain": [
       "[(3/4, 1/4, 1/3, 1, 0, 1)]"
      ]
     },
     "execution_count": 25,
     "metadata": {},
     "output_type": "execute_result"
    }
   ],
   "source": [
    "# Define symbolic variables\n",
    "a11, a21, a22, b1, b2, c1, c2 = symbols('a11, a21, a22, b1, b2, c1, c2')\n",
    "c1 = Rational('1 / 3')\n",
    "\n",
    "# Define order conditions\n",
    "eqn1 = b1 + b2 - 1\n",
    "eqn2 = b1 * c1 + b2 * c2 - Rational('1 / 2')\n",
    "eqn3 = b1 * c1**2 + b2 * c2**2 - Rational('1 / 3')\n",
    "eqn4 = a11 - c1\n",
    "eqn5 = a21 + a22 - c2\n",
    "eqn6 = b1 * a11 * c1 + b2 * (a21 * c1 + a22 * c2) - Rational('1 / 6')\n",
    "\n",
    "# Solve for the coefficients\n",
    "solve((eqn1, eqn2, eqn3, eqn4, eqn5, eqn6), (b1, b2, a11, a21, a22, c2))"
   ]
  },
  {
   "cell_type": "markdown",
   "metadata": {},
   "source": [
    "So $b_1 = \\frac{3}{4}$, $b_2 = \\frac{1}{4}$, $a_{11} = \\frac{1}{3}$, $a_{21} = 1$, $a_{22} = 0$ and $c_2 = 1$ so the third-order DIRK method is\n",
    "\n",
    "$$\\begin{array}{c|cc}\n",
    "\\frac{1}{3} & \\frac{1}{3}, \\\\\n",
    "1 & 1 & 0 \n",
    "\\end{array}$$"
   ]
  }
 ],
 "metadata": {
  "kernelspec": {
   "display_name": "Python 3",
   "language": "python",
   "name": "python3"
  },
  "language_info": {
   "codemirror_mode": {
    "name": "ipython",
    "version": 3
   },
   "file_extension": ".py",
   "mimetype": "text/x-python",
   "name": "python",
   "nbconvert_exporter": "python",
   "pygments_lexer": "ipython3",
   "version": "3.7.4"
  }
 },
 "nbformat": 4,
 "nbformat_minor": 2
}
