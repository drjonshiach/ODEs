{
 "cells": [
  {
   "cell_type": "markdown",
   "metadata": {},
   "source": [
    "# Computational Methods in Ordinary Differential Equations\n",
    "\n",
    "*Dr Jon Shiach, Department of Computing and Mathematics, Manchester Metropolitan University*"
   ]
  },
  {
   "cell_type": "markdown",
   "metadata": {},
   "source": [
    "---\n",
    "\n",
    "# Implicit Runge-Kutta methods\n",
    "\n",
    "The **order conditions** for a Runge-Kutta method can be expressed by the following\n",
    "<a id=\"order_conditions\"></a>\n",
    "\\begin{align*}\n",
    "    B(k):& & \\sum_{i=1}^s b_ic_i^{j-1} &= \\frac{1}{j}, & j &= 1, 2, \\ldots, k, &&& (1) \\\\\n",
    "    C(k):& & \\sum_{j=1}^s a_{ij}c_j^{\\ell-1} &= \\frac{1}{\\ell}c_i^{\\ell}, & i &= 1, 2, \\ldots s, & \\ell &= 1, 2, \\ldots , k, & (2) \\\\\n",
    "    D(k):& & \\sum_{i=1}^s b_ic_i^{\\ell-1} a_{ij} &= \\frac{1}{\\ell} b_j (1 - c_j^\\ell), & j &= 1, 2, \\ldots, s, & \\ell &= 1, 2, \\ldots, k. & (3)\n",
    "\\end{align*}\n",
    "\n",
    "Let $G(k)$ represent a given IRK method has order $k$, then it can be shown that\n",
    "\n",
    "$$B(k) \\text{ and } C(\\lfloor \\tfrac{k}{2} \\rfloor) \\text{ and } D(\\lfloor \\tfrac{k}{2} \\rfloor) \\implies G(k).$$\n",
    "\n",
    "So to determine the order of an IRK we need to find the highest value of $k$ for which equation (1) is satisfied and which equations (2) and (3) are satisfied for $\\lfloor \\frac{k}{2} \\rfloor$ (i.e. the integer part of $\\frac{k}{2}$)."
   ]
  },
  {
   "cell_type": "markdown",
   "metadata": {},
   "source": [
    "#### Example 1\n",
    "\n",
    "Determine the order of the following IRK method\n",
    "\n",
    "$$\\begin{array}{c|cc}\n",
    "\\frac{1}{4} & \\frac{1}{4} & 0 \\\\\n",
    "\\frac{3}{4} & \\frac{1}{2} & \\frac{1}{4} \\\\ \\hline\n",
    "& \\frac{1}{2} & \\frac{1}{2}\n",
    "\\end{array} $$\n",
    "\n",
    "Checking the $B(k)$ order condition:\n",
    "\n",
    "\\begin{align*}\n",
    "    j &= 1, & \\mathrm{LHS} &= b_1c_1^0 + b_2c_2^0 = \\frac{1}{2}\\cdot 1 + \\frac{1}{2}\\cdot 1  = 1, & \\mathrm{RHS} & = 1, \\\\\n",
    "    j &= 2, & \\mathrm{LHS} &= b_1c_1^1 + b_2c_2^1 = \\frac{1}{2} \\cdot \\frac{1}{4} + \\frac{1}{2} \\cdot \\frac{3}{4} = \\frac{1}{2}, & \\mathrm{RHS} &= \\frac{1}{2}, \\\\\n",
    "    j &= 3, & \\mathrm{LHS} &= b_1c_1^2 + b_2c_2^2 = \\frac{1}{2} \\cdot \\frac{1}{16} + \\frac{1}{2} \\cdot \\frac{9}{16} = \\frac{5}{16}, & \\mathrm{RHS} &= \\frac{1}{3}.\n",
    "\\end{align*}\n",
    "\n",
    "So the $B(k)$ order condition is satisfied up to $k=2$. Now we need to check whether $C(k)$ order condition is satisfied up to $k = 1$.\n",
    "\n",
    "\\begin{align*}\n",
    "    \\ell &= 1, & i &= 1, & \\mathrm{LHS} &= a_{11}c_1^0 + a_{12}c_2^0 = \\frac{1}{4} \\cdot 1 + 0 \\cdot 1 = \\frac{1}{4}, & \\mathrm{RHS} &= \\frac{1}{\\ell}c_1^\\ell = \\frac{1}{4}, \\\\\n",
    "    \\ell &= 1, & i &= 2, & \\mathrm{LHS} &= a_{21}c_1^0 + a_{22}c_2^0 = \\frac{1}{2} \\cdot 1 + \\frac{1}{4} \\cdot 1 = \\frac{3}{4}, & \\mathrm{RHS} &= \\frac{1}{\\ell}c_2^\\ell = \\frac{3}{4}\n",
    "\\end{align*}\n",
    "\n",
    "So the $C(k)$ order condition is satisfied up to $k=1$. Now we need to check whether the $D(k)$ order condition is satisfied up to $k=1$\n",
    "\n",
    "\\begin{align*}\n",
    "    \\ell &= 1, & j &= 1, & \\mathrm{LHS} &= b_1c_1^0a_{11} + b_2c_2^0 a_{21} = \\frac{1}{2} \\cdot 1 \\cdot \\frac{1}{4} + \\frac{1}{2} \\cdot 1 \\cdot \\frac{1}{2} = \\frac{3}{8}, \\\\\n",
    "    & & & & \\mathrm{RHS} &= \\frac{1}{\\ell}b_1(1 - c_1^\\ell) = \\frac{1}{2}\\left(1 - \\frac{1}{4}\\right) = \\frac{3}{8}, \\\\\n",
    "    \\ell &= 1, & j &= 2, & \\mathrm{LHS} &= b_1c_1^0a_{12} + b_2c_2^0a_{22} = \\frac{1}{2}\\cdot 1 \\cdot 0 + \\frac{1}{2} \\cdot 1 \\cdot \\frac{1}{4} = \\frac{1}{8}, \\\\\n",
    "    & & & & \\mathrm{RHS} &= \\frac{1}{\\ell}b_2(1 - c_2^\\ell) = \\frac{1}{2}\\left( 1 - \\frac{3}{4} \\right) = \\frac{1}{8}.\n",
    "\\end{align*}\n",
    "\n",
    "So the $D(k)$ order condition is satisfied up to $k=1$. Therefore since $B(2)$, $C(1)$ and $D(1)$ are all satisfied this IRK method is order 2."
   ]
  },
  {
   "cell_type": "markdown",
   "metadata": {},
   "source": [
    "---\n",
    "## Deriving implicit Runge-Kutta methods\n",
    "\n",
    "### Gauss-Legendre methods\n",
    "\n",
    "[Gauss-Legendre](https://en.wikipedia.org/wiki/Gauss%E2%80%93Legendre_method) IRK methods are a family of methods that are derived using Gauss-Legendre quadrature. An $s$-stage Gauss-Legendre method has order $2s$. They are derived using [Legendre polynomials](https://en.wikipedia.org/wiki/Legendre_polynomials) which can take the form\n",
    "\n",
    "$$ P_n(t) =  \\sum_{k=0}^n {n \\choose k} {n+k \\choose k}\\left( \\frac{t-1}{2} \\right)^k,$$\n",
    "\n",
    "where ${n \\choose k}$ is the [Binomial coefficient](https://en.wikipedia.org/wiki/Binomial_coefficient). The values of the $c_i$ coefficients are the roots of the Legendre polynomial $P_{s}(2t - 1)$, the values of the $b_i$ coefficents are then determined to satisfy the $B(k)$ condition and the $a_{ij}$ coefficients are determined to satisfy the $C(\\lfloor \\frac{k}{2} \\rfloor)$ condition."
   ]
  },
  {
   "cell_type": "markdown",
   "metadata": {},
   "source": [
    "#### Example 2\n",
    "\n",
    "Derive a fourth-order Gauss-Legendre method.\n",
    "\n",
    "A fourth-order Gauss-Legendre method will have $s=2$ stages and the $c_i$ coefficients are chosen to satisfy $0 = P_{2}(2t-1)$\n",
    "\n",
    "\\begin{align*}\n",
    "    0 &= {2 \\choose 0}{2 \\choose 0}(t - 1)^0 + {2 \\choose 1}{3 \\choose 1}(t - 1)^1 + {2 \\choose 2}{4 \\choose 2}(t - 1)^2 \\\\\n",
    "    &= 1 + 6t - 6 + 6t^2 - 12t + 6 \\\\\n",
    "    &= 6t^2 - 6t + 1,\n",
    "\\end{align*}\n",
    "\n",
    "therefore $c_1 = \\frac{1}{2} - \\frac{\\sqrt{3}}{6}$ and $c_2 = \\frac{1}{2} + \\frac{\\sqrt{3}}{6}$. The $b_i$ and $a_{ij}$ coefficients are chosen to satisfy the $B(4)$ and $C(2)$ order conditions respectively\n",
    "\n",
    "\\begin{align*}\n",
    "    b_1 + b_2 &= 1, \\\\\n",
    "    b_1c_1 + b_2c_2 &= \\frac{1}{2}, \\\\\n",
    "    a_{11} + a_{12} &= c_1, \\\\\n",
    "    a_{21} + a_{22} &= c_2, \\\\\n",
    "    a_{11}c_1 + a_{12}c_2 &= \\frac{1}{2}c_1^2, \\\\\n",
    "    a_{21}c_1 + a_{22}c_2 &= \\frac{1}{2}c_2^2.\n",
    "\\end{align*}\n",
    "\n",
    "The code below uses `sympy` commands to calculate the coefficients $a_{ij}$ and $b_i$."
   ]
  },
  {
   "cell_type": "code",
   "execution_count": 165,
   "metadata": {},
   "outputs": [
    {
     "data": {
      "text/plain": [
       "{a11: 1/4,\n",
       " a12: 1/4 - sqrt(3)/6,\n",
       " a21: 1/4 + sqrt(3)/6,\n",
       " a22: 1/4,\n",
       " b1: 1/2,\n",
       " b2: 1/2}"
      ]
     },
     "execution_count": 165,
     "metadata": {},
     "output_type": "execute_result"
    }
   ],
   "source": [
    "from sympy import *\n",
    "\n",
    "# Define symbolic variables\n",
    "a11, a12, a21, a22, b1, b2, c1, c2, = symbols('a11, a12, a21, a22, b1, b2, c1, c2')\n",
    "c1 = Rational('1 / 2') - sqrt(3) / 6\n",
    "c2 = Rational('1 / 2') + sqrt(3) / 6\n",
    "\n",
    "# Order conditions\n",
    "eqn1 = b1 + b2 - 1\n",
    "eqn2 = b1 * c1 + b2 * c2 - Rational('1 / 2')\n",
    "eqn3 = a11 + a12 - c1\n",
    "eqn4 = a21 + a22 - c2\n",
    "eqn5 = a11 * c1 + a12 * c2 - Rational('1 / 2') * c1**2\n",
    "eqn6 = a21 * c1 + a22 * c2 - Rational('1 / 2') * c2**2\n",
    "\n",
    "# Solve for the a coefficients\n",
    "solve((eqn1, eqn2, eqn3, eqn4, eqn5, eqn6))"
   ]
  },
  {
   "cell_type": "markdown",
   "metadata": {},
   "source": [
    "So $b_1 = \\frac{1}{2}$, $b_2 = \\frac{1}{2}$, $a_{11} = \\frac{1}{4}$, $a_{12} = \\frac{1}{4} - \\frac{\\sqrt{3}}{6}$, $a_{21} = \\frac{1}{4} + \\frac{\\sqrt{3}}{6}$ and $a_{22} = \\frac{1}{4}$. So the fourth-order Gauss-Legendre method is\n",
    "\n",
    "$$\\begin{array}{c|cc}\n",
    "\\frac{1}{2} - \\frac{\\sqrt{3}}{6} & \\frac{1}{4} & \\frac{1}{4} - \\frac{\\sqrt{3}}{6} \\\\\n",
    "\\frac{1}{2} + \\frac{\\sqrt{3}}{6} & \\frac{1}{4} + \\frac{\\sqrt{3}}{6} & \\frac{1}{4} \\\\ \\hline\n",
    "& \\frac{1}{2} & \\frac{1}{2}\n",
    "\\end{array}$$"
   ]
  },
  {
   "cell_type": "markdown",
   "metadata": {},
   "source": [
    "### Radau methods\n",
    "\n",
    "Gauss-Legendre methods give us maximal order for the number of stages, however sometimes it is better the sacrifice order to gain better stability properties (see [Stability](stability.ipynb)). An $s$-stage [Radau](https://en.wikipedia.org/wiki/List_of_Runge%E2%80%93Kutta_methods#Radau_methods) IRK method has order $2s-1$. The are two types of Radau methods: Radau IA and Radau IIA.\n",
    "\n",
    "#### Radau IA: \n",
    "Let $c_1=0$ and the other $c_i$ coefficients are the roots of \n",
    "\n",
    "$$P_s(2t-1) + P_{s-1}(2t-1)$$\n",
    "\n",
    "The coefficients $b_i$ are chosen to satisfy $B(2s)$ and the coefficients $a_{ij}$ are chosen to satisfy $C(s)$.\n",
    "\n",
    "#### Radau IIA\n",
    "Let $c_2 = 0$ and the other $c_i$ coefficients are the roots of \n",
    "\n",
    "$$P_s(2t-1) - P_{s-1}(2t-1)$$\n",
    "\n",
    "The coefficients $b_i$ are chosen to satisfy $B(2s)$ and the coefficients $a_{ij}$ are chosen to satisfy $C(s)$."
   ]
  },
  {
   "cell_type": "markdown",
   "metadata": {},
   "source": [
    "#### Example 3\n",
    "\n",
    "Derive a third-order Radau IA method.\n",
    "\n",
    "A third-order Radau IA mehtod will have $s=2$ stages. Let $c_1=0$ then the value of $c_2$ is the roots of $P_2(2t-1) + P_1(2t-1)$\n",
    "\n",
    "\\begin{align*}\n",
    "    0 = (6t^2 - 6t + 1) + (2t - 1) = 6t^2 - 4t,\n",
    "\\end{align*}\n",
    "\n",
    "which is $c_2 = \\frac{2}{3}$. The values of $b_i$ and $a_{ij}$ need to satisfy the $B(4)$ and $C(2)$ order conditions respectively with $k=2$ (same as in [example 2](#Example-2))."
   ]
  },
  {
   "cell_type": "code",
   "execution_count": 169,
   "metadata": {},
   "outputs": [
    {
     "data": {
      "text/plain": [
       "{a11: 0, a12: 0, a21: 1/3, a22: 1/3, b1: 1/4, b2: 3/4}"
      ]
     },
     "execution_count": 169,
     "metadata": {},
     "output_type": "execute_result"
    }
   ],
   "source": [
    "# Define symbolic variables\n",
    "a11, a12, a21, a22, b1, b2, c1, c2, = symbols('a11, a12, a21, a22, b1, b2, c1, c2')\n",
    "c1 = 0\n",
    "c2 = Rational('2 / 3')\n",
    "\n",
    "# Define order conditions\n",
    "eqn1 = b1 + b2 - 1\n",
    "eqn2 = b1 * c1 + b2 * c2 - Rational('1 / 2')\n",
    "eqn3 = a11 + a12 - c1\n",
    "eqn4 = a21 + a22 - c2\n",
    "eqn5 = a11 * c1 + a12 * c2 - Rational('1 / 2') * c1**2\n",
    "eqn6 = a21 * c1 + a22 * c2 - Rational('1 / 2') * c2**2\n",
    "\n",
    "# Solve system\n",
    "solve((eqn1, eqn2, eqn3, eqn4, eqn5, eqn6))"
   ]
  },
  {
   "cell_type": "markdown",
   "metadata": {},
   "source": [
    "So $a_{11} = 0$, $a_{12} = 0$, $a_{21} = \\frac{1}{3}$,  $a_{22} = \\frac{1}{3}$, $b_1 = \\frac{1}{4}$ and $b_2 = \\frac{3}{4}$ and the third-order Radau IA method is \n",
    "\n",
    "$$\\begin{array}{c|cc}\n",
    "0 & 0 & 0 \\\\ \n",
    "\\frac{2}{3} & \\frac{1}{3} & \\frac{1}{3} \\\\ \\hline\n",
    "& \\frac{1}{4} & \\frac{3}{4}\n",
    "\\end{array}$$"
   ]
  },
  {
   "cell_type": "markdown",
   "metadata": {},
   "source": [
    "### Diagonally Implicit Runge-Kutta methods\n",
    "\n",
    "[**Diagonally Implicit Runge-Kutta**](https://en.wikipedia.org/wiki/List_of_Runge%E2%80%93Kutta_methods#Diagonally_Implicit_Runge_Kutta_methods) (DIRK) methods are where the $A$ matrix is lower triagnular with non-zero elements on the main diagonal, i.e.,\n",
    "\n",
    "$$\\begin{array}{c|cccc}\n",
    "c_1 & a_{11} \\\\\n",
    "c_2 & a_{21} & a_{22} \\\\\n",
    "\\vdots & \\vdots & \\vdots & \\ddots \\\\\n",
    "c_s & a_{s1} & a_{s2} & \\cdots & a_{ss} \\\\ \\hline\n",
    "& b_1 & b_2 & \\cdots & b_s\n",
    "\\end{array}$$\n",
    "\n",
    "The advantage of DIRK methods is that although the stage values $k_1$, $k_2$ etc are implicit equations, the solutions can be obtained sequentially because the equation for $k_i$ does not include $k_{i+1}, k_{i+2}, \\ldots, k_s$. \n",
    "\n",
    "The coefficients of a $k$th-order DIRK method are chosen to satisfy the $B(k)$ and $C(\\lfloor \\frac{k}{2} \\rfloor)$ order conditions along with\n",
    "\n",
    "$$ \\mathbf{b}^T \\cdot A \\cdot \\mathbf{c} = \\frac{1}{k!}$$"
   ]
  },
  {
   "cell_type": "markdown",
   "metadata": {},
   "source": [
    "#### Example 4\n",
    "\n",
    "Derive a 2-stage third-order DIRK method.\n",
    "\n",
    "Since $k=3$ the order conditions are (remembering that $a_{12}=0$)\n",
    "\n",
    "\\begin{align*}\n",
    "    b_1 + b_2 &= 1, \\\\\n",
    "    b_1c_1 + b_2c_2 &= \\frac{1}{2}, \\\\\n",
    "    b_1c_1^2 + b_2c_2^2 &= \\frac{1}{3}, \\\\\n",
    "    a_{11} &= c_1, \\\\\n",
    "    a_{21} + a_{22} &= c_2, \\\\\n",
    "    b_1a_{11}c_1 + b_2(a_{21}c_1 + a_{22}c_2) &= \\frac{1}{6}\n",
    "\\end{align*}\n",
    "\n",
    "Here we have a system of 6 equations in 7 unknowns. Choosing $c_1=\\frac{1}{4}$ and solving for the other coefficients."
   ]
  },
  {
   "cell_type": "code",
   "execution_count": 178,
   "metadata": {},
   "outputs": [
    {
     "data": {
      "text/plain": [
       "[{a11: 1/4, a21: 2/3, a22: 1/6, b1: 4/7, b2: 3/7, c2: 5/6}]"
      ]
     },
     "execution_count": 178,
     "metadata": {},
     "output_type": "execute_result"
    }
   ],
   "source": [
    "# Define symbolic variables\n",
    "a11, a21, a22, b1, b2, c1, c2 = symbols('a11, a21, a22, b1, b2, c1, c2')\n",
    "c1 = Rational('1 / 4')\n",
    "\n",
    "# Define order conditions\n",
    "eqn1 = b1 + b2 - 1\n",
    "eqn2 = b1 * c1 + b2 * c2 - Rational('1 / 2')\n",
    "eqn3 = b1 * c1**2 + b2 * c2**2 - Rational('1 / 3')\n",
    "eqn4 = a11 - c1\n",
    "eqn5 = a21 + a22 - c2\n",
    "eqn6 = b1 * a11 * c1 + b2 * (a21 * c1 + a22 * c2) - Rational('1 / 6')\n",
    "\n",
    "# Solve for the coefficients\n",
    "solve((eqn1, eqn2, eqn3, eqn4, eqn5, eqn6))"
   ]
  },
  {
   "cell_type": "markdown",
   "metadata": {},
   "source": [
    "So $a_{11} = \\frac{1}{4}$, $a_{21} = \\frac{2}{3}$, $a_{22} = \\frac{1}{6}$, $b_1 = \\frac{4}{7}$, $b_2 = \\frac{3}{7}$ and $c_2 = \\frac{5}{6}$  so a third-order DIRK method is\n",
    "\n",
    "$$\\begin{array}{c|cc}\n",
    "\\frac{1}{4} & \\frac{1}{4} \\\\\n",
    "\\frac{5}{6} & \\frac{2}{3} & \\frac{1}{6}  \\\\ \\hline\n",
    "& \\frac{4}{7} & \\frac{3}{7}\n",
    "\\end{array}$$"
   ]
  },
  {
   "cell_type": "markdown",
   "metadata": {},
   "source": [
    "### Singly Diagonal Implicit Methods\n",
    "\n",
    "**Diagonally Implicit Runge-Kutta** (SDIRK) methods are a variation on DIRK method with the additional condition that the elements on the main diagonal have the same value ($c_1 = a_{ii}$ using the row sum condition on $a_{11}$)\n",
    "\n",
    "$$\\begin{array}{c|cccc}\n",
    "c_1 & c_1 \\\\\n",
    "c_2 & a_{21} & c_1 \\\\\n",
    "\\vdots & \\vdots & \\vdots & \\ddots \\\\\n",
    "c_s & a_{s1} & a_{s2} & \\cdots & c_1 \\\\ \\hline\n",
    "& b_1 & b_2 & \\cdots & b_s\n",
    "\\end{array}$$\n",
    "\n",
    "The advantage that SDIRK methods is that they are A-stable (see [Stability](stability.ipynb)) whereas DIRK methods are not.\n",
    "\n",
    "The derivation of an $k$th-order SDIRK method uses the same order conditions for the standard DIRK method with the addition of the $D(\\lfloor \\frac{k}{2} \\rfloor)$ condition."
   ]
  },
  {
   "cell_type": "markdown",
   "metadata": {},
   "source": [
    "#### Example 5\n",
    "\n",
    "Derive 2-stage third-order SDIRK method.\n",
    "\n",
    "Since $a_{11} = a_{22} = c_1$ the order conditions used in [example 4](#Example-4) become\n",
    "\n",
    "\\begin{align*}\n",
    "    b_1 + b_2 &= 1, \\\\\n",
    "    b_1c_1 + b_2c_2 &= \\frac{1}{2}, \\\\\n",
    "    b_1c_1^2 + b_2c_2^2 &= \\frac{1}{3}, \\\\\n",
    "    a_{21} + c_1 &= c_2, \\\\\n",
    "    b_1c_1^2 + b_2(a_{21}c_1 + c_1c_2) &= \\frac{1}{6}\n",
    "\\end{align*}\n",
    "\n",
    "Here we have 5 equations in 5 unknowns."
   ]
  },
  {
   "cell_type": "code",
   "execution_count": 179,
   "metadata": {},
   "outputs": [
    {
     "data": {
      "text/plain": [
       "[{a21: -sqrt(3)/3, b1: 1/2, b2: 1/2, c1: sqrt(3)/6 + 1/2, c2: 1/2 - sqrt(3)/6},\n",
       " {a21: sqrt(3)/3, b1: 1/2, b2: 1/2, c1: 1/2 - sqrt(3)/6, c2: sqrt(3)/6 + 1/2}]"
      ]
     },
     "execution_count": 179,
     "metadata": {},
     "output_type": "execute_result"
    }
   ],
   "source": [
    "# Define symbolic variables\n",
    "a21, b1, b2, c1, c2 = symbols('a21, b1, b2, c1, c2')\n",
    "\n",
    "# Define order conditions\n",
    "eqn1 = b1 + b2 - 1\n",
    "eqn2 = b1 * c1 + b2 * c2 - Rational('1 / 2')\n",
    "eqn3 = b1 * c1**2 + b2 * c2**2 - Rational('1 / 3')\n",
    "eqn4 = a21 + c1 - c2\n",
    "eqn5 = b1 * c1 * c1 + b2 * (a21 * c1 + c1 * c2) - Rational('1 / 6')\n",
    "\n",
    "# Solve for the coefficients\n",
    "solve((eqn1, eqn2, eqn3, eqn4, eqn5))"
   ]
  },
  {
   "cell_type": "markdown",
   "metadata": {},
   "source": [
    "So $a_{21} = \\mp \\frac{\\sqrt{3}}{3}$, $b_1 = \\frac{1}{2}$, $b_2 = \\frac{1}{2}$, $c_1 = \\frac{1}{2} \\pm \\frac{\\sqrt{3}}{6}$ $c_2 = \\mp \\frac{\\sqrt{3}}{6}$ and the third-order SDIRK method is \n",
    "\n",
    "$$\\begin{array}{c|cc}\n",
    "    \\frac{1}{2} \\pm \\frac{\\sqrt{3}}{6} & \\frac{1}{2} \\pm \\frac{\\sqrt{3}}{6} \\\\\n",
    "    \\frac{1}{2} \\mp \\frac{\\sqrt{3}}{6} & \\mp \\frac{\\sqrt{3}}{3} & \\frac{1}{2} \\pm \\frac{\\sqrt{3}}{6} \\\\ \\hline\n",
    "    & \\frac{1}{2} & \\frac{1}{2}\n",
    "\\end{array}$$"
   ]
  },
  {
   "cell_type": "markdown",
   "metadata": {},
   "source": [
    "---\n",
    "## Implementation of implicit Runge-Kutta methods\n",
    "\n",
    "The general form of an IRK method is\n",
    "\n",
    "\\begin{align*}\n",
    "    y_{n+1} &= y_n + h\\sum_{i=1}^s b_i k_i, \\\\\n",
    "    k_i &= f(t_n + c_ih, y_n + h\\sum_{j=1}^s a_{ij}k_j).\n",
    "\\end{align*}\n",
    "\n",
    "Let $Y_i = y_n + h\\displaystyle\\sum_{j=1}^s a_{ij}k_j$ then\n",
    "\n",
    "\\begin{align*}\n",
    "    y_{n+1} &= y_n + h \\sum_{i=1}^s b_i f(t_n + c_ih, Y_i), \\\\\n",
    "    Y_i &= y_n + h \\sum_{j=1}^s a_{ij} f(t_n + c_jh, Y_j).\n",
    "\\end{align*}\n",
    "\n",
    "Expanding the summation in the expression for $Y_i$ gives\n",
    "\n",
    "\\begin{align*}\n",
    "    Y_1 &= y_n + h (a_{11} f(t_n + c_1h, Y_1) + a_{12} f(t_n + c_2h, Y_2) + \\cdots + a_{1s} f(t_n + c_sh, Y_s)), \\\\\n",
    "    Y_2 &= y_n + h (a_{21} f(t_n + c_1h, Y_1) + a_{22} f(t_n + c_2h, Y_2) + \\cdots + a_{2s} f(t_n + c_sh, Y_s)), \\\\\n",
    "    & \\vdots \\\\\n",
    "    Y_s &= y_n + h (a_{s1} f(t_n + c_1h, Y_1) + a_{s2} f(t_n + c_2h, Y_2) + \\cdots + a_{ss} f(t_n + c_sh, Y_s)).\n",
    "\\end{align*}\n",
    "\n",
    "Let $Y = (Y_1, Y_2, \\ldots, Y_s)^T$ then\n",
    "\n",
    "\\begin{align*}\n",
    "    Y =  y_n + h A \\cdot f(t_n + \\mathbf{c}h, Y),\n",
    "\\end{align*}\n",
    "\n",
    "and\n",
    "\n",
    "\\begin{align*}\n",
    "    y_{n+1} = y_n + h \\mathbf{b} \\cdot f( t_n + \\mathbf{c}h, Y).\n",
    "\\end{align*}\n",
    "\n",
    "The stage values $Y_i$ are calculated using an iterative approach, the simplest of which is the the [Jacobi method](https://en.wikipedia.org/wiki/Jacobi_method). Let $Y_i^{k}$ denote an estimate of the value of $Y_i$ and $Y_i^{k+1}$ denote an improved estimate of $Y_i$. Using non-zero starting values for $Y_i^0$ the Jacobi method applied to calculate the stage values of an IRK is\n",
    "\n",
    "\\begin{align*}\n",
    "    Y^{k+1} = y_n + h A \\cdot f(t_n + \\mathbf{c}h, Y^k).\n",
    "\\end{align*}\n",
    "\n",
    "The method is iterated until the largest absolute difference between two successive iterations of the method is less than some small number $tol$, i.e.,\n",
    "\n",
    "$$\\max |Y^{k+1} - Y^{k}| < tol.$$\n",
    "\n",
    "Note that the Jacobi method is computationally inefficient and in practice [Newton's method](https://en.wikipedia.org/wiki/Newton%27s_method) is most commonly used to calculate the stage values. This is more complicated to apply to IRK methods than the Jacobi method and is outside of the scope of this course."
   ]
  },
  {
   "cell_type": "markdown",
   "metadata": {},
   "source": [
    "#### Example 6\n",
    "\n",
    "Use the IRK method \n",
    "\n",
    "$$\\begin{array}{c|cc}\n",
    "0 & \\frac{1}{4} & -\\frac{1}{4} \\\\\n",
    "\\frac{2}{3} & \\frac{1}{4} & \\frac{5}{12} \\\\ \\hline\n",
    "& \\frac{1}{4} & \\frac{3}{4}\n",
    "\\end{array}$$\n",
    "\n",
    "to solve the IVP \n",
    "\n",
    "\\begin{align*}\n",
    "    y' &= \\sin^2(t)y, & t &\\in [0, 5], & y_0 &= 1,\n",
    "\\end{align*}\n",
    "\n",
    "using a step length of $h=0.5$.\n",
    "\n",
    "The function below defines $f(t,y)$ for this ODE."
   ]
  },
  {
   "cell_type": "code",
   "execution_count": 192,
   "metadata": {},
   "outputs": [],
   "source": [
    "def f(t, y):\n",
    "    return np.sin(t)**2 * y"
   ]
  },
  {
   "cell_type": "markdown",
   "metadata": {},
   "source": [
    "The exact solution to this IVP is $y(t) = e^{\\frac{1}{2}(t - \\sin(t)\\cos(t)}$ and defined in the function below."
   ]
  },
  {
   "cell_type": "code",
   "execution_count": 193,
   "metadata": {},
   "outputs": [],
   "source": [
    "def exact_sol(t):\n",
    "    return np.exp(0.5 * (t - np.sin(t) * np.cos(t)))"
   ]
  },
  {
   "cell_type": "markdown",
   "metadata": {},
   "source": [
    "The program below solves the IVP given here using this IRK method. To use a different 2-stage IRK method we simply need to change the values of the `a`, `b` and `c` variables."
   ]
  },
  {
   "cell_type": "code",
   "execution_count": 254,
   "metadata": {},
   "outputs": [],
   "source": [
    "def irk(f, tspan, y0, h, A, b, c):\n",
    "    '''\n",
    "    Calculates the solution to an initial value problem using an implicit\n",
    "    Runge-Kutta method defined by A, b and c\n",
    "    '''    \n",
    "    # Initialise output ararys\n",
    "    nsteps = int((tspan[1] - tspan[0]) / h)\n",
    "    t = np.zeros(nsteps + 1)\n",
    "    y = np.zeros(nsteps + 1)\n",
    "    t[0] = tspan[0]\n",
    "    y[0] = y0\n",
    "    \n",
    "    # Loop through steps\n",
    "    for n in range(nsteps):\n",
    "\n",
    "        # Solve for Y values using the Jacobi method\n",
    "        Y = np.ones(b.shape)\n",
    "        for k in range(100):\n",
    "            Ynew = y[n] + h * np.matmul(A, f(t[n] + c * h, Y))\n",
    "\n",
    "            # Check for convergence\n",
    "            if max(np.abs(Ynew - Y)) < 1e-6:\n",
    "                break\n",
    "\n",
    "            # Update Y\n",
    "            Y = Ynew\n",
    "\n",
    "        # Calculate the solution at the next step\n",
    "        y[n+1] = y[n] + h * np.matmul(b, f(t[n] + c * h, Y))\n",
    "        t[n+1] = t[n] + h\n",
    "    \n",
    "    return t, y"
   ]
  },
  {
   "cell_type": "code",
   "execution_count": 255,
   "metadata": {},
   "outputs": [
    {
     "name": "stdout",
     "output_type": "stream",
     "text": [
      "3\n",
      "6\n",
      "8\n",
      "9\n",
      "8\n",
      "5\n",
      "4\n",
      "6\n",
      "9\n",
      "10\n"
     ]
    },
    {
     "data": {
      "image/png": "[encoded data removed]",
      "text/plain": [
       "<Figure size 432x288 with 1 Axes>"
      ]
     },
     "metadata": {
      "needs_background": "light"
     },
     "output_type": "display_data"
    }
   ],
   "source": [
    "import numpy as np\n",
    "import matplotlib.pyplot as plt\n",
    "from matplotlib import rc\n",
    "rc('text', usetex=True)\n",
    "\n",
    "# Define IRK method\n",
    "A = np.array([[ 1/4, -1/4 ],[ 1/4, 5/12 ]])\n",
    "b = np.array([ 1/4, 3/4 ])\n",
    "c = np.array([ 0, 2/3 ])\n",
    "\n",
    "# Define IVP parameters\n",
    "tspan = [ 0, 5 ]\n",
    "y0 = 1\n",
    "h = 0.5\n",
    "\n",
    "# Solve IVP using the IRK method\n",
    "t, y = irk(f, tspan, y0, h, A, b, c)\n",
    "\n",
    "# Calculate exact solution\n",
    "t1 = np.linspace(tspan[0], tspan[1], 100)\n",
    "y1 = exact_sol(t1)\n",
    "\n",
    "# Plot solutions\n",
    "fig, ax = plt.subplots()\n",
    "\n",
    "ax.plot(t1, y1, 'k-', label='Exact solution')\n",
    "ax.plot(t, y, 'bo-', label='IRK')\n",
    "\n",
    "ax.set_title(\"Solution to the IVP $y'=\\sin^2(t)y$, $y(0) = 1$\")\n",
    "ax.set_xlabel('$t$', fontsize=12)\n",
    "ax.set_ylabel('$y(t)$', fontsize=12)\n",
    "ax.legend()\n",
    "\n",
    "plt.show()"
   ]
  },
  {
   "cell_type": "markdown",
   "metadata": {},
   "source": [
    "---\n",
    "## Summary\n",
    "\n",
    "IRK methods have the following advantages over ERK methods:\n",
    "\n",
    "- use fewer stages to achieve the same accuracy as ERK method;\n",
    "- IRK methods have better stability properties meaning they can be used to solve stiff ODEs which ERK methods can struggle with.\n",
    "\n",
    "IRK methods have the following disadvantages over ERK methods:\n",
    "\n",
    "- they are more complicated to implement than ERK methods;\n",
    "- they are more computationally expensive when applied to non-stiff methods than ERK methods."
   ]
  }
 ],
 "metadata": {
  "kernelspec": {
   "display_name": "Python 3",
   "language": "python",
   "name": "python3"
  },
  "language_info": {
   "codemirror_mode": {
    "name": "ipython",
    "version": 3
   },
   "file_extension": ".py",
   "mimetype": "text/x-python",
   "name": "python",
   "nbconvert_exporter": "python",
   "pygments_lexer": "ipython3",
   "version": "3.7.4"
  }
 },
 "nbformat": 4,
 "nbformat_minor": 2
}
