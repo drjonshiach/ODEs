{
 "cells": [
  {
   "cell_type": "markdown",
   "metadata": {},
   "source": [
    "# Computational Methods in Ordinary Differential Equations\n",
    "\n",
    "## Euler Method Applied to Solve Systems of Ordinary Differential Equations\n",
    "\n",
    "The Euler method can be applied to solve a system of $N$ Ordinary Differntial Equations (ODE) of the form\n",
    "\n",
    "\\begin{align*}\n",
    "    y_1' &= f_1(t, y_1), \\\\\n",
    "    y_2' &= f_2(t, y_2), \\\\\n",
    "    &\\vdots \\\\\n",
    "    y_N' &= f_N(t, y_N).\n",
    "\\end{align*}\n",
    "\n",
    "Let $\\mathbf{y} = (y_1, y_2, \\ldots, y_N)$ and $F(t, \\mathbf{y}) = (f_1(t, y_1), f_2(t, y_2), \\ldots, f_N(t, y_N))$ then we can write the system in vector form\n",
    "\n",
    "$$ \\mathbf{y}' = F(t, \\mathbf{y})$$\n",
    "\n",
    "The Euler method for solving this ODE in vector form is\n",
    "\n",
    "$$ \\mathbf{y}_{n+1} = \\mathbf{y}_n + hF(t, \\mathbf{y}).$$"
   ]
  },
  {
   "cell_type": "markdown",
   "metadata": {},
   "source": [
    "#### Example\n",
    "The code below solves the following IVP over the domain $t\\in[0, 5]$\n",
    "\n",
    "\\begin{align*}\n",
    "    y_1' &= y_2, & y_1(0) &= 0, \\\\\n",
    "    y_2' &= -g, & y_2(0) &= 20,\n",
    "\\end{align*}\n",
    "\n",
    "where $g=9.81$ms$^{-2}$ is the acceleration due to gravity."
   ]
  },
  {
   "cell_type": "code",
   "execution_count": 4,
   "metadata": {},
   "outputs": [
    {
     "data": {
      "image/png": "[encoded data removed]",
      "text/plain": [
       "<Figure size 432x288 with 1 Axes>"
      ]
     },
     "metadata": {
      "needs_background": "light"
     },
     "output_type": "display_data"
    }
   ],
   "source": [
    "import numpy as np\n",
    "import matplotlib.pyplot as plt\n",
    "\n",
    "\n",
    "def euler(tspan, y0, h):\n",
    "    \"\"\"\n",
    "    This function calculates the solution to the following IVP using the Euler method\n",
    "    \n",
    "            y'(t) = f(t, y(t)), tspan = [tmin, tmax], y(tmin) = y0\n",
    "    \"\"\"     \n",
    "    nsteps = int((tspan[1] - tspan[0]) / h)\n",
    "    t = np.zeros((nsteps + 1, 1))\n",
    "    y = np.zeros((nsteps + 1, len(y0)))\n",
    "    t[0] = tspan[0]\n",
    "    y[0,:] = y0\n",
    "    \n",
    "    for n in range(nsteps):\n",
    "        y[n+1,:] = y[n,:] + h * f(t[n], y[n,:])\n",
    "        t[n+1] = t[n] + h\n",
    "    \n",
    "    return t, y\n",
    "\n",
    "\n",
    "def f(t, y):\n",
    "    \"\"\"\n",
    "    This function defines the system of ODEs to be solved\n",
    "    \"\"\"\n",
    "    dy = np.zeros(y.shape)\n",
    "    dy[0] = y[1]\n",
    "    dy[1] = -g\n",
    "    \n",
    "    return dy\n",
    "\n",
    "\n",
    "# Define variables\n",
    "g = 9.81\n",
    "tspan = [0, 5]\n",
    "y0 = [0, 20]\n",
    "h = 0.5\n",
    "\n",
    "# Solve IVP using the Euler method\n",
    "t, y = euler(tspan, y0, h)\n",
    "\n",
    "# Plot numerical and exact solutions\n",
    "texact = np.linspace(tspan[0], tspan[1], 100)\n",
    "yexact = 20 * texact - 0.5 * g * texact**2\n",
    "\n",
    "fig, ax = plt.subplots()\n",
    "\n",
    "ax.plot(texact, yexact, 'r-', label='exact')\n",
    "ax.plot(t, y[:,0], 'bo-', label='euler')\n",
    "ax.set_xlabel('t')\n",
    "ax.set_ylabel('y')\n",
    "ax.legend()\n",
    "\n",
    "plt.show()"
   ]
  },
  {
   "cell_type": "markdown",
   "metadata": {},
   "source": [
    "<font size=\"2\"><i>Dr Jon Shiach, Department of Computing and Mathematics, Manchester Metropolitan University</i></font>"
   ]
  }
 ],
 "metadata": {
  "kernelspec": {
   "display_name": "Python 3",
   "language": "python",
   "name": "python3"
  },
  "language_info": {
   "codemirror_mode": {
    "name": "ipython",
    "version": 3
   },
   "file_extension": ".py",
   "mimetype": "text/x-python",
   "name": "python",
   "nbconvert_exporter": "python",
   "pygments_lexer": "ipython3",
   "version": "3.7.4"
  }
 },
 "nbformat": 4,
 "nbformat_minor": 2
}
