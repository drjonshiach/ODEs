{
 "cells": [
  {
   "cell_type": "markdown",
   "metadata": {},
   "source": [
    "# Computational Methods in Ordinary Differential Equations\n",
    "\n",
    "*Dr Jon Shiach, Department of Computing and Mathematics, Manchester Metropolitan University*"
   ]
  },
  {
   "cell_type": "markdown",
   "metadata": {},
   "source": [
    "---\n",
    "# Boundary Value Problems\n",
    "\n",
    "#### Learning outcomes\n",
    "\n",
    "On successful completion of this page readers will be able to:\n",
    "\n",
    "- Understand the definition of a **two-point boundary value problem**.\n",
    "- Apply the [**shooting method**](#Shooting-method) to solve a boundary value problem.\n",
    "- Implement the [**Secant method**](#Improving-the-guess-value-using-the-Secant-method) to calculate estimates of the initial value.\n",
    "- Implement the [**finite-difference method**](#Finite-difference-method) to solve boundary value problems.\n",
    "- Implement the [**Thomas algorithm**](#The-Thomas-algorithm) to solve a tridiagonal linear system of equations.\n",
    "\n",
    "A [**Boundary Value Problem**](https://en.wikipedia.org/wiki/Boundary_value_problem) (BVP) is an Ordinary Differential Equation (ODE) where the solutions at the boundaries of the domain are known. A common type of a BVP is the **two-point BVP** which is written using a second-order ODE\n",
    "\n",
    "<a id=\"bvp\"></a>\n",
    "\\begin{align*}\n",
    "    y'' &= f(t, y), & t &\\in [t_{\\min}, t_{\\max}], & y(t_{\\min}) &= y_0 & y(t_{\\max}) &= y_N, && (1)\n",
    "\\end{align*}\n",
    "\n",
    "for some known values $y_0$ and $y_N$."
   ]
  },
  {
   "cell_type": "markdown",
   "metadata": {},
   "source": [
    "## Shooting method\n",
    "\n",
    "Consider the two-point BVP from equation [(1)](#bvp). Since the ODE solvers we use can only be applied to a first-order ODE we need to rewrite the second-order ODE as a system of two first-order ODEs\n",
    "\n",
    "\\begin{align*}\n",
    "    y_1' &= y_2, \\\\\n",
    "    y_2' &= f(t, y_1, y_2).\n",
    "\\end{align*}\n",
    "\n",
    "Since we have let $y_1=y$ we know that $y_1(t_{\\min})=y_0$ from the problem definition but we do not know that value of $y_2(t_{\\min}) = y'(t_{\\min})$. To overcome this problem we simply guess this value and compute the solutions to the [Initial Value Problem](https://en.wikipedia.org/wiki/Initial_value_problem) (IVP) and compare the solution of $y_1(t_{\\max})$ to $y(t_{\\max})=y_N$ and adjust the guess value accordingly. This method is called the [**shooting method**](https://en.wikipedia.org/wiki/Shooting_method) because someone shooting at a target will adjust their next shot based where their previous shot landed.\n",
    "\n",
    "#### Example 1\n",
    "\n",
    "Use the shooting method to solve the following BVP\n",
    "\n",
    "\\begin{align*}\n",
    "    y'' - y' - y &= 0, & t &\\in [0, 1], & y(0) &= 1, & y(1) &= 2.\n",
    "\\end{align*}\n",
    "\n",
    "Rewriting this as a system of first-order ODEs gives\n",
    "\n",
    "\\begin{align*}\n",
    "    y_1' &= y_2, & y_1(0) &= 1, \\\\\n",
    "    y_2' &= y_2 + y_1, & y_2(0) &= s,\n",
    "\\end{align*}\n",
    "\n",
    "where $s$ is a guess of $y'(0)$.\n",
    "\n",
    "The function defined below calculates the solution to an IVP using the Euler method"
   ]
  },
  {
   "cell_type": "code",
   "execution_count": 1,
   "metadata": {
    "collapsed": true
   },
   "outputs": [],
   "source": [
    "import numpy as np\n",
    "\n",
    "def euler(f, tspan, y0, h):\n",
    "    '''\n",
    "    Calculates the solution to an IVP using the Euler method\n",
    "    '''\n",
    "    # Initialise solution arrays\n",
    "    nsteps = int((tspan[1] - tspan[0]) / h)\n",
    "    t = np.zeros(nsteps + 1)\n",
    "    y = np.zeros((nsteps + 1, len(y0)))\n",
    "    t[0] = tspan[0]\n",
    "    y[0,:] = y0\n",
    "    \n",
    "    # Solver loop\n",
    "    for n in range(nsteps):\n",
    "        y[n+1,:] = y[n,:] + h * f(t[n], y[n,:])\n",
    "        t[n+1] = t[n] + h\n",
    "        \n",
    "    return t, y"
   ]
  },
  {
   "cell_type": "markdown",
   "metadata": {},
   "source": [
    "The function defined below calculates the right-hand side of the system of ODEs."
   ]
  },
  {
   "cell_type": "code",
   "execution_count": 2,
   "metadata": {
    "collapsed": true
   },
   "outputs": [],
   "source": [
    "def f(t, y):\n",
    "    dy = np.zeros(y.shape)\n",
    "    dy[0] = y[1]\n",
    "    dy[1] = y[1] + y[0]\n",
    "    return dy"
   ]
  },
  {
   "cell_type": "markdown",
   "metadata": {},
   "source": [
    "The program below solves the BVP problem defined here using the guess values $s=1$, $s=2$ and $s=1.5$."
   ]
  },
  {
   "cell_type": "code",
   "execution_count": 3,
   "metadata": {},
   "outputs": [
    {
     "name": "stdout",
     "output_type": "stream",
     "text": [
      "------------------------------\n",
      "  n  |  t  |  y_1   |  y_2 \n",
      "------------------------------\n",
      "  0  | 0.0 | 0.0000 | 1.0000\n",
      "  1  | 0.2 | 0.2000 | 1.2000\n",
      "  2  | 0.4 | 0.4400 | 1.4800\n",
      "  3  | 0.6 | 0.7360 | 1.8640\n",
      "  4  | 0.8 | 1.1088 | 2.3840\n",
      "  5  | 1.0 | 1.5856 | 3.0826\n",
      "------------------------------\n",
      "\n",
      "------------------------------\n",
      "  n  |  t  |  y_1   |  y_2 \n",
      "------------------------------\n",
      "  0  | 0.0 | 0.0000 | 2.0000\n",
      "  1  | 0.2 | 0.4000 | 2.4000\n",
      "  2  | 0.4 | 0.8800 | 2.9600\n",
      "  3  | 0.6 | 1.4720 | 3.7280\n",
      "  4  | 0.8 | 2.2176 | 4.7680\n",
      "  5  | 1.0 | 3.1712 | 6.1651\n",
      "------------------------------\n",
      "\n",
      "------------------------------\n",
      "  n  |  t  |  y_1   |  y_2 \n",
      "------------------------------\n",
      "  0  | 0.0 | 0.0000 | 1.5000\n",
      "  1  | 0.2 | 0.3000 | 1.8000\n",
      "  2  | 0.4 | 0.6600 | 2.2200\n",
      "  3  | 0.6 | 1.1040 | 2.7960\n",
      "  4  | 0.8 | 1.6632 | 3.5760\n",
      "  5  | 1.0 | 2.3784 | 4.6238\n",
      "------------------------------\n",
      "\n"
     ]
    },
    {
     "data": {
      "image/png": "[encoded data removed]",
      "text/plain": [
       "<matplotlib.figure.Figure at 0x1129ae588>"
      ]
     },
     "metadata": {},
     "output_type": "display_data"
    }
   ],
   "source": [
    "import matplotlib.pyplot as plt\n",
    "from matplotlib import rc\n",
    "rc('text', usetex=True)\n",
    "\n",
    "# Define BVP parameters\n",
    "tspan = [ 0, 1 ]      # t domain\n",
    "bvals = [ 0, 2 ]      # boundary values\n",
    "s = [ 1, 2, 1.5 ]     # guess values for y'(0)\n",
    "h = 0.2               # step length\n",
    "\n",
    "# Loop through the 3 guess values\n",
    "for i in range(3):\n",
    "    \n",
    "    # Solve IVP using the Euler method\n",
    "    t, y1 = euler(f, tspan, [ bvals[0], s[i] ], h)\n",
    "    \n",
    "    # Append current solution to y array\n",
    "    if i == 0:\n",
    "        y = y1\n",
    "    else:\n",
    "        y = np.append(y, y1, axis=1)\n",
    "\n",
    "# Output tables of solutions\n",
    "hline = '-' * 30\n",
    "for j in range(3):\n",
    "    print('{0}\\n  n  |  t  |  y_1   |  y_2 \\n{0}'. format(hline))\n",
    "    for i in range(len(t)):\n",
    "        print(' {:2d}  | {:0.1f} | {:0.4f} | {:0.4f}'.format(i, t[i], y[i,2*j], y[i,2*j+1]))\n",
    "    print(hline + '\\n')\n",
    "\n",
    "# Plot solution\n",
    "colours = ['r', 'b', 'g']\n",
    "fig, ax = plt.subplots()\n",
    "\n",
    "for i in range(3):\n",
    "    ax.plot(t, y[:,2*i], 'o-', color=colours[i], label='$s={:0.2f}$'.format(y[0,1+2*i]))\n",
    "ax.plot(tspan, bvals, 'ks', label='boundary values')\n",
    "\n",
    "ax.set_title(\"Solutions to the BVP $y'' - y' - y = 0$, $y(0) = 0$, $y(1) = 2$\")\n",
    "ax.set_xlabel('$t$', fontsize=12)\n",
    "ax.set_ylabel('$y(t)$', fontsize=12)\n",
    "ax.legend()\n",
    "\n",
    "plt.show()"
   ]
  },
  {
   "cell_type": "markdown",
   "metadata": {},
   "source": [
    "Comparing the solutions of $y(1)$ to the boundary value of $y(1)=2$ we can see that using $s=1$ results in $y_1(1) = 1.5856$ which is too small and using $s=1$ results in $y(1) = 3.1712$ which is too large. Choosing a guess of somewhere inbetween such as $s=0.5$ results in $y(1) = 2.2384$ which is closer to the exact solution but still not an accurate approximation."
   ]
  },
  {
   "cell_type": "markdown",
   "metadata": {},
   "source": [
    "### Improving the guess value using the Secant method\n",
    "To improve the guess value we can use the [**Secant method**](https://en.wikipedia.org/wiki/Secant_method). The Secant method is a root finding algorithm that calculates the value of $s$ where $F(s) = 0$ for some function $F$\n",
    "\n",
    "$$s_{i+1} = s_i - F(s_i) \\frac{s_i - s_{i-1}}{F(s_i) - F(s_{i-1})}.$$\n",
    "\n",
    "This expression is iterated until $|s_i - s_{i-1}| < tol$ where tol is some small number. Since we want the solution of $f'(t_{\\max})$ to be equal to the upper boundary value $y_N$ we can define\n",
    "\n",
    "$$F(s) = f'(t_{\\max}) - y_N, $$\n",
    "\n",
    "and use the Secant method to calculate $s$.\n",
    "\n",
    "The function defined below solves a BVP using the shooting method with the Secant method to calculate an improved guess value using two starting guess values of $s=1$ and $s=2$. The input arguments `odesolver`, `odefun`, `tspan` and `bval` specifies the IVP solver, the ODE function, the lower and upper boundaries of the $t$ domain and the boundary values. The variables `s1`, `s0`, `F1` and `F0` denote $s_{i}$, $s_{i-1}$, $F(s_i)$ and $F(s_{i-1})$ respectively and the Secant method is iterated until $|s_{i} - s_{i-1}| \\leq 10^{-6}$. "
   ]
  },
  {
   "cell_type": "code",
   "execution_count": 4,
   "metadata": {
    "collapsed": true
   },
   "outputs": [],
   "source": [
    "def shooting_method(odesolver, odefun, tspan, bvals):\n",
    "    \n",
    "    # Solve IVP using first guess value s = 1\n",
    "    s0, s1 = 1, 2\n",
    "    t, y = odesolver(odefun, tspan, [ bvals[0], s0 ], h)\n",
    "    F0 = y[-1, 0] - bvals[1]\n",
    "    \n",
    "    # Iterate until successive guess values agree\n",
    "    while abs(s1 - s0) > 1e-6:\n",
    "\n",
    "        # Solve IVP using current guess value\n",
    "        t, y1 = odesolver(odefun, tspan, [ bvals[0], s1 ], h)\n",
    "\n",
    "        # Append current solution to y\n",
    "        y = np.append(y, y1, axis=1)\n",
    "\n",
    "        # Use Secant method to calculate next guess value after first iteration\n",
    "        F1 = y1[-1, 0] - bvals[-1]\n",
    "        s1, s0, F0 = s1 - F1 * (s1 - s0) / (F1 - F0), s1, F1   \n",
    "        \n",
    "    return t, y"
   ]
  },
  {
   "cell_type": "markdown",
   "metadata": {},
   "source": [
    "#### Example 2\n",
    "\n",
    "Use the shooting method to calculate the solution of the BVP from [example 1](#Example-1)."
   ]
  },
  {
   "cell_type": "code",
   "execution_count": 5,
   "metadata": {},
   "outputs": [
    {
     "name": "stdout",
     "output_type": "stream",
     "text": [
      "------------------------------\n",
      "  n  |  t  |  y_1   |  y_2 \n",
      "------------------------------\n",
      "  0  | 0.0 | 0.0000 | 1.2614\n",
      "  1  | 0.2 | 0.2523 | 1.5136\n",
      "  2  | 0.4 | 0.5550 | 1.8668\n",
      "  3  | 0.6 | 0.9284 | 2.3512\n",
      "  4  | 0.8 | 1.3986 | 3.0071\n",
      "  5  | 1.0 | 2.0000 | 3.8882\n",
      "------------------------------\n"
     ]
    },
    {
     "data": {
      "image/png": "[encoded data removed]",
      "text/plain": [
       "<matplotlib.figure.Figure at 0x110b82da0>"
      ]
     },
     "metadata": {},
     "output_type": "display_data"
    }
   ],
   "source": [
    "# Define BVP parameters\n",
    "tspan = [ 0, 1 ]      # t domain\n",
    "bvals = [ 0, 2 ]      # boundary values\n",
    "h = 0.2               # step length\n",
    "\n",
    "# Solve BVP using the shooting method\n",
    "t, y = shooting_method(euler, f, tspan, bvals)\n",
    "\n",
    "# Output solution table\n",
    "hline = '-' * 30\n",
    "print('{0}\\n  n  |  t  |  y_1   |  y_2 \\n{0}'.format(hline))\n",
    "for i in range(len(t)):\n",
    "    print(' {:2d}  | {:0.1f} | {:0.4f} | {:0.4f}'.format(i, t[i], y[i,2*j], y[i,2*j+1]))\n",
    "print(hline)\n",
    "\n",
    "# Plot solution\n",
    "fig, ax = plt.subplots()\n",
    "\n",
    "ax.plot(t, y[:,-2], 'bo-', label='$s={:0.4f}$'.format(y[0,-1]))\n",
    "ax.plot(tspan, bvals, 'ks', label='boundary values')\n",
    "\n",
    "ax.set_title(\"Solution to the BVP $y'' - y' - y = 0$, $y(0) = 0$, $y(1) = 2$\")\n",
    "ax.set_xlabel('$t$', fontsize=12)\n",
    "ax.set_ylabel('$y(t)$', fontsize=12)\n",
    "ax.legend()\n",
    "\n",
    "plt.show()"
   ]
  },
  {
   "cell_type": "markdown",
   "metadata": {},
   "source": [
    "Here the Secant method converged to a guess value of $s=1.2614$ which provides a solution at the upper boundary of $y(1)=2.0000$."
   ]
  },
  {
   "cell_type": "markdown",
   "metadata": {},
   "source": [
    "### A note about accuracy\n",
    "In [example 2](#Example-2) we iterated the Secant method until convergence and got a very accurate solution for the value of $y(t_{\\max})$. We must be careful not to forget that this solution was obtained using the Euler method which being only first-order so expect it to be relatively innacurate. \n",
    "\n",
    "The exact solution to the BVP from [example 1](#Example-1) above is\n",
    "\n",
    "$$y = \\frac{2e^{-\\frac{1}{2}(\\sqrt{5} - 1)(t-1)}(e^{\\sqrt{5}t} - 1)}{e^{\\sqrt{5}} - 1}$$\n",
    "\n",
    "which is defined in the function below."
   ]
  },
  {
   "cell_type": "code",
   "execution_count": 6,
   "metadata": {
    "collapsed": true
   },
   "outputs": [],
   "source": [
    "def exact_sol(t):\n",
    "    sqrt5 = np.sqrt(5)\n",
    "    return (2 * np.exp(-0.5 * (sqrt5 - 1) * (t - 1)) * (np.exp(sqrt5 * t) - 1)) / (np.exp(sqrt5) - 1)"
   ]
  },
  {
   "cell_type": "markdown",
   "metadata": {},
   "source": [
    "The code below plots the solution obtained using the Euler method with the guess value of $s=1.2614$ and compares it to the exact solution."
   ]
  },
  {
   "cell_type": "code",
   "execution_count": 7,
   "metadata": {},
   "outputs": [
    {
     "data": {
      "image/png": "[encoded data removed]",
      "text/plain": [
       "<matplotlib.figure.Figure at 0x110b82908>"
      ]
     },
     "metadata": {},
     "output_type": "display_data"
    }
   ],
   "source": [
    "# Calculate exact solution\n",
    "t1 = np.linspace(tspan[0], tspan[1], 100)\n",
    "y1 = exact_sol(t1)\n",
    "\n",
    "# Plot solution\n",
    "fig, ax = plt.subplots()\n",
    "\n",
    "ax.plot(t1, y1, 'r-', label='Exact solution')\n",
    "ax.plot(t, y[:, -2], 'bo-', label='Euler method')\n",
    "\n",
    "ax.set_xlabel('$t$', fontsize=12)\n",
    "ax.set_ylabel('$y(t)$', fontsize=12)\n",
    "ax.legend()\n",
    "\n",
    "plt.show()"
   ]
  },
  {
   "cell_type": "markdown",
   "metadata": {},
   "source": [
    "So despite the Secant method giving a guess value that gives an accurate solution at the upper bounday, the use of the Euler method does not give an accurate solution in the interior points. One way to improve the accuracy of our approximation is to use a more accurate ODE solver.\n",
    "\n",
    "The function below calculates the solution to an IVP using the second-order [Runge-Kutta method](https://en.wikipedia.org/wiki/Runge%E2%80%93Kutta_methods) (RK2). "
   ]
  },
  {
   "cell_type": "code",
   "execution_count": 8,
   "metadata": {
    "collapsed": true
   },
   "outputs": [],
   "source": [
    "def rk2(f, tspan, y0, h):\n",
    "    '''\n",
    "    Calculates the solution to an IVP using the second-order Runge-Kutta method\n",
    "    '''\n",
    "    # Initialise solution arrays\n",
    "    nsteps = int((tspan[1] - tspan[0]) / h)\n",
    "    t = np.zeros(nsteps + 1)\n",
    "    y = np.zeros((nsteps + 1, len(y0)))\n",
    "    t[0] = tspan[0]\n",
    "    y[0,:] = y0\n",
    "    \n",
    "    # Solver loop\n",
    "    for n in range(nsteps):\n",
    "        k1 = f(t[n], y[n,:])\n",
    "        k2 = f(t[n] + 0.5 * h, y[n,:] + 0.5 * h * k1)\n",
    "        y[n+1,:] = y[n,:] + h * k2\n",
    "        t[n+1] = t[n] + h\n",
    "        \n",
    "    return t, y"
   ]
  },
  {
   "cell_type": "markdown",
   "metadata": {},
   "source": [
    "The code below invokes the shooting method with the RK2 solver to solve the BVP from [example 1](#Example-1). "
   ]
  },
  {
   "cell_type": "code",
   "execution_count": 9,
   "metadata": {},
   "outputs": [
    {
     "data": {
      "image/png": "[encoded data removed]",
      "text/plain": [
       "<matplotlib.figure.Figure at 0x11b0e5b38>"
      ]
     },
     "metadata": {},
     "output_type": "display_data"
    }
   ],
   "source": [
    "# Define BVP parameters\n",
    "tspan = [ 0, 1 ]\n",
    "bvals = [ 0, 2 ]\n",
    "h = 0.2\n",
    "\n",
    "# Use shooting method with RK2 to solve the BVP\n",
    "t, y = shooting_method(rk2, f, tspan, bvals)\n",
    "\n",
    "# Plot solution\n",
    "fig, ax = plt.subplots()\n",
    "\n",
    "ax.plot(t1, y1, 'r-', label='Exact solution')\n",
    "ax.plot(t, y[:, -2], 'bo-', label='RK2 solution')\n",
    "\n",
    "ax.set_xlabel('$t$', fontsize=12)\n",
    "ax.set_ylabel('$y(t)$', fontsize=12)\n",
    "ax.legend()\n",
    "\n",
    "plt.show()"
   ]
  },
  {
   "cell_type": "markdown",
   "metadata": {},
   "source": [
    "Here we can see that we have a much more accurate solution than when we used the Euler method to solve the ODE."
   ]
  },
  {
   "cell_type": "markdown",
   "metadata": {},
   "source": [
    "---\n",
    "## Finite-difference method\n",
    "\n",
    "The [**finite-difference method**](https://en.wikipedia.org/wiki/Finite_difference_method) for solving a BVP converts the BVP into a system of algebraic equations by replacing the derivatives in the ODE with finite-difference approximations derived from the [Taylor series](https://en.wikipedia.org/wiki/Taylor_series). The system of equations is then solved to obtain an approximation of the solution to the BVP.\n",
    "\n",
    "The solution is approximated at discrete points called **nodes** that are equally spaced in the domain. If $N$ nodes are used to **discretise** the domain then the spacing between two nodes is\n",
    "\n",
    "$$ h = \\frac{t_{\\max} - t_{\\min}}{N - 1}, $$\n",
    "\n",
    "and the $t$ value of the $i$th node is calculated using $t_i = t_{\\min} + ih$ and the solution  $y(t_i)$ is denoted by $y_i$ for brevity. The derivatives of $y_i$ are approximated using values of neighbouring nodes $y_{i+1}$, $y_{i-1}$ etc. using expressions derived by truncating the Taylor series and rearranging to make the derivative term the subject. Some common finite-difference approximations are listed in the table below.\n",
    "\n",
    "| Derivative | Finite-difference approximation | Order of accuracy | Name |\n",
    "|:--:|:--:|:--:|:--|\n",
    "| $y'$ | <a id=\"forward_difference\"></a> $\\dfrac{y_{i+1} - y_{i}}{h}$ | 1st | forward difference |\n",
    "| $y'$ | $\\dfrac{y_i - y_{i-1}}{h}$ | 1st | backward difference |\n",
    "| $y'$ | <a id=\"central_difference\"></a>$\\dfrac{y_{i+1} - y_{i-1}}{2h}$ | 2nd | central difference |\n",
    "| $y''$ | <a id=\"symmetric_difference\"></a>$\\dfrac{y_{i-1} - 2y_i + y_{i+1}}{h^2}$ | 2nd | symmetric difference |"
   ]
  },
  {
   "cell_type": "markdown",
   "metadata": {},
   "source": [
    "### Finite-difference solutions to a boundary value problem\n",
    "\n",
    "The solution to a BVP using then finite-difference method is determined by approximating the derivatives in the ODE using finite-differences. Consider the following BVP \n",
    "\n",
    "\\begin{align*}\n",
    "    y'' &= f(t, y), & t &\\in [t_{\\min}, t_{\\max}], & y(t_{\\min}) &= y_0, & y(t_{\\max}) &= y_N\n",
    "\\end{align*}\n",
    "\n",
    "Using the [symmetric difference](#symmetric_difference) to approximate $y''$ in the ODE we have\n",
    "\n",
    "\\begin{align*}\n",
    "    y_{i-1} - 2y_i + y_{i+1} &= h^2 f(t_i, y_i), & i &= 1, 2, \\ldots, N-1.\n",
    "\\end{align*}\n",
    "\n",
    "This is a linear system of $N-1$ equations. The values of the nodes at the lower and upper boundaries, $y_0$ and $y_N$, are known so the we can reduce this system to $N-3$ equations where\n",
    "\n",
    "\\begin{align*}\n",
    "    -2y_1 + y_2 &= h^2 f(t_1, y_1) - y_0, \\\\\n",
    "    y_{i-1} - 2y_i + y_{i+1} &= h^2 f(t_i, y_i), & i &= 2, 3, \\ldots, N-2, \\\\\n",
    "    y_{N-2} - 2y_{N-1} &= h^2 f(t_{N-1}, y_{N-1}) - y_N.\n",
    "\\end{align*}\n",
    "\n",
    "This can be expressed as a matrix equation\n",
    "\n",
    "\\begin{align*}\n",
    "    \\pmatrix{-2 & 1 \\\\\n",
    "    1 & -2 & 1 \\\\\n",
    "    & \\ddots & \\ddots & \\ddots \\\\\n",
    "    & & 1 & -2 & 1 \\\\ \n",
    "    & & & 1 & -2}\n",
    "    \\pmatrix{y_1 \\\\ y_2 \\\\ \\vdots \\\\ y_{N-2} \\\\ y_{N-1}} =\n",
    "    \\pmatrix{f(t_1, y_1) - y_0, \\\\ f(t_2, y_2) \\\\ \\vdots \\\\ f(t_{N-2},y_{N-2}) \\\\ f(t_{N-1}, y_{N-1}) - y_N}.\n",
    "\\end{align*}"
   ]
  },
  {
   "cell_type": "markdown",
   "metadata": {},
   "source": [
    "### The Thomas algorithm\n",
    "We have seen above that the matrix equation resulting from a second-order two-point BVP has a tridiagnal coefficient matrix. This means we can use the [**Thomas Algorithm**](https://en.wikipedia.org/wiki/Tridiagonal_matrix_algorithm) which is a form of Gaussian elimination and very efficient for solving tridiagonal systems.\n",
    "\n",
    "Given a linear tridagonal system of the form $A\\mathbf{x} = \\mathbf{d}$ then let $a_i$, $b_i$, $c_i$ be the elements on the lower, main and upperdiagonals of the coefficient matrix $A$ and $d_i$ be the values of the right-hand side vector $\\mathbf{d}$\n",
    "\n",
    "$$\\pmatrix{ b_0 & c_0 \\\\\n",
    "            a_1 & b_1 & c_1 \\\\\n",
    "                & \\ddots & \\ddots & \\ddots \\\\\n",
    "                &        & a_{N-1} & b_{N-1} & c_{N-1} \\\\\n",
    "                &        &         & a_{N}   & b_{N}}\n",
    "\\pmatrix{ x_0 \\\\ x_1 \\\\ \\vdots \\\\ x_{N-1} \\\\ x_{N} } =\n",
    "\\pmatrix{ d_0 \\\\ d_1 \\\\ \\vdots \\\\ d_{N-1} \\\\ d_{N} },\n",
    "$$\n",
    "\n",
    "The Thomas algorithm first uses a forward sweep to apply row operations to the values of $b_i$ and $d_i$ before solving for the values of $x_i$ by back substitition.\n",
    "\n",
    "Forward sweep:\n",
    "\n",
    "\\begin{align*}\n",
    "    b_i &= b_i - \\frac{a_i}{b_{i-1}} c_{i-1}, & i &= 2, 3, \\ldots N \\\\\n",
    "    d_i &= d_i - \\frac{a_i}{b_{i-1}} d_{i-1}, & i &= 2, 3, \\ldots N.\n",
    "\\end{align*}\n",
    "\n",
    "Back substitution\n",
    "\n",
    "\\begin{align*}\n",
    "    x_n &= \\frac{d_N}{b_N}, \\\\\n",
    "    x_i &= \\frac{d_i - c_i x_{i+1}}{b_i}, & i &= N-1, N-2, \\ldots, 1.\n",
    "\\end{align*}\n",
    "\n",
    "The function below solves a tridiagonal linear system using the Thomas algorithm given inputs of the arrays for $a_i$, $b_i$, $c_i$ and $d_i$."
   ]
  },
  {
   "cell_type": "code",
   "execution_count": 10,
   "metadata": {
    "collapsed": true
   },
   "outputs": [],
   "source": [
    "def tridiag_solver(a, b, c, d):\n",
    "    '''\n",
    "    Calculates the solution to a tridiagonal linear system of equations using\n",
    "    the Thomas algorithm\n",
    "    '''\n",
    "    # Forward sweep\n",
    "    for i in range(1, len(b)):\n",
    "        w = a[i] / b[i-1]\n",
    "        b[i] = b[i] - w * c[i-1]\n",
    "        d[i] = d[i] - w * d[i-1]\n",
    "\n",
    "    # Back substitution\n",
    "    x = np.zeros(b.shape)\n",
    "    x[-1] = d[-1] / b[-1]\n",
    "    for i in range(len(b)-2, -1, -1):\n",
    "        x[i] = (d[i] - c[i] * x[i+1]) / b[i]\n",
    "        \n",
    "    return x"
   ]
  },
  {
   "cell_type": "markdown",
   "metadata": {},
   "source": [
    "#### Example 3\n",
    "Use the finite-difference method to solve the BVP given in [example 1](#Example-1)\n",
    "\n",
    "\\begin{align*}\n",
    "    y'' - y' - y &= 0, & t &\\in [0, 1], & y(0) &= 1, & y(1) = 2.\n",
    "\\end{align*}\n",
    "\n",
    "Using a [forward difference](forward_difference) to approximate $y'$ and a [symmetric difference](#symmetric_difference) to approximate $y''$ we have\n",
    "\n",
    "\\begin{align*}\n",
    "    \\frac{y_{i-1} - 2y_i + y_{i+1}}{h^2} - \\frac{y_{i+1} - y_{i}}{h} - y_i &= 0.\n",
    "\\end{align*}\n",
    "\n",
    "Which can be simplified to \n",
    "\n",
    "\\begin{align*}\n",
    "    y_{i-1} + (h - h^2 - 2)y_i + (1 - h)y_{i+1} = 0.\n",
    "\\end{align*}\n",
    "\n",
    "with the nodes adjacent to the lower and upper boundaries \n",
    "\n",
    "\\begin{align*}\n",
    "    (h - h^2 - 2)y_1 + (1 - h)y_2 &= -y_0, \\\\\n",
    "    y_{N-2} + (h - h^2 - 2)y_{N-1} &= -(1 - h)y_N.\n",
    "\\end{align*}\n",
    "\n",
    "We can write the linear system as the matrix equation\n",
    "\n",
    "\\begin{align*}\n",
    "    \\pmatrix{\n",
    "        h - h^2 - 2 & 1 - h & \\\\\n",
    "        1 & h - h^2 - 2 & 1 - h \\\\\n",
    "          & 1 &  h - h^2 - 2 & 1 - h \\\\\n",
    "          & & \\ddots & \\ddots & \\ddots \\\\\n",
    "          & &        &   1  &  h - h^2 - 2 & 1 - h \\\\\n",
    "          & &        &        & 1 &  h - h^2 - 2\n",
    "    }\n",
    "    \\pmatrix{ y_1 \\\\ y_2 \\\\ y_3 \\\\ \\vdots \\\\ y_{N-2} \\\\ y_{N-1} } =\n",
    "    \\pmatrix{ -y_0 \\\\ 0 \\\\ 0 \\\\ \\vdots \\\\ 0 \\\\ -y_N}.\n",
    "\\end{align*}\n",
    "\n",
    " The code below defines this linear system and solves it using the Thomas algorithm. "
   ]
  },
  {
   "cell_type": "code",
   "execution_count": 11,
   "metadata": {},
   "outputs": [
    {
     "data": {
      "image/png": "[encoded data removed]",
      "text/plain": [
       "<matplotlib.figure.Figure at 0x11b086588>"
      ]
     },
     "metadata": {},
     "output_type": "display_data"
    }
   ],
   "source": [
    "# Define BVP parameters\n",
    "tspan = [ 0, 1 ]      # t domain\n",
    "bvals = [ 0, 2 ]      # boundary values\n",
    "h = 0.2               # step length\n",
    "\n",
    "# Discretise domain\n",
    "h = 0.2\n",
    "N = int((tspan[1] - tspan[0]) / h) + 1\n",
    "t = np.linspace(tspan[0], tspan[1], N)\n",
    "y = np.zeros(t.shape)\n",
    "y[0] = bvals[0]\n",
    "y[-1] = bvals[1]\n",
    "\n",
    "# Define linear system\n",
    "a = np.ones(N - 2)\n",
    "b = (h - h ** 2 - 2) * np.ones(N - 2)\n",
    "c = (1 - h) * np.ones(N - 2)\n",
    "d = np.zeros(N - 2)\n",
    "d[0] = d[0] - y[0]\n",
    "d[-1] = d[-1] - (1 - h) * y[-1]\n",
    "\n",
    "# Solve linear system\n",
    "y[1:-1] = tridiag_solver(a, b, c, d)\n",
    "\n",
    "# Plot solution\n",
    "fig, ax = plt.subplots()\n",
    "\n",
    "ax.plot(t1, y1, 'r-', label='exact solution')\n",
    "ax.plot(t, y, 'bo-', label='finite-difference solution')\n",
    "\n",
    "ax.set_xlabel('$t$', fontsize=12)\n",
    "ax.set_ylabel('$y(t)$', fontsize=12)\n",
    "ax.legend()\n",
    "\n",
    "plt.show()"
   ]
  },
  {
   "cell_type": "markdown",
   "metadata": {},
   "source": [
    "### Accuracy vs number of nodes\n",
    "\n",
    "The solutions seen in [example 3](#Example-3) seem to show that the finite-difference method produces reasonably accurate results for this BVP. One way to improve on the accuracy of our solution is to increase the number of nodes used. \n",
    "\n",
    "#### Example 4\n",
    "Solve the following BVP using the finite-difference method with $N=51$ and $N=501$ nodes \n",
    "\n",
    "\\begin{align*}\n",
    "    y'' + 3ty' + 7y &= \\cos(2t), & t &\\in [0, 3], & y(0) &= 1, & y(3) &= 0.\n",
    "\\end{align*}\n",
    "\n",
    "Using [forward](#forward_difference) and [symmetric differences](#symmetric_difference) to approximate $y'$ and $y''$ respectively results in the following system\n",
    "\n",
    "\\begin{align*}\n",
    "    (7h^2 - 3ht_1 - 2) y_1 + (1 + 3ht_1)y_2 &= h^2 \\cos(2t_1) - y_0, \\\\\n",
    "    y_{i-1} + (7h^2 - 3ht_i - 2) y_i + (1 + 3ht_i)y_{i+1} &= h^2 \\cos(2t_i), \\qquad \\qquad i = 2, 3 \\ldots N-3, \\\\\n",
    "    y_{N-2} + (7h^2 - 3ht_{N-1} - 2)y_{N-1} &= h^2 \\cos(2t_{N-1}) - (1 + 3ht_N) y(3).\n",
    "\\end{align*}\n",
    "\n",
    "The code below calculates the solution to this system using $N=51$ and $N=501$ nodes and compares the solutions in a plot."
   ]
  },
  {
   "cell_type": "code",
   "execution_count": 12,
   "metadata": {},
   "outputs": [
    {
     "data": {
      "image/png": "[encoded data removed]",
      "text/plain": [
       "<matplotlib.figure.Figure at 0x11b20f940>"
      ]
     },
     "metadata": {},
     "output_type": "display_data"
    }
   ],
   "source": [
    "# Define BVP parameteres\n",
    "tspan = [ 0 , 3 ]\n",
    "bvals = [ 1, 0 ]\n",
    "\n",
    "# Solve using 50 and 501 nodes\n",
    "for N in [ 51, 501 ]:\n",
    "\n",
    "    # Discretise domain\n",
    "    h = (tspan[1] - tspan[0]) / (N - 1)\n",
    "    t = np.linspace(tspan[0], tspan[1], N)\n",
    "    y = np.zeros(t.shape)\n",
    "    y[0] = bvals[0]\n",
    "    y[-1] = bvals[1]\n",
    "\n",
    "    # Define linear system\n",
    "    a = np.ones(N - 2)\n",
    "    b = 7 * h**2 - 3 * h * t[1:-1] - 2 \n",
    "    c = 1 + 3 * h * t[1:-1]\n",
    "    d = h**2 * np.cos(2 * t[1:-1])\n",
    "    d[0] = d[0] - y[0]\n",
    "    d[-1] = d[-1]\n",
    "\n",
    "    # Solve linear system\n",
    "    y[1:-1] = tridiag_solver(a, b, c, d)\n",
    "    \n",
    "    # Save solutions\n",
    "    if N == 51:\n",
    "        t1, y1 = t, y\n",
    "    else:\n",
    "        t2, y2 = t, y\n",
    "\n",
    "# Plot solutions\n",
    "fig, ax = plt.subplots()\n",
    "\n",
    "ax.plot(t1, y1, 'b-', label='$N=51$')\n",
    "ax.plot(t2, y2, 'r-', label='$N=501$')\n",
    "\n",
    "ax.set_title(\"Solution to the BVP $y'' + 3ty + 7y = \\cos(2t)$, $y(0)=1$, $y(3)=0$\")\n",
    "ax.set_xlabel('$t$', fontsize=12)\n",
    "ax.set_ylabel('$y(t)$', fontsize=12)\n",
    "ax.legend()\n",
    "\n",
    "plt.show()"
   ]
  },
  {
   "cell_type": "markdown",
   "metadata": {},
   "source": [
    "Here we can see that the solution using $N=51$ nodes is inaccurate when compared to the solution using $N=501$ nodes (we expect the more nodes used the more accurate the result). As well as increasing the number of nodes, another way we can improve our solution is to use a higher order approximation of the $y'$ derivative. \n",
    "\n",
    "Using the [central difference](#central_difference) (which is second-order accurate) to approximate $y'$ results in the following tridiagonal linear system\n",
    "\n",
    "\\begin{align*}\n",
    "\\left( 1 - \\frac{3}{2} h t_i \\right) y_{i-1} + (7h^2 - 2) y_i + \\left(1 + \\frac{3}{2} h t_i \\right) y_{i+1} &= h^2 \\cos(2 t_i), \\qquad  i = 2, 3, \\ldots, N-2, \\\\\n",
    "    (7 h^2  - 2) y_1 + \\left(1 + \\frac{3}{2} h \\right) y_2 &= h^2 \\cos(2 t_1) - \\left(1 - \\frac{3}{2} h t_0 \\right) y_0, \\\\\n",
    "    \\left(1 - \\frac{3}{2} h t_{N-1} \\right) y_{N-2} + (7h^2 - 2) y_{N-1} &= h^2 \\cos(2 t_{N-1} - \\left( 1 + \\frac{3}{2} h t_N \\right) y_N.\n",
    "\\end{align*}\n",
    "\n",
    "The code below solves this system using $N=51$ and $N=501$ nodes and compares it to the solution using $N=501$ nodes for the first-order foward difference to approximate the $y'$ term."
   ]
  },
  {
   "cell_type": "code",
   "execution_count": 16,
   "metadata": {},
   "outputs": [
    {
     "data": {
      "image/png": "[encoded data removed]",
      "text/plain": [
       "<matplotlib.figure.Figure at 0x11b2353c8>"
      ]
     },
     "metadata": {},
     "output_type": "display_data"
    }
   ],
   "source": [
    "# Solve BVP using 51 and 501 nodes\n",
    "for N in [ 51, 501 ]:\n",
    "\n",
    "    # Discretise domain\n",
    "    h = (tspan[1] - tspan[0])/(N - 1)\n",
    "    t = np.linspace(tspan[0], tspan[1], N)\n",
    "    y = np.zeros(t.shape)\n",
    "    y[0] = bvals[0]\n",
    "    y[-1] = bvals[1]\n",
    "\n",
    "    # Define linear system\n",
    "    a = 1 - 3 / 2 * h * t[1:-1]\n",
    "    b = (7 * h**2 - 2) * np.ones(N - 2)\n",
    "    c = 1 + 3 / 2 * h * t[1:-1]\n",
    "    d = h**2 * np.cos(2 * t[1:-1])\n",
    "    d[0] = d[0] - (1 - 3 / 2 * h * t[0]) * y[0]\n",
    "    d[-1] = d[-1] - (1 + 3 / 2 * h * t[-1]) * y[-1]\n",
    "\n",
    "    # Solve linear system\n",
    "    y[1:-1] = tridiag_solver(a, b, c, d)\n",
    "    \n",
    "    # Save solutions\n",
    "    if N == 51:\n",
    "        t3, y3 = t, y\n",
    "    else:\n",
    "        t4, y4 = t, y\n",
    "\n",
    "# Plot solutions\n",
    "fig, ax = plt.subplots()\n",
    "\n",
    "ax.plot(t2, y2, 'r-', label='forward difference $N=501$')\n",
    "ax.plot(t3, y3, 'b-', label='central difference $N=51$')\n",
    "ax.plot(t4, y4, 'g-', label='central difference $N=501$')\n",
    "\n",
    "ax.set_title(\"Solution to the BVP $y'' + 3ty + 7y = \\cos(2t)$, $y(0)=1$, $y(3)=0$\")\n",
    "ax.set_xlabel('$t$', fontsize=12)\n",
    "ax.set_ylabel('$y(t)$', fontsize=12)\n",
    "ax.legend()\n",
    "\n",
    "plt.show()"
   ]
  },
  {
   "cell_type": "markdown",
   "metadata": {},
   "source": [
    "Here we can see that there is very little difference between the solutions using $N=51$ and $N=501$ nodes for the central difference approximation showing that $N=51$ nodes is adequate."
   ]
  },
  {
   "cell_type": "markdown",
   "metadata": {},
   "source": [
    "---\n",
    "## Summary\n",
    "\n",
    "- A two-point BVP is defined by a second-order ODE where the solutions at the lower and upper boundaries are known.\n",
    "- The shooting method guesses the initial value for $y'(0)$ and alters the guess by comparing the computed solution at the upper boundary to the known solution.\n",
    "- The Secant root finding method is used to calculate improved estimates of the guess value.\n",
    "- The finite-difference method uses finite-difference approximations of the derivatives in the ODE to derive a tridiagonal linear system of equations that approximates the solution to the boundary value problem.\n",
    "- The Taylor series is a very efficient algorithm for solving tridiagonal linear systems of equations.\n",
    "- The higher the order of a method, the fewer nodes are required to achieve the same accuracy."
   ]
  }
 ],
 "metadata": {
  "kernelspec": {
   "display_name": "Python 3",
   "language": "python",
   "name": "python3"
  },
  "language_info": {
   "codemirror_mode": {
    "name": "ipython",
    "version": 3
   },
   "file_extension": ".py",
   "mimetype": "text/x-python",
   "name": "python",
   "nbconvert_exporter": "python",
   "pygments_lexer": "ipython3",
   "version": "3.6.2"
  }
 },
 "nbformat": 4,
 "nbformat_minor": 2
}
